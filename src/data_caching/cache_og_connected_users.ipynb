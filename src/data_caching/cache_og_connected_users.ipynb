{
 "cells": [
  {
   "cell_type": "code",
   "execution_count": 29,
   "id": "aaa8bf34-5446-4f1d-9126-b250747c1c59",
   "metadata": {},
   "outputs": [
    {
     "data": {
      "text/plain": [
       "True"
      ]
     },
     "execution_count": 29,
     "metadata": {},
     "output_type": "execute_result"
    }
   ],
   "source": [
    "import boto3\n",
    "import json\n",
    "import sys\n",
    "from botocore.exceptions import ClientError\n",
    "import os\n",
    "from dotenv import load_dotenv\n",
    "import pandas as pd\n",
    "\n",
    "data_ingestion_path = os.path.abspath(os.path.join('..', 'data_ingestion'))\n",
    "if data_ingestion_path not in sys.path:\n",
    "    sys.path.append(data_ingestion_path)\n",
    "\n",
    "from fetch_data import DataFetcher\n",
    "fetcher = DataFetcher()\n",
    "\n",
    "load_dotenv()"
   ]
  },
  {
   "cell_type": "code",
   "execution_count": 5,
   "id": "f70c560b-e1f2-45b9-b403-fc1c918b31ce",
   "metadata": {},
   "outputs": [
    {
     "data": {
      "text/html": [
       "<div>\n",
       "<style scoped>\n",
       "    .dataframe tbody tr th:only-of-type {\n",
       "        vertical-align: middle;\n",
       "    }\n",
       "\n",
       "    .dataframe tbody tr th {\n",
       "        vertical-align: top;\n",
       "    }\n",
       "\n",
       "    .dataframe thead th {\n",
       "        text-align: right;\n",
       "    }\n",
       "</style>\n",
       "<table border=\"1\" class=\"dataframe\">\n",
       "  <thead>\n",
       "    <tr style=\"text-align: right;\">\n",
       "      <th></th>\n",
       "      <th>fid</th>\n",
       "      <th>follower_count</th>\n",
       "      <th>linked_fids</th>\n",
       "    </tr>\n",
       "  </thead>\n",
       "  <tbody>\n",
       "    <tr>\n",
       "      <th>count</th>\n",
       "      <td>28088.000000</td>\n",
       "      <td>28088.000000</td>\n",
       "      <td>28088.000000</td>\n",
       "    </tr>\n",
       "    <tr>\n",
       "      <th>mean</th>\n",
       "      <td>308731.911884</td>\n",
       "      <td>1044.131942</td>\n",
       "      <td>3.004664</td>\n",
       "    </tr>\n",
       "    <tr>\n",
       "      <th>std</th>\n",
       "      <td>180477.471712</td>\n",
       "      <td>5266.991996</td>\n",
       "      <td>6.677540</td>\n",
       "    </tr>\n",
       "    <tr>\n",
       "      <th>min</th>\n",
       "      <td>10004.000000</td>\n",
       "      <td>0.000000</td>\n",
       "      <td>1.000000</td>\n",
       "    </tr>\n",
       "    <tr>\n",
       "      <th>25%</th>\n",
       "      <td>212749.500000</td>\n",
       "      <td>83.000000</td>\n",
       "      <td>1.000000</td>\n",
       "    </tr>\n",
       "    <tr>\n",
       "      <th>50%</th>\n",
       "      <td>306936.000000</td>\n",
       "      <td>354.000000</td>\n",
       "      <td>1.000000</td>\n",
       "    </tr>\n",
       "    <tr>\n",
       "      <th>75%</th>\n",
       "      <td>420566.000000</td>\n",
       "      <td>991.250000</td>\n",
       "      <td>2.000000</td>\n",
       "    </tr>\n",
       "    <tr>\n",
       "      <th>max</th>\n",
       "      <td>862499.000000</td>\n",
       "      <td>326758.000000</td>\n",
       "      <td>175.000000</td>\n",
       "    </tr>\n",
       "  </tbody>\n",
       "</table>\n",
       "</div>"
      ],
      "text/plain": [
       "                 fid  follower_count   linked_fids\n",
       "count   28088.000000    28088.000000  28088.000000\n",
       "mean   308731.911884     1044.131942      3.004664\n",
       "std    180477.471712     5266.991996      6.677540\n",
       "min     10004.000000        0.000000      1.000000\n",
       "25%    212749.500000       83.000000      1.000000\n",
       "50%    306936.000000      354.000000      1.000000\n",
       "75%    420566.000000      991.250000      2.000000\n",
       "max    862499.000000   326758.000000    175.000000"
      ]
     },
     "execution_count": 5,
     "metadata": {},
     "output_type": "execute_result"
    }
   ],
   "source": [
    "df.describe()"
   ]
  },
  {
   "cell_type": "code",
   "execution_count": 11,
   "id": "6862e637-95a2-4ed0-8efc-02061cbc3a3e",
   "metadata": {},
   "outputs": [],
   "source": [
    "df_two_linked = df.loc[df['linked_fids'] > 2]"
   ]
  },
  {
   "cell_type": "code",
   "execution_count": 12,
   "id": "0edc7a0a-ec7d-4464-8c5c-3e5eab04f266",
   "metadata": {},
   "outputs": [
    {
     "data": {
      "text/plain": [
       "6318"
      ]
     },
     "execution_count": 12,
     "metadata": {},
     "output_type": "execute_result"
    }
   ],
   "source": [
    "len(df_two_linked)"
   ]
  },
  {
   "cell_type": "code",
   "execution_count": 14,
   "id": "78508bf2-bd23-456a-a772-4dab8a5e8fbf",
   "metadata": {},
   "outputs": [],
   "source": [
    "df_two_linked_500_followers = df_two_linked.loc[df_two_linked['follower_count'] > 500]"
   ]
  },
  {
   "cell_type": "code",
   "execution_count": 24,
   "id": "5ecd0182-74bd-4ba5-a503-9c2d6ede28e5",
   "metadata": {},
   "outputs": [],
   "source": [
    "second_tranche_cached_fids = df_two_linked_500_followers"
   ]
  },
  {
   "cell_type": "code",
   "execution_count": 34,
   "id": "26cc7f9e-80c6-4d44-bf0e-541e3cf07109",
   "metadata": {},
   "outputs": [
    {
     "data": {
      "text/html": [
       "<div>\n",
       "<style scoped>\n",
       "    .dataframe tbody tr th:only-of-type {\n",
       "        vertical-align: middle;\n",
       "    }\n",
       "\n",
       "    .dataframe tbody tr th {\n",
       "        vertical-align: top;\n",
       "    }\n",
       "\n",
       "    .dataframe thead th {\n",
       "        text-align: right;\n",
       "    }\n",
       "</style>\n",
       "<table border=\"1\" class=\"dataframe\">\n",
       "  <thead>\n",
       "    <tr style=\"text-align: right;\">\n",
       "      <th></th>\n",
       "      <th>fid</th>\n",
       "      <th>follower_count</th>\n",
       "      <th>linked_fids</th>\n",
       "    </tr>\n",
       "  </thead>\n",
       "  <tbody>\n",
       "    <tr>\n",
       "      <th>0</th>\n",
       "      <td>244902</td>\n",
       "      <td>23680</td>\n",
       "      <td>78</td>\n",
       "    </tr>\n",
       "    <tr>\n",
       "      <th>2</th>\n",
       "      <td>11510</td>\n",
       "      <td>16580</td>\n",
       "      <td>101</td>\n",
       "    </tr>\n",
       "    <tr>\n",
       "      <th>4</th>\n",
       "      <td>272717</td>\n",
       "      <td>3398</td>\n",
       "      <td>22</td>\n",
       "    </tr>\n",
       "    <tr>\n",
       "      <th>5</th>\n",
       "      <td>20929</td>\n",
       "      <td>7288</td>\n",
       "      <td>50</td>\n",
       "    </tr>\n",
       "    <tr>\n",
       "      <th>7</th>\n",
       "      <td>13563</td>\n",
       "      <td>7017</td>\n",
       "      <td>29</td>\n",
       "    </tr>\n",
       "  </tbody>\n",
       "</table>\n",
       "</div>"
      ],
      "text/plain": [
       "      fid  follower_count  linked_fids\n",
       "0  244902           23680           78\n",
       "2   11510           16580          101\n",
       "4  272717            3398           22\n",
       "5   20929            7288           50\n",
       "7   13563            7017           29"
      ]
     },
     "execution_count": 34,
     "metadata": {},
     "output_type": "execute_result"
    }
   ],
   "source": [
    "second_tranche_cached_fids.head()"
   ]
  },
  {
   "cell_type": "code",
   "execution_count": 37,
   "id": "52c46b22-3ad2-41b7-8876-9fd7928910e9",
   "metadata": {},
   "outputs": [],
   "source": [
    "second_tranche_cached_fids = list(set(second_tranche_cached_fids['fid']))"
   ]
  },
  {
   "cell_type": "code",
   "execution_count": 38,
   "id": "d5f88477-3c3d-4c9e-b708-02b75aaf637f",
   "metadata": {},
   "outputs": [],
   "source": [
    "def get_important_users(fids):\n",
    "    fetcher.get_all_users_data_s3(fids)"
   ]
  },
  {
   "cell_type": "code",
   "execution_count": null,
   "id": "29be20ae-284e-4065-97e2-0e182cc1eba8",
   "metadata": {
    "collapsed": true,
    "jupyter": {
     "outputs_hidden": true
    }
   },
   "outputs": [
    {
     "name": "stdout",
     "output_type": "stream",
     "text": [
      "Processing FID: 335872 (1/3944)\n"
     ]
    },
    {
     "name": "stderr",
     "output_type": "stream",
     "text": [
      "INFO:fetch_data:Retrieved 4 messages total...\n",
      "INFO:fetch_data:Retrieved 327 messages total...\n",
      "INFO:fetch_data:Retrieved 1 messages total...\n",
      "INFO:fetch_data:Collecting casts for user 335872.....\n",
      "INFO:fetch_data:Retrieved 328 messages total...\n",
      "INFO:fetch_data:Retrieved 194 replies for user: 335872...\n",
      "INFO:fetch_data:Retrieved 90 messages total...\n"
     ]
    },
    {
     "name": "stdout",
     "output_type": "stream",
     "text": [
      "Collecting connections metadata for FID: 335872\n",
      "Added connections metadata to user data for FID: 335872\n"
     ]
    },
    {
     "name": "stderr",
     "output_type": "stream",
     "text": [
      "INFO:fetch_data:Successfully uploaded user_user_335872_data.json_data.json to cloud-cartography\n"
     ]
    },
    {
     "name": "stdout",
     "output_type": "stream",
     "text": [
      "Successfully uploaded data for FID: 335872 to S3.\n",
      "Completed processing for FID: 335872\n",
      "\n",
      "Processing FID: 253953 (2/3944)\n"
     ]
    },
    {
     "name": "stderr",
     "output_type": "stream",
     "text": [
      "INFO:fetch_data:Retrieved 4 messages total...\n",
      "INFO:fetch_data:Retrieved 297 messages total...\n",
      "INFO:fetch_data:Retrieved 108 messages total...\n",
      "INFO:fetch_data:Collecting casts for user 253953.....\n",
      "INFO:fetch_data:Retrieved 122 messages total...\n",
      "INFO:fetch_data:Retrieved 101 replies for user: 253953...\n",
      "INFO:fetch_data:Retrieved 361 messages total...\n"
     ]
    },
    {
     "name": "stdout",
     "output_type": "stream",
     "text": [
      "Collecting connections metadata for FID: 253953\n",
      "Added connections metadata to user data for FID: 253953\n"
     ]
    },
    {
     "name": "stderr",
     "output_type": "stream",
     "text": [
      "INFO:fetch_data:Successfully uploaded user_user_253953_data.json_data.json to cloud-cartography\n"
     ]
    },
    {
     "name": "stdout",
     "output_type": "stream",
     "text": [
      "Successfully uploaded data for FID: 253953 to S3.\n",
      "Completed processing for FID: 253953\n",
      "\n",
      "Processing FID: 212994 (3/3944)\n"
     ]
    },
    {
     "name": "stderr",
     "output_type": "stream",
     "text": [
      "INFO:fetch_data:Retrieved 4 messages total...\n",
      "INFO:fetch_data:Retrieved 1000 messages total...\n",
      "INFO:fetch_data:Retrieved 2000 messages total...\n",
      "INFO:fetch_data:Retrieved 2389 messages total...\n",
      "INFO:fetch_data:Retrieved 102 messages total...\n",
      "INFO:fetch_data:Collecting casts for user 212994.....\n",
      "INFO:fetch_data:Retrieved 1000 messages total...\n",
      "INFO:fetch_data:Retrieved 1722 messages total...\n",
      "INFO:fetch_data:Retrieved 1120 replies for user: 212994...\n",
      "INFO:fetch_data:Retrieved 539 messages total...\n"
     ]
    },
    {
     "name": "stdout",
     "output_type": "stream",
     "text": [
      "Collecting connections metadata for FID: 212994\n",
      "Added connections metadata to user data for FID: 212994\n"
     ]
    },
    {
     "name": "stderr",
     "output_type": "stream",
     "text": [
      "INFO:fetch_data:Successfully uploaded user_user_212994_data.json_data.json to cloud-cartography\n"
     ]
    },
    {
     "name": "stdout",
     "output_type": "stream",
     "text": [
      "Successfully uploaded data for FID: 212994 to S3.\n",
      "Completed processing for FID: 212994\n",
      "\n",
      "Processing FID: 188416 (4/3944)\n"
     ]
    },
    {
     "name": "stderr",
     "output_type": "stream",
     "text": [
      "INFO:fetch_data:Retrieved 4 messages total...\n",
      "INFO:fetch_data:Retrieved 260 messages total...\n",
      "INFO:fetch_data:Retrieved 35 messages total...\n",
      "INFO:fetch_data:Collecting casts for user 188416.....\n",
      "INFO:fetch_data:Retrieved 418 messages total...\n",
      "INFO:fetch_data:Retrieved 304 replies for user: 188416...\n",
      "INFO:fetch_data:Retrieved 232 messages total...\n"
     ]
    },
    {
     "name": "stdout",
     "output_type": "stream",
     "text": [
      "Collecting connections metadata for FID: 188416\n",
      "Added connections metadata to user data for FID: 188416\n"
     ]
    },
    {
     "name": "stderr",
     "output_type": "stream",
     "text": [
      "INFO:fetch_data:Successfully uploaded user_user_188416_data.json_data.json to cloud-cartography\n"
     ]
    },
    {
     "name": "stdout",
     "output_type": "stream",
     "text": [
      "Successfully uploaded data for FID: 188416 to S3.\n",
      "Completed processing for FID: 188416\n",
      "\n",
      "Processing FID: 188422 (5/3944)\n"
     ]
    },
    {
     "name": "stderr",
     "output_type": "stream",
     "text": [
      "INFO:fetch_data:Retrieved 4 messages total...\n",
      "INFO:fetch_data:Retrieved 581 messages total...\n",
      "INFO:fetch_data:Retrieved 117 messages total...\n",
      "INFO:fetch_data:Collecting casts for user 188422.....\n",
      "INFO:fetch_data:Retrieved 413 messages total...\n",
      "INFO:fetch_data:Retrieved 11 replies for user: 188422...\n",
      "INFO:fetch_data:Retrieved 1000 messages total...\n",
      "INFO:fetch_data:Retrieved 1962 messages total...\n"
     ]
    },
    {
     "name": "stdout",
     "output_type": "stream",
     "text": [
      "Collecting connections metadata for FID: 188422\n",
      "Added connections metadata to user data for FID: 188422\n"
     ]
    },
    {
     "name": "stderr",
     "output_type": "stream",
     "text": [
      "INFO:fetch_data:Successfully uploaded user_user_188422_data.json_data.json to cloud-cartography\n"
     ]
    },
    {
     "name": "stdout",
     "output_type": "stream",
     "text": [
      "Successfully uploaded data for FID: 188422 to S3.\n",
      "Completed processing for FID: 188422\n",
      "\n",
      "Processing FID: 393225 (6/3944)\n"
     ]
    },
    {
     "name": "stderr",
     "output_type": "stream",
     "text": [
      "INFO:fetch_data:Retrieved 4 messages total...\n",
      "INFO:fetch_data:Retrieved 1000 messages total...\n",
      "INFO:fetch_data:Retrieved 2000 messages total...\n",
      "INFO:fetch_data:Retrieved 3000 messages total...\n",
      "INFO:fetch_data:Retrieved 4000 messages total...\n",
      "INFO:fetch_data:Retrieved 5000 messages total...\n",
      "INFO:fetch_data:Retrieved 6000 messages total...\n",
      "INFO:fetch_data:Retrieved 7000 messages total...\n",
      "INFO:fetch_data:Retrieved 8000 messages total...\n",
      "INFO:fetch_data:Retrieved 9000 messages total...\n",
      "INFO:fetch_data:Retrieved 10000 messages total...\n",
      "INFO:fetch_data:Retrieved 10882 messages total...\n",
      "INFO:fetch_data:Retrieved 1000 messages total...\n",
      "INFO:fetch_data:Retrieved 2000 messages total...\n",
      "INFO:fetch_data:Retrieved 3000 messages total...\n",
      "INFO:fetch_data:Retrieved 4000 messages total...\n",
      "INFO:fetch_data:Retrieved 4953 messages total...\n",
      "INFO:fetch_data:Collecting casts for user 393225.....\n",
      "INFO:fetch_data:Retrieved 1000 messages total...\n",
      "INFO:fetch_data:Retrieved 2000 messages total...\n",
      "INFO:fetch_data:Retrieved 3000 messages total...\n",
      "INFO:fetch_data:Retrieved 4000 messages total...\n",
      "INFO:fetch_data:Retrieved 5000 messages total...\n",
      "INFO:fetch_data:Retrieved 6000 messages total...\n",
      "INFO:fetch_data:Retrieved 7000 messages total...\n",
      "INFO:fetch_data:Retrieved 7637 messages total...\n",
      "INFO:fetch_data:Retrieved 6801 replies for user: 393225...\n",
      "INFO:fetch_data:Retrieved 1000 messages total...\n",
      "INFO:fetch_data:Retrieved 1525 messages total...\n"
     ]
    },
    {
     "name": "stdout",
     "output_type": "stream",
     "text": [
      "Collecting connections metadata for FID: 393225\n",
      "Added connections metadata to user data for FID: 393225\n"
     ]
    },
    {
     "name": "stderr",
     "output_type": "stream",
     "text": [
      "INFO:fetch_data:Successfully uploaded user_user_393225_data.json_data.json to cloud-cartography\n"
     ]
    },
    {
     "name": "stdout",
     "output_type": "stream",
     "text": [
      "Successfully uploaded data for FID: 393225 to S3.\n",
      "Completed processing for FID: 393225\n",
      "\n",
      "Processing FID: 647182 (7/3944)\n"
     ]
    },
    {
     "name": "stderr",
     "output_type": "stream",
     "text": [
      "INFO:fetch_data:Retrieved 4 messages total...\n",
      "INFO:fetch_data:Retrieved 1000 messages total...\n",
      "INFO:fetch_data:Retrieved 2000 messages total...\n",
      "INFO:fetch_data:Retrieved 2490 messages total...\n",
      "INFO:fetch_data:Retrieved 9 messages total...\n",
      "INFO:fetch_data:Collecting casts for user 647182.....\n",
      "INFO:fetch_data:Retrieved 1000 messages total...\n",
      "INFO:fetch_data:Retrieved 2000 messages total...\n",
      "INFO:fetch_data:Retrieved 3000 messages total...\n",
      "INFO:fetch_data:Retrieved 4000 messages total...\n",
      "INFO:fetch_data:Retrieved 5000 messages total...\n",
      "INFO:fetch_data:Retrieved 5000 messages total...\n",
      "INFO:fetch_data:Retrieved 4987 replies for user: 647182...\n",
      "INFO:fetch_data:Retrieved 831 messages total...\n"
     ]
    },
    {
     "name": "stdout",
     "output_type": "stream",
     "text": [
      "Collecting connections metadata for FID: 647182\n",
      "Added connections metadata to user data for FID: 647182\n"
     ]
    },
    {
     "name": "stderr",
     "output_type": "stream",
     "text": [
      "INFO:fetch_data:Successfully uploaded user_user_647182_data.json_data.json to cloud-cartography\n"
     ]
    },
    {
     "name": "stdout",
     "output_type": "stream",
     "text": [
      "Successfully uploaded data for FID: 647182 to S3.\n",
      "Completed processing for FID: 647182\n",
      "\n",
      "Processing FID: 458767 (8/3944)\n"
     ]
    },
    {
     "name": "stderr",
     "output_type": "stream",
     "text": [
      "INFO:fetch_data:Retrieved 4 messages total...\n",
      "INFO:fetch_data:Retrieved 1000 messages total...\n",
      "INFO:fetch_data:Retrieved 2000 messages total...\n",
      "INFO:fetch_data:Retrieved 3000 messages total...\n",
      "INFO:fetch_data:Retrieved 4000 messages total...\n",
      "INFO:fetch_data:Retrieved 5000 messages total...\n",
      "INFO:fetch_data:Retrieved 6000 messages total...\n",
      "INFO:fetch_data:Retrieved 7000 messages total...\n",
      "INFO:fetch_data:Retrieved 7036 messages total...\n",
      "INFO:fetch_data:Retrieved 454 messages total...\n",
      "INFO:fetch_data:Collecting casts for user 458767.....\n",
      "INFO:fetch_data:Retrieved 1000 messages total...\n",
      "INFO:fetch_data:Retrieved 2000 messages total...\n",
      "INFO:fetch_data:Retrieved 3000 messages total...\n",
      "INFO:fetch_data:Retrieved 4000 messages total...\n",
      "INFO:fetch_data:Retrieved 5000 messages total...\n",
      "INFO:fetch_data:Retrieved 6000 messages total...\n",
      "INFO:fetch_data:Retrieved 7000 messages total...\n",
      "INFO:fetch_data:Retrieved 8000 messages total...\n",
      "INFO:fetch_data:Retrieved 9000 messages total...\n",
      "INFO:fetch_data:Retrieved 10000 messages total...\n",
      "INFO:fetch_data:Retrieved 11000 messages total...\n",
      "INFO:fetch_data:Retrieved 12000 messages total...\n",
      "INFO:fetch_data:Retrieved 13000 messages total...\n",
      "INFO:fetch_data:Retrieved 14000 messages total...\n",
      "INFO:fetch_data:Retrieved 15000 messages total...\n",
      "INFO:fetch_data:Retrieved 15000 messages total...\n",
      "INFO:fetch_data:Retrieved 12247 replies for user: 458767...\n",
      "INFO:fetch_data:Retrieved 1000 messages total...\n",
      "INFO:fetch_data:Retrieved 1214 messages total...\n"
     ]
    },
    {
     "name": "stdout",
     "output_type": "stream",
     "text": [
      "Collecting connections metadata for FID: 458767\n",
      "Added connections metadata to user data for FID: 458767\n"
     ]
    },
    {
     "name": "stderr",
     "output_type": "stream",
     "text": [
      "INFO:fetch_data:Successfully uploaded user_user_458767_data.json_data.json to cloud-cartography\n"
     ]
    },
    {
     "name": "stdout",
     "output_type": "stream",
     "text": [
      "Successfully uploaded data for FID: 458767 to S3.\n",
      "Completed processing for FID: 458767\n",
      "\n",
      "Processing FID: 426003 (9/3944)\n"
     ]
    },
    {
     "name": "stderr",
     "output_type": "stream",
     "text": [
      "INFO:fetch_data:Retrieved 4 messages total...\n",
      "INFO:fetch_data:Retrieved 1000 messages total...\n",
      "INFO:fetch_data:Retrieved 2000 messages total...\n",
      "INFO:fetch_data:Retrieved 3000 messages total...\n",
      "INFO:fetch_data:Retrieved 4000 messages total...\n",
      "INFO:fetch_data:Retrieved 4986 messages total...\n",
      "INFO:fetch_data:Retrieved 622 messages total...\n",
      "INFO:fetch_data:Collecting casts for user 426003.....\n",
      "INFO:fetch_data:Retrieved 1000 messages total...\n",
      "INFO:fetch_data:Retrieved 2000 messages total...\n",
      "INFO:fetch_data:Retrieved 2506 messages total...\n",
      "INFO:fetch_data:Retrieved 1829 replies for user: 426003...\n",
      "INFO:fetch_data:Retrieved 531 messages total...\n"
     ]
    },
    {
     "name": "stdout",
     "output_type": "stream",
     "text": [
      "Collecting connections metadata for FID: 426003\n",
      "Added connections metadata to user data for FID: 426003\n"
     ]
    },
    {
     "name": "stderr",
     "output_type": "stream",
     "text": [
      "INFO:fetch_data:Successfully uploaded user_user_426003_data.json_data.json to cloud-cartography\n"
     ]
    },
    {
     "name": "stdout",
     "output_type": "stream",
     "text": [
      "Successfully uploaded data for FID: 426003 to S3.\n",
      "Completed processing for FID: 426003\n",
      "\n",
      "Processing FID: 16405 (10/3944)\n"
     ]
    },
    {
     "name": "stderr",
     "output_type": "stream",
     "text": [
      "INFO:fetch_data:Retrieved 4 messages total...\n",
      "INFO:fetch_data:Retrieved 1000 messages total...\n",
      "INFO:fetch_data:Retrieved 2000 messages total...\n",
      "INFO:fetch_data:Retrieved 3000 messages total...\n",
      "INFO:fetch_data:Retrieved 4000 messages total...\n",
      "INFO:fetch_data:Retrieved 5000 messages total...\n",
      "INFO:fetch_data:Retrieved 6000 messages total...\n",
      "INFO:fetch_data:Retrieved 7000 messages total...\n",
      "INFO:fetch_data:Retrieved 8000 messages total...\n",
      "INFO:fetch_data:Retrieved 8782 messages total...\n",
      "INFO:fetch_data:Retrieved 113 messages total...\n",
      "INFO:fetch_data:Collecting casts for user 16405.....\n",
      "INFO:fetch_data:Retrieved 1000 messages total...\n",
      "INFO:fetch_data:Retrieved 2000 messages total...\n",
      "INFO:fetch_data:Retrieved 3000 messages total...\n",
      "INFO:fetch_data:Retrieved 3561 messages total...\n",
      "INFO:fetch_data:Retrieved 2883 replies for user: 16405...\n",
      "INFO:fetch_data:Retrieved 375 messages total...\n"
     ]
    },
    {
     "name": "stdout",
     "output_type": "stream",
     "text": [
      "Collecting connections metadata for FID: 16405\n",
      "Added connections metadata to user data for FID: 16405\n"
     ]
    },
    {
     "name": "stderr",
     "output_type": "stream",
     "text": [
      "INFO:fetch_data:Successfully uploaded user_user_16405_data.json_data.json to cloud-cartography\n"
     ]
    },
    {
     "name": "stdout",
     "output_type": "stream",
     "text": [
      "Successfully uploaded data for FID: 16405 to S3.\n",
      "Completed processing for FID: 16405\n",
      "\n",
      "Processing FID: 278549 (11/3944)\n"
     ]
    },
    {
     "name": "stderr",
     "output_type": "stream",
     "text": [
      "INFO:fetch_data:Retrieved 4 messages total...\n",
      "INFO:fetch_data:Retrieved 1000 messages total...\n",
      "INFO:fetch_data:Retrieved 2000 messages total...\n",
      "INFO:fetch_data:Retrieved 2414 messages total...\n",
      "INFO:fetch_data:Retrieved 78 messages total...\n",
      "INFO:fetch_data:Collecting casts for user 278549.....\n",
      "INFO:fetch_data:Retrieved 1000 messages total...\n",
      "INFO:fetch_data:Retrieved 2000 messages total...\n",
      "INFO:fetch_data:Retrieved 3000 messages total...\n",
      "INFO:fetch_data:Retrieved 4000 messages total...\n",
      "INFO:fetch_data:Retrieved 4275 messages total...\n",
      "INFO:fetch_data:Retrieved 3447 replies for user: 278549...\n",
      "INFO:fetch_data:Retrieved 515 messages total...\n"
     ]
    },
    {
     "name": "stdout",
     "output_type": "stream",
     "text": [
      "Collecting connections metadata for FID: 278549\n",
      "Added connections metadata to user data for FID: 278549\n"
     ]
    },
    {
     "name": "stderr",
     "output_type": "stream",
     "text": [
      "INFO:fetch_data:Successfully uploaded user_user_278549_data.json_data.json to cloud-cartography\n"
     ]
    },
    {
     "name": "stdout",
     "output_type": "stream",
     "text": [
      "Successfully uploaded data for FID: 278549 to S3.\n",
      "Completed processing for FID: 278549\n",
      "\n",
      "Processing FID: 16407 (12/3944)\n"
     ]
    },
    {
     "name": "stderr",
     "output_type": "stream",
     "text": [
      "INFO:fetch_data:Retrieved 4 messages total...\n",
      "INFO:fetch_data:Retrieved 1000 messages total...\n",
      "INFO:fetch_data:Retrieved 2000 messages total...\n",
      "INFO:fetch_data:Retrieved 2595 messages total...\n",
      "INFO:fetch_data:Retrieved 102 messages total...\n",
      "INFO:fetch_data:Collecting casts for user 16407.....\n",
      "INFO:fetch_data:Retrieved 363 messages total...\n",
      "INFO:fetch_data:Retrieved 183 replies for user: 16407...\n",
      "INFO:fetch_data:Retrieved 1000 messages total...\n",
      "INFO:fetch_data:Retrieved 1037 messages total...\n"
     ]
    },
    {
     "name": "stdout",
     "output_type": "stream",
     "text": [
      "Collecting connections metadata for FID: 16407\n",
      "Added connections metadata to user data for FID: 16407\n"
     ]
    },
    {
     "name": "stderr",
     "output_type": "stream",
     "text": [
      "INFO:fetch_data:Successfully uploaded user_user_16407_data.json_data.json to cloud-cartography\n"
     ]
    },
    {
     "name": "stdout",
     "output_type": "stream",
     "text": [
      "Successfully uploaded data for FID: 16407 to S3.\n",
      "Completed processing for FID: 16407\n",
      "\n",
      "Processing FID: 335897 (13/3944)\n"
     ]
    },
    {
     "name": "stderr",
     "output_type": "stream",
     "text": [
      "INFO:fetch_data:Retrieved 4 messages total...\n",
      "INFO:fetch_data:Retrieved 1000 messages total...\n",
      "INFO:fetch_data:Retrieved 2000 messages total...\n",
      "INFO:fetch_data:Retrieved 3000 messages total...\n",
      "INFO:fetch_data:Retrieved 4000 messages total...\n",
      "INFO:fetch_data:Retrieved 5000 messages total...\n",
      "INFO:fetch_data:Retrieved 6000 messages total...\n",
      "INFO:fetch_data:Retrieved 7000 messages total...\n",
      "INFO:fetch_data:Retrieved 8000 messages total...\n",
      "INFO:fetch_data:Retrieved 9000 messages total...\n",
      "INFO:fetch_data:Retrieved 10000 messages total...\n",
      "INFO:fetch_data:Retrieved 11000 messages total...\n",
      "INFO:fetch_data:Retrieved 12000 messages total...\n",
      "INFO:fetch_data:Retrieved 13000 messages total...\n",
      "INFO:fetch_data:Retrieved 14000 messages total...\n",
      "INFO:fetch_data:Retrieved 15000 messages total...\n",
      "INFO:fetch_data:Retrieved 16000 messages total...\n",
      "INFO:fetch_data:Retrieved 17000 messages total...\n",
      "INFO:fetch_data:Retrieved 18000 messages total...\n",
      "INFO:fetch_data:Retrieved 19000 messages total...\n",
      "INFO:fetch_data:Retrieved 20000 messages total...\n",
      "INFO:fetch_data:Retrieved 21000 messages total...\n",
      "INFO:fetch_data:Retrieved 22000 messages total...\n",
      "INFO:fetch_data:Retrieved 23000 messages total...\n",
      "INFO:fetch_data:Retrieved 24000 messages total...\n",
      "INFO:fetch_data:Retrieved 25000 messages total...\n",
      "INFO:fetch_data:Retrieved 25535 messages total...\n",
      "INFO:fetch_data:Retrieved 1000 messages total...\n",
      "INFO:fetch_data:Retrieved 1711 messages total...\n",
      "INFO:fetch_data:Collecting casts for user 335897.....\n",
      "INFO:fetch_data:Retrieved 1000 messages total...\n",
      "INFO:fetch_data:Retrieved 2000 messages total...\n",
      "INFO:fetch_data:Retrieved 3000 messages total...\n",
      "INFO:fetch_data:Retrieved 4000 messages total...\n",
      "INFO:fetch_data:Retrieved 5000 messages total...\n",
      "INFO:fetch_data:Retrieved 6000 messages total...\n",
      "INFO:fetch_data:Retrieved 6668 messages total...\n",
      "INFO:fetch_data:Retrieved 5474 replies for user: 335897...\n",
      "INFO:fetch_data:Retrieved 1000 messages total...\n",
      "INFO:fetch_data:Retrieved 2000 messages total...\n",
      "INFO:fetch_data:Retrieved 3000 messages total...\n",
      "INFO:fetch_data:Retrieved 3070 messages total...\n"
     ]
    },
    {
     "name": "stdout",
     "output_type": "stream",
     "text": [
      "Collecting connections metadata for FID: 335897\n",
      "Added connections metadata to user data for FID: 335897\n"
     ]
    },
    {
     "name": "stderr",
     "output_type": "stream",
     "text": [
      "INFO:fetch_data:Successfully uploaded user_user_335897_data.json_data.json to cloud-cartography\n"
     ]
    },
    {
     "name": "stdout",
     "output_type": "stream",
     "text": [
      "Successfully uploaded data for FID: 335897 to S3.\n",
      "Completed processing for FID: 335897\n",
      "\n",
      "Processing FID: 417819 (14/3944)\n"
     ]
    },
    {
     "name": "stderr",
     "output_type": "stream",
     "text": [
      "INFO:fetch_data:Retrieved 4 messages total...\n",
      "INFO:fetch_data:Retrieved 1000 messages total...\n",
      "INFO:fetch_data:Retrieved 2000 messages total...\n",
      "INFO:fetch_data:Retrieved 3000 messages total...\n",
      "INFO:fetch_data:Retrieved 4000 messages total...\n",
      "INFO:fetch_data:Retrieved 5000 messages total...\n",
      "INFO:fetch_data:Retrieved 6000 messages total...\n",
      "INFO:fetch_data:Retrieved 7000 messages total...\n",
      "INFO:fetch_data:Retrieved 8000 messages total...\n",
      "INFO:fetch_data:Retrieved 9000 messages total...\n",
      "INFO:fetch_data:Retrieved 10000 messages total...\n",
      "INFO:fetch_data:Retrieved 11000 messages total...\n",
      "INFO:fetch_data:Retrieved 12000 messages total...\n",
      "INFO:fetch_data:Retrieved 13000 messages total...\n",
      "INFO:fetch_data:Retrieved 14000 messages total...\n",
      "INFO:fetch_data:Retrieved 14598 messages total...\n",
      "INFO:fetch_data:Retrieved 850 messages total...\n",
      "INFO:fetch_data:Collecting casts for user 417819.....\n",
      "INFO:fetch_data:Retrieved 1000 messages total...\n",
      "INFO:fetch_data:Retrieved 2000 messages total...\n",
      "INFO:fetch_data:Retrieved 3000 messages total...\n",
      "INFO:fetch_data:Retrieved 4000 messages total...\n",
      "INFO:fetch_data:Retrieved 4454 messages total...\n",
      "INFO:fetch_data:Retrieved 3572 replies for user: 417819...\n",
      "INFO:fetch_data:Retrieved 1000 messages total...\n",
      "INFO:fetch_data:Retrieved 2000 messages total...\n",
      "INFO:fetch_data:Retrieved 2097 messages total...\n"
     ]
    },
    {
     "name": "stdout",
     "output_type": "stream",
     "text": [
      "Collecting connections metadata for FID: 417819\n",
      "Added connections metadata to user data for FID: 417819\n"
     ]
    },
    {
     "name": "stderr",
     "output_type": "stream",
     "text": [
      "INFO:fetch_data:Successfully uploaded user_user_417819_data.json_data.json to cloud-cartography\n"
     ]
    },
    {
     "name": "stdout",
     "output_type": "stream",
     "text": [
      "Successfully uploaded data for FID: 417819 to S3.\n",
      "Completed processing for FID: 417819\n",
      "\n",
      "Processing FID: 311327 (15/3944)\n"
     ]
    },
    {
     "name": "stderr",
     "output_type": "stream",
     "text": [
      "INFO:fetch_data:Retrieved 4 messages total...\n",
      "INFO:fetch_data:Retrieved 1000 messages total...\n",
      "INFO:fetch_data:Retrieved 2000 messages total...\n",
      "INFO:fetch_data:Retrieved 3000 messages total...\n",
      "INFO:fetch_data:Retrieved 4000 messages total...\n",
      "INFO:fetch_data:Retrieved 5000 messages total...\n",
      "INFO:fetch_data:Retrieved 6000 messages total...\n",
      "INFO:fetch_data:Retrieved 7000 messages total...\n",
      "INFO:fetch_data:Retrieved 8000 messages total...\n",
      "INFO:fetch_data:Retrieved 9000 messages total...\n",
      "INFO:fetch_data:Retrieved 10000 messages total...\n",
      "INFO:fetch_data:Retrieved 11000 messages total...\n",
      "INFO:fetch_data:Retrieved 12000 messages total...\n",
      "INFO:fetch_data:Retrieved 13000 messages total...\n",
      "INFO:fetch_data:Retrieved 14000 messages total...\n",
      "INFO:fetch_data:Retrieved 15000 messages total...\n",
      "INFO:fetch_data:Retrieved 15752 messages total...\n",
      "INFO:fetch_data:Retrieved 1000 messages total...\n",
      "INFO:fetch_data:Retrieved 2000 messages total...\n",
      "INFO:fetch_data:Retrieved 3000 messages total...\n",
      "INFO:fetch_data:Retrieved 4000 messages total...\n",
      "INFO:fetch_data:Retrieved 4653 messages total...\n",
      "INFO:fetch_data:Collecting casts for user 311327.....\n",
      "INFO:fetch_data:Retrieved 1000 messages total...\n",
      "INFO:fetch_data:Retrieved 2000 messages total...\n",
      "INFO:fetch_data:Retrieved 3000 messages total...\n",
      "INFO:fetch_data:Retrieved 4000 messages total...\n",
      "INFO:fetch_data:Retrieved 4280 messages total...\n",
      "INFO:fetch_data:Retrieved 3709 replies for user: 311327...\n",
      "INFO:fetch_data:Retrieved 1000 messages total...\n",
      "INFO:fetch_data:Retrieved 2000 messages total...\n",
      "INFO:fetch_data:Retrieved 3000 messages total...\n",
      "INFO:fetch_data:Retrieved 3365 messages total...\n"
     ]
    },
    {
     "name": "stdout",
     "output_type": "stream",
     "text": [
      "Collecting connections metadata for FID: 311327\n",
      "Added connections metadata to user data for FID: 311327\n"
     ]
    },
    {
     "name": "stderr",
     "output_type": "stream",
     "text": [
      "INFO:fetch_data:Successfully uploaded user_user_311327_data.json_data.json to cloud-cartography\n"
     ]
    },
    {
     "name": "stdout",
     "output_type": "stream",
     "text": [
      "Successfully uploaded data for FID: 311327 to S3.\n",
      "Completed processing for FID: 311327\n",
      "\n",
      "Processing FID: 221216 (16/3944)\n"
     ]
    },
    {
     "name": "stderr",
     "output_type": "stream",
     "text": [
      "INFO:fetch_data:Retrieved 4 messages total...\n",
      "INFO:fetch_data:Retrieved 1000 messages total...\n",
      "INFO:fetch_data:Retrieved 2000 messages total...\n",
      "INFO:fetch_data:Retrieved 2385 messages total...\n",
      "INFO:fetch_data:Retrieved 110 messages total...\n",
      "INFO:fetch_data:Collecting casts for user 221216.....\n",
      "INFO:fetch_data:Retrieved 1000 messages total...\n",
      "INFO:fetch_data:Retrieved 1347 messages total...\n",
      "INFO:fetch_data:Retrieved 628 replies for user: 221216...\n",
      "INFO:fetch_data:Retrieved 257 messages total...\n"
     ]
    },
    {
     "name": "stdout",
     "output_type": "stream",
     "text": [
      "Collecting connections metadata for FID: 221216\n",
      "Added connections metadata to user data for FID: 221216\n"
     ]
    },
    {
     "name": "stderr",
     "output_type": "stream",
     "text": [
      "INFO:fetch_data:Successfully uploaded user_user_221216_data.json_data.json to cloud-cartography\n"
     ]
    },
    {
     "name": "stdout",
     "output_type": "stream",
     "text": [
      "Successfully uploaded data for FID: 221216 to S3.\n",
      "Completed processing for FID: 221216\n",
      "\n",
      "Processing FID: 483365 (17/3944)\n"
     ]
    },
    {
     "name": "stderr",
     "output_type": "stream",
     "text": [
      "INFO:fetch_data:Retrieved 4 messages total...\n",
      "INFO:fetch_data:Retrieved 1000 messages total...\n",
      "INFO:fetch_data:Retrieved 2000 messages total...\n",
      "INFO:fetch_data:Retrieved 3000 messages total...\n",
      "INFO:fetch_data:Retrieved 4000 messages total...\n",
      "INFO:fetch_data:Retrieved 5000 messages total...\n",
      "INFO:fetch_data:Retrieved 6000 messages total...\n",
      "INFO:fetch_data:Retrieved 7000 messages total...\n",
      "INFO:fetch_data:Retrieved 8000 messages total...\n",
      "INFO:fetch_data:Retrieved 9000 messages total...\n",
      "INFO:fetch_data:Retrieved 10000 messages total...\n",
      "INFO:fetch_data:Retrieved 11000 messages total...\n",
      "INFO:fetch_data:Retrieved 11757 messages total...\n",
      "INFO:fetch_data:Retrieved 1000 messages total...\n",
      "INFO:fetch_data:Retrieved 2000 messages total...\n",
      "INFO:fetch_data:Retrieved 3000 messages total...\n",
      "INFO:fetch_data:Retrieved 4000 messages total...\n",
      "INFO:fetch_data:Retrieved 5000 messages total...\n",
      "INFO:fetch_data:Retrieved 6000 messages total...\n",
      "INFO:fetch_data:Retrieved 7000 messages total...\n",
      "INFO:fetch_data:Retrieved 8000 messages total...\n",
      "INFO:fetch_data:Retrieved 8202 messages total...\n",
      "INFO:fetch_data:Collecting casts for user 483365.....\n",
      "INFO:fetch_data:Retrieved 1000 messages total...\n",
      "INFO:fetch_data:Retrieved 2000 messages total...\n",
      "INFO:fetch_data:Retrieved 3000 messages total...\n",
      "INFO:fetch_data:Retrieved 4000 messages total...\n",
      "INFO:fetch_data:Retrieved 5000 messages total...\n",
      "INFO:fetch_data:Retrieved 6000 messages total...\n",
      "INFO:fetch_data:Retrieved 7000 messages total...\n",
      "INFO:fetch_data:Retrieved 8000 messages total...\n",
      "INFO:fetch_data:Retrieved 9000 messages total...\n",
      "INFO:fetch_data:Retrieved 10000 messages total...\n",
      "INFO:fetch_data:Retrieved 11000 messages total...\n",
      "INFO:fetch_data:Retrieved 12000 messages total...\n",
      "INFO:fetch_data:Retrieved 13000 messages total...\n",
      "INFO:fetch_data:Retrieved 14000 messages total...\n",
      "INFO:fetch_data:Retrieved 15000 messages total...\n",
      "INFO:fetch_data:Retrieved 16000 messages total...\n",
      "INFO:fetch_data:Retrieved 17000 messages total...\n",
      "INFO:fetch_data:Retrieved 18000 messages total...\n",
      "INFO:fetch_data:Retrieved 19000 messages total...\n",
      "INFO:fetch_data:Retrieved 20000 messages total...\n",
      "INFO:fetch_data:Retrieved 21000 messages total...\n",
      "INFO:fetch_data:Retrieved 22000 messages total...\n",
      "INFO:fetch_data:Retrieved 22967 messages total...\n",
      "INFO:fetch_data:Retrieved 22144 replies for user: 483365...\n",
      "INFO:fetch_data:Retrieved 808 messages total...\n"
     ]
    },
    {
     "name": "stdout",
     "output_type": "stream",
     "text": [
      "Collecting connections metadata for FID: 483365\n",
      "Added connections metadata to user data for FID: 483365\n"
     ]
    },
    {
     "name": "stderr",
     "output_type": "stream",
     "text": [
      "INFO:fetch_data:Successfully uploaded user_user_483365_data.json_data.json to cloud-cartography\n"
     ]
    },
    {
     "name": "stdout",
     "output_type": "stream",
     "text": [
      "Successfully uploaded data for FID: 483365 to S3.\n",
      "Completed processing for FID: 483365\n",
      "\n",
      "Processing FID: 196648 (18/3944)\n"
     ]
    },
    {
     "name": "stderr",
     "output_type": "stream",
     "text": [
      "INFO:fetch_data:Retrieved 4 messages total...\n",
      "INFO:fetch_data:Retrieved 1000 messages total...\n",
      "INFO:fetch_data:Retrieved 2000 messages total...\n",
      "INFO:fetch_data:Retrieved 2424 messages total...\n",
      "INFO:fetch_data:Retrieved 662 messages total...\n",
      "INFO:fetch_data:Collecting casts for user 196648.....\n",
      "INFO:fetch_data:Retrieved 1000 messages total...\n",
      "INFO:fetch_data:Retrieved 1801 messages total...\n",
      "INFO:fetch_data:Retrieved 1196 replies for user: 196648...\n",
      "INFO:fetch_data:Retrieved 1000 messages total...\n",
      "INFO:fetch_data:Retrieved 1304 messages total...\n"
     ]
    },
    {
     "name": "stdout",
     "output_type": "stream",
     "text": [
      "Collecting connections metadata for FID: 196648\n",
      "Added connections metadata to user data for FID: 196648\n"
     ]
    },
    {
     "name": "stderr",
     "output_type": "stream",
     "text": [
      "INFO:fetch_data:Successfully uploaded user_user_196648_data.json_data.json to cloud-cartography\n"
     ]
    },
    {
     "name": "stdout",
     "output_type": "stream",
     "text": [
      "Successfully uploaded data for FID: 196648 to S3.\n",
      "Completed processing for FID: 196648\n",
      "\n",
      "Processing FID: 16426 (19/3944)\n"
     ]
    },
    {
     "name": "stderr",
     "output_type": "stream",
     "text": [
      "INFO:fetch_data:Retrieved 4 messages total...\n",
      "INFO:fetch_data:Retrieved 115 messages total...\n",
      "INFO:fetch_data:Retrieved 5 messages total...\n",
      "INFO:fetch_data:Collecting casts for user 16426.....\n",
      "INFO:fetch_data:Retrieved 191 messages total...\n",
      "INFO:fetch_data:Retrieved 27 replies for user: 16426...\n",
      "INFO:fetch_data:Retrieved 128 messages total...\n"
     ]
    },
    {
     "name": "stdout",
     "output_type": "stream",
     "text": [
      "Collecting connections metadata for FID: 16426\n",
      "Added connections metadata to user data for FID: 16426\n"
     ]
    },
    {
     "name": "stderr",
     "output_type": "stream",
     "text": [
      "INFO:fetch_data:Successfully uploaded user_user_16426_data.json_data.json to cloud-cartography\n"
     ]
    },
    {
     "name": "stdout",
     "output_type": "stream",
     "text": [
      "Successfully uploaded data for FID: 16426 to S3.\n",
      "Completed processing for FID: 16426\n",
      "\n",
      "Processing FID: 303146 (20/3944)\n"
     ]
    },
    {
     "name": "stderr",
     "output_type": "stream",
     "text": [
      "INFO:fetch_data:Retrieved 4 messages total...\n",
      "INFO:fetch_data:Retrieved 289 messages total...\n",
      "INFO:fetch_data:Retrieved 3 messages total...\n",
      "INFO:fetch_data:Collecting casts for user 303146.....\n",
      "INFO:fetch_data:Retrieved 412 messages total...\n",
      "INFO:fetch_data:Retrieved 247 replies for user: 303146...\n",
      "INFO:fetch_data:Retrieved 1000 messages total...\n",
      "INFO:fetch_data:Retrieved 2000 messages total...\n",
      "INFO:fetch_data:Retrieved 3000 messages total...\n",
      "INFO:fetch_data:Retrieved 4000 messages total...\n",
      "INFO:fetch_data:Retrieved 5000 messages total...\n",
      "INFO:fetch_data:Retrieved 5014 messages total...\n"
     ]
    },
    {
     "name": "stdout",
     "output_type": "stream",
     "text": [
      "Collecting connections metadata for FID: 303146\n",
      "Added connections metadata to user data for FID: 303146\n"
     ]
    },
    {
     "name": "stderr",
     "output_type": "stream",
     "text": [
      "INFO:fetch_data:Successfully uploaded user_user_303146_data.json_data.json to cloud-cartography\n"
     ]
    },
    {
     "name": "stdout",
     "output_type": "stream",
     "text": [
      "Successfully uploaded data for FID: 303146 to S3.\n",
      "Completed processing for FID: 303146\n",
      "\n",
      "Processing FID: 409644 (21/3944)\n"
     ]
    },
    {
     "name": "stderr",
     "output_type": "stream",
     "text": [
      "INFO:fetch_data:Retrieved 4 messages total...\n",
      "INFO:fetch_data:Retrieved 1000 messages total...\n",
      "INFO:fetch_data:Retrieved 2000 messages total...\n",
      "INFO:fetch_data:Retrieved 3000 messages total...\n",
      "INFO:fetch_data:Retrieved 4000 messages total...\n",
      "INFO:fetch_data:Retrieved 4600 messages total...\n",
      "INFO:fetch_data:Retrieved 655 messages total...\n",
      "INFO:fetch_data:Collecting casts for user 409644.....\n",
      "INFO:fetch_data:Retrieved 1000 messages total...\n",
      "INFO:fetch_data:Retrieved 2000 messages total...\n",
      "INFO:fetch_data:Retrieved 3000 messages total...\n",
      "INFO:fetch_data:Retrieved 4000 messages total...\n",
      "INFO:fetch_data:Retrieved 5000 messages total...\n",
      "INFO:fetch_data:Retrieved 6000 messages total...\n",
      "INFO:fetch_data:Retrieved 7000 messages total...\n",
      "INFO:fetch_data:Retrieved 7370 messages total...\n",
      "INFO:fetch_data:Retrieved 6236 replies for user: 409644...\n",
      "INFO:fetch_data:Retrieved 363 messages total...\n"
     ]
    },
    {
     "name": "stdout",
     "output_type": "stream",
     "text": [
      "Collecting connections metadata for FID: 409644\n",
      "Added connections metadata to user data for FID: 409644\n"
     ]
    },
    {
     "name": "stderr",
     "output_type": "stream",
     "text": [
      "INFO:fetch_data:Successfully uploaded user_user_409644_data.json_data.json to cloud-cartography\n"
     ]
    },
    {
     "name": "stdout",
     "output_type": "stream",
     "text": [
      "Successfully uploaded data for FID: 409644 to S3.\n",
      "Completed processing for FID: 409644\n",
      "\n",
      "Processing FID: 278572 (22/3944)\n"
     ]
    },
    {
     "name": "stderr",
     "output_type": "stream",
     "text": [
      "INFO:fetch_data:Retrieved 4 messages total...\n",
      "INFO:fetch_data:Retrieved 1000 messages total...\n",
      "INFO:fetch_data:Retrieved 1667 messages total...\n",
      "INFO:fetch_data:Retrieved 819 messages total...\n",
      "INFO:fetch_data:Collecting casts for user 278572.....\n",
      "INFO:fetch_data:Retrieved 1000 messages total...\n",
      "INFO:fetch_data:Retrieved 2000 messages total...\n",
      "INFO:fetch_data:Retrieved 3000 messages total...\n",
      "INFO:fetch_data:Retrieved 4000 messages total...\n",
      "INFO:fetch_data:Retrieved 4423 messages total...\n",
      "INFO:fetch_data:Retrieved 2773 replies for user: 278572...\n",
      "INFO:fetch_data:Retrieved 1000 messages total...\n",
      "INFO:fetch_data:Retrieved 1158 messages total...\n"
     ]
    },
    {
     "name": "stdout",
     "output_type": "stream",
     "text": [
      "Collecting connections metadata for FID: 278572\n",
      "Added connections metadata to user data for FID: 278572\n"
     ]
    },
    {
     "name": "stderr",
     "output_type": "stream",
     "text": [
      "INFO:fetch_data:Successfully uploaded user_user_278572_data.json_data.json to cloud-cartography\n"
     ]
    },
    {
     "name": "stdout",
     "output_type": "stream",
     "text": [
      "Successfully uploaded data for FID: 278572 to S3.\n",
      "Completed processing for FID: 278572\n",
      "\n",
      "Processing FID: 16432 (23/3944)\n"
     ]
    },
    {
     "name": "stderr",
     "output_type": "stream",
     "text": [
      "INFO:fetch_data:Retrieved 4 messages total...\n",
      "INFO:fetch_data:Retrieved 1000 messages total...\n",
      "INFO:fetch_data:Retrieved 1765 messages total...\n",
      "INFO:fetch_data:Retrieved 199 messages total...\n",
      "INFO:fetch_data:Collecting casts for user 16432.....\n",
      "INFO:fetch_data:Retrieved 356 messages total...\n",
      "INFO:fetch_data:Retrieved 174 replies for user: 16432...\n",
      "INFO:fetch_data:Retrieved 1000 messages total...\n",
      "INFO:fetch_data:Retrieved 1305 messages total...\n"
     ]
    },
    {
     "name": "stdout",
     "output_type": "stream",
     "text": [
      "Collecting connections metadata for FID: 16432\n",
      "Added connections metadata to user data for FID: 16432\n"
     ]
    },
    {
     "name": "stderr",
     "output_type": "stream",
     "text": [
      "INFO:fetch_data:Successfully uploaded user_user_16432_data.json_data.json to cloud-cartography\n"
     ]
    },
    {
     "name": "stdout",
     "output_type": "stream",
     "text": [
      "Successfully uploaded data for FID: 16432 to S3.\n",
      "Completed processing for FID: 16432\n",
      "\n",
      "Processing FID: 311346 (24/3944)\n"
     ]
    },
    {
     "name": "stderr",
     "output_type": "stream",
     "text": [
      "INFO:fetch_data:Retrieved 4 messages total...\n",
      "INFO:fetch_data:Retrieved 1000 messages total...\n",
      "INFO:fetch_data:Retrieved 2000 messages total...\n",
      "INFO:fetch_data:Retrieved 2493 messages total...\n",
      "INFO:fetch_data:Retrieved 4 messages total...\n",
      "INFO:fetch_data:Collecting casts for user 311346.....\n",
      "INFO:fetch_data:Retrieved 232 messages total...\n",
      "INFO:fetch_data:Retrieved 66 replies for user: 311346...\n",
      "INFO:fetch_data:Retrieved 40 messages total...\n"
     ]
    },
    {
     "name": "stdout",
     "output_type": "stream",
     "text": [
      "Collecting connections metadata for FID: 311346\n",
      "Added connections metadata to user data for FID: 311346\n"
     ]
    },
    {
     "name": "stderr",
     "output_type": "stream",
     "text": [
      "INFO:fetch_data:Successfully uploaded user_user_311346_data.json_data.json to cloud-cartography\n"
     ]
    },
    {
     "name": "stdout",
     "output_type": "stream",
     "text": [
      "Successfully uploaded data for FID: 311346 to S3.\n",
      "Completed processing for FID: 311346\n",
      "\n",
      "Processing FID: 229430 (25/3944)\n"
     ]
    },
    {
     "name": "stderr",
     "output_type": "stream",
     "text": [
      "INFO:fetch_data:Retrieved 4 messages total...\n",
      "INFO:fetch_data:Retrieved 1000 messages total...\n",
      "INFO:fetch_data:Retrieved 2000 messages total...\n",
      "INFO:fetch_data:Retrieved 2443 messages total...\n",
      "INFO:fetch_data:Retrieved 54 messages total...\n",
      "INFO:fetch_data:Collecting casts for user 229430.....\n",
      "INFO:fetch_data:Retrieved 1000 messages total...\n",
      "INFO:fetch_data:Retrieved 1167 messages total...\n",
      "INFO:fetch_data:Retrieved 645 replies for user: 229430...\n",
      "INFO:fetch_data:Retrieved 547 messages total...\n"
     ]
    },
    {
     "name": "stdout",
     "output_type": "stream",
     "text": [
      "Collecting connections metadata for FID: 229430\n",
      "Added connections metadata to user data for FID: 229430\n"
     ]
    },
    {
     "name": "stderr",
     "output_type": "stream",
     "text": [
      "INFO:fetch_data:Successfully uploaded user_user_229430_data.json_data.json to cloud-cartography\n"
     ]
    },
    {
     "name": "stdout",
     "output_type": "stream",
     "text": [
      "Successfully uploaded data for FID: 229430 to S3.\n",
      "Completed processing for FID: 229430\n",
      "\n",
      "Processing FID: 417850 (26/3944)\n"
     ]
    },
    {
     "name": "stderr",
     "output_type": "stream",
     "text": [
      "INFO:fetch_data:Retrieved 4 messages total...\n",
      "INFO:fetch_data:Retrieved 1000 messages total...\n",
      "INFO:fetch_data:Retrieved 2000 messages total...\n",
      "INFO:fetch_data:Retrieved 2476 messages total...\n",
      "INFO:fetch_data:Retrieved 7 messages total...\n",
      "INFO:fetch_data:Collecting casts for user 417850.....\n",
      "INFO:fetch_data:Retrieved 959 messages total...\n",
      "INFO:fetch_data:Retrieved 593 replies for user: 417850...\n",
      "INFO:fetch_data:Retrieved 144 messages total...\n"
     ]
    },
    {
     "name": "stdout",
     "output_type": "stream",
     "text": [
      "Collecting connections metadata for FID: 417850\n",
      "Added connections metadata to user data for FID: 417850\n"
     ]
    },
    {
     "name": "stderr",
     "output_type": "stream",
     "text": [
      "INFO:fetch_data:Successfully uploaded user_user_417850_data.json_data.json to cloud-cartography\n"
     ]
    },
    {
     "name": "stdout",
     "output_type": "stream",
     "text": [
      "Successfully uploaded data for FID: 417850 to S3.\n",
      "Completed processing for FID: 417850\n",
      "\n",
      "Processing FID: 417851 (27/3944)\n"
     ]
    },
    {
     "name": "stderr",
     "output_type": "stream",
     "text": [
      "INFO:fetch_data:Retrieved 4 messages total...\n",
      "INFO:fetch_data:Retrieved 1000 messages total...\n",
      "INFO:fetch_data:Retrieved 2000 messages total...\n",
      "INFO:fetch_data:Retrieved 3000 messages total...\n",
      "INFO:fetch_data:Retrieved 4000 messages total...\n",
      "INFO:fetch_data:Retrieved 5000 messages total...\n",
      "INFO:fetch_data:Retrieved 5249 messages total...\n",
      "INFO:fetch_data:Retrieved 49 messages total...\n",
      "INFO:fetch_data:Collecting casts for user 417851.....\n",
      "INFO:fetch_data:Retrieved 1000 messages total...\n",
      "INFO:fetch_data:Retrieved 2000 messages total...\n",
      "INFO:fetch_data:Retrieved 3000 messages total...\n",
      "INFO:fetch_data:Retrieved 4000 messages total...\n",
      "INFO:fetch_data:Retrieved 5000 messages total...\n",
      "INFO:fetch_data:Retrieved 6000 messages total...\n",
      "INFO:fetch_data:Retrieved 7000 messages total...\n",
      "INFO:fetch_data:Retrieved 7935 messages total...\n",
      "INFO:fetch_data:Retrieved 7131 replies for user: 417851...\n",
      "INFO:fetch_data:Retrieved 668 messages total...\n"
     ]
    },
    {
     "name": "stdout",
     "output_type": "stream",
     "text": [
      "Collecting connections metadata for FID: 417851\n",
      "Added connections metadata to user data for FID: 417851\n"
     ]
    },
    {
     "name": "stderr",
     "output_type": "stream",
     "text": [
      "INFO:fetch_data:Successfully uploaded user_user_417851_data.json_data.json to cloud-cartography\n"
     ]
    },
    {
     "name": "stdout",
     "output_type": "stream",
     "text": [
      "Successfully uploaded data for FID: 417851 to S3.\n",
      "Completed processing for FID: 417851\n",
      "\n",
      "Processing FID: 426045 (28/3944)\n"
     ]
    },
    {
     "name": "stderr",
     "output_type": "stream",
     "text": [
      "INFO:fetch_data:Retrieved 4 messages total...\n",
      "INFO:fetch_data:Retrieved 1000 messages total...\n",
      "INFO:fetch_data:Retrieved 2000 messages total...\n",
      "INFO:fetch_data:Retrieved 3000 messages total...\n",
      "INFO:fetch_data:Retrieved 4000 messages total...\n",
      "INFO:fetch_data:Retrieved 5000 messages total...\n",
      "INFO:fetch_data:Retrieved 6000 messages total...\n",
      "INFO:fetch_data:Retrieved 7000 messages total...\n",
      "INFO:fetch_data:Retrieved 8000 messages total...\n",
      "INFO:fetch_data:Retrieved 9000 messages total...\n",
      "INFO:fetch_data:Retrieved 10000 messages total...\n",
      "INFO:fetch_data:Retrieved 10681 messages total...\n",
      "INFO:fetch_data:Retrieved 505 messages total...\n",
      "INFO:fetch_data:Collecting casts for user 426045.....\n",
      "INFO:fetch_data:Retrieved 1000 messages total...\n",
      "INFO:fetch_data:Retrieved 2000 messages total...\n",
      "INFO:fetch_data:Retrieved 3000 messages total...\n",
      "INFO:fetch_data:Retrieved 4000 messages total...\n",
      "INFO:fetch_data:Retrieved 5000 messages total...\n",
      "INFO:fetch_data:Retrieved 6000 messages total...\n",
      "INFO:fetch_data:Retrieved 7000 messages total...\n",
      "INFO:fetch_data:Retrieved 7496 messages total...\n",
      "INFO:fetch_data:Retrieved 6507 replies for user: 426045...\n",
      "INFO:fetch_data:Retrieved 660 messages total...\n"
     ]
    },
    {
     "name": "stdout",
     "output_type": "stream",
     "text": [
      "Collecting connections metadata for FID: 426045\n",
      "Added connections metadata to user data for FID: 426045\n"
     ]
    },
    {
     "name": "stderr",
     "output_type": "stream",
     "text": [
      "INFO:fetch_data:Successfully uploaded user_user_426045_data.json_data.json to cloud-cartography\n"
     ]
    },
    {
     "name": "stdout",
     "output_type": "stream",
     "text": [
      "Successfully uploaded data for FID: 426045 to S3.\n",
      "Completed processing for FID: 426045\n",
      "\n",
      "Processing FID: 262206 (29/3944)\n"
     ]
    },
    {
     "name": "stderr",
     "output_type": "stream",
     "text": [
      "INFO:fetch_data:Retrieved 4 messages total...\n",
      "INFO:fetch_data:Retrieved 1000 messages total...\n",
      "INFO:fetch_data:Retrieved 2000 messages total...\n",
      "INFO:fetch_data:Retrieved 2439 messages total...\n",
      "INFO:fetch_data:Retrieved 56 messages total...\n",
      "INFO:fetch_data:Collecting casts for user 262206.....\n",
      "INFO:fetch_data:Retrieved 1000 messages total...\n",
      "INFO:fetch_data:Retrieved 2000 messages total...\n",
      "INFO:fetch_data:Retrieved 3000 messages total...\n",
      "INFO:fetch_data:Retrieved 3061 messages total...\n",
      "INFO:fetch_data:Retrieved 2343 replies for user: 262206...\n",
      "INFO:fetch_data:Retrieved 842 messages total...\n"
     ]
    },
    {
     "name": "stdout",
     "output_type": "stream",
     "text": [
      "Collecting connections metadata for FID: 262206\n",
      "Added connections metadata to user data for FID: 262206\n"
     ]
    },
    {
     "name": "stderr",
     "output_type": "stream",
     "text": [
      "INFO:fetch_data:Successfully uploaded user_user_262206_data.json_data.json to cloud-cartography\n"
     ]
    },
    {
     "name": "stdout",
     "output_type": "stream",
     "text": [
      "Successfully uploaded data for FID: 262206 to S3.\n",
      "Completed processing for FID: 262206\n",
      "\n",
      "Processing FID: 311363 (30/3944)\n"
     ]
    },
    {
     "name": "stderr",
     "output_type": "stream",
     "text": [
      "INFO:fetch_data:Retrieved 4 messages total...\n",
      "INFO:fetch_data:Retrieved 62 messages total...\n",
      "INFO:fetch_data:Retrieved 18 messages total...\n",
      "INFO:fetch_data:Collecting casts for user 311363.....\n",
      "INFO:fetch_data:Retrieved 27 messages total...\n",
      "INFO:fetch_data:Retrieved 14 replies for user: 311363...\n",
      "INFO:fetch_data:Retrieved 71 messages total...\n"
     ]
    },
    {
     "name": "stdout",
     "output_type": "stream",
     "text": [
      "Collecting connections metadata for FID: 311363\n",
      "Added connections metadata to user data for FID: 311363\n"
     ]
    },
    {
     "name": "stderr",
     "output_type": "stream",
     "text": [
      "INFO:fetch_data:Successfully uploaded user_user_311363_data.json_data.json to cloud-cartography\n"
     ]
    },
    {
     "name": "stdout",
     "output_type": "stream",
     "text": [
      "Successfully uploaded data for FID: 311363 to S3.\n",
      "Completed processing for FID: 311363\n",
      "\n",
      "Processing FID: 426053 (31/3944)\n"
     ]
    },
    {
     "name": "stderr",
     "output_type": "stream",
     "text": [
      "INFO:fetch_data:Retrieved 4 messages total...\n",
      "INFO:fetch_data:Retrieved 1000 messages total...\n",
      "INFO:fetch_data:Retrieved 2000 messages total...\n",
      "INFO:fetch_data:Retrieved 2321 messages total...\n",
      "INFO:fetch_data:Retrieved 145 messages total...\n",
      "INFO:fetch_data:Collecting casts for user 426053.....\n",
      "INFO:fetch_data:Retrieved 1000 messages total...\n",
      "INFO:fetch_data:Retrieved 2000 messages total...\n",
      "INFO:fetch_data:Retrieved 3000 messages total...\n",
      "INFO:fetch_data:Retrieved 4000 messages total...\n",
      "INFO:fetch_data:Retrieved 5000 messages total...\n",
      "INFO:fetch_data:Retrieved 5000 messages total...\n",
      "INFO:fetch_data:Retrieved 4168 replies for user: 426053...\n",
      "INFO:fetch_data:Retrieved 652 messages total...\n"
     ]
    },
    {
     "name": "stdout",
     "output_type": "stream",
     "text": [
      "Collecting connections metadata for FID: 426053\n",
      "Added connections metadata to user data for FID: 426053\n"
     ]
    },
    {
     "name": "stderr",
     "output_type": "stream",
     "text": [
      "INFO:fetch_data:Successfully uploaded user_user_426053_data.json_data.json to cloud-cartography\n"
     ]
    },
    {
     "name": "stdout",
     "output_type": "stream",
     "text": [
      "Successfully uploaded data for FID: 426053 to S3.\n",
      "Completed processing for FID: 426053\n",
      "\n",
      "Processing FID: 254022 (32/3944)\n"
     ]
    },
    {
     "name": "stderr",
     "output_type": "stream",
     "text": [
      "INFO:fetch_data:Retrieved 4 messages total...\n",
      "INFO:fetch_data:Retrieved 1000 messages total...\n",
      "INFO:fetch_data:Retrieved 2000 messages total...\n",
      "INFO:fetch_data:Retrieved 2408 messages total...\n",
      "INFO:fetch_data:Retrieved 70 messages total...\n",
      "INFO:fetch_data:Collecting casts for user 254022.....\n",
      "INFO:fetch_data:Retrieved 1000 messages total...\n",
      "INFO:fetch_data:Retrieved 2000 messages total...\n",
      "INFO:fetch_data:Retrieved 3000 messages total...\n",
      "INFO:fetch_data:Retrieved 3419 messages total...\n",
      "INFO:fetch_data:Retrieved 2534 replies for user: 254022...\n",
      "INFO:fetch_data:Retrieved 840 messages total...\n"
     ]
    },
    {
     "name": "stdout",
     "output_type": "stream",
     "text": [
      "Collecting connections metadata for FID: 254022\n",
      "Added connections metadata to user data for FID: 254022\n"
     ]
    },
    {
     "name": "stderr",
     "output_type": "stream",
     "text": [
      "INFO:fetch_data:Successfully uploaded user_user_254022_data.json_data.json to cloud-cartography\n"
     ]
    },
    {
     "name": "stdout",
     "output_type": "stream",
     "text": [
      "Successfully uploaded data for FID: 254022 to S3.\n",
      "Completed processing for FID: 254022\n",
      "\n",
      "Processing FID: 499783 (33/3944)\n"
     ]
    },
    {
     "name": "stderr",
     "output_type": "stream",
     "text": [
      "INFO:fetch_data:Retrieved 4 messages total...\n",
      "INFO:fetch_data:Retrieved 1000 messages total...\n",
      "INFO:fetch_data:Retrieved 2000 messages total...\n",
      "INFO:fetch_data:Retrieved 2405 messages total...\n",
      "INFO:fetch_data:Retrieved 81 messages total...\n",
      "INFO:fetch_data:Collecting casts for user 499783.....\n",
      "INFO:fetch_data:Retrieved 1000 messages total...\n",
      "INFO:fetch_data:Retrieved 2000 messages total...\n",
      "INFO:fetch_data:Retrieved 2439 messages total...\n",
      "INFO:fetch_data:Retrieved 1479 replies for user: 499783...\n",
      "INFO:fetch_data:Retrieved 135 messages total...\n"
     ]
    },
    {
     "name": "stdout",
     "output_type": "stream",
     "text": [
      "Collecting connections metadata for FID: 499783\n",
      "Added connections metadata to user data for FID: 499783\n"
     ]
    },
    {
     "name": "stderr",
     "output_type": "stream",
     "text": [
      "INFO:fetch_data:Successfully uploaded user_user_499783_data.json_data.json to cloud-cartography\n"
     ]
    },
    {
     "name": "stdout",
     "output_type": "stream",
     "text": [
      "Successfully uploaded data for FID: 499783 to S3.\n",
      "Completed processing for FID: 499783\n",
      "\n",
      "Processing FID: 16455 (34/3944)\n"
     ]
    },
    {
     "name": "stderr",
     "output_type": "stream",
     "text": [
      "INFO:fetch_data:Retrieved 4 messages total...\n",
      "INFO:fetch_data:Retrieved 1000 messages total...\n",
      "INFO:fetch_data:Retrieved 2000 messages total...\n",
      "INFO:fetch_data:Retrieved 3000 messages total...\n",
      "INFO:fetch_data:Retrieved 3589 messages total...\n",
      "INFO:fetch_data:Retrieved 173 messages total...\n",
      "INFO:fetch_data:Collecting casts for user 16455.....\n",
      "INFO:fetch_data:Retrieved 352 messages total...\n",
      "INFO:fetch_data:Retrieved 86 replies for user: 16455...\n",
      "INFO:fetch_data:Retrieved 830 messages total...\n"
     ]
    },
    {
     "name": "stdout",
     "output_type": "stream",
     "text": [
      "Collecting connections metadata for FID: 16455\n",
      "Added connections metadata to user data for FID: 16455\n"
     ]
    },
    {
     "name": "stderr",
     "output_type": "stream",
     "text": [
      "INFO:fetch_data:Successfully uploaded user_user_16455_data.json_data.json to cloud-cartography\n"
     ]
    },
    {
     "name": "stdout",
     "output_type": "stream",
     "text": [
      "Successfully uploaded data for FID: 16455 to S3.\n",
      "Completed processing for FID: 16455\n",
      "\n",
      "Processing FID: 278605 (35/3944)\n"
     ]
    },
    {
     "name": "stderr",
     "output_type": "stream",
     "text": [
      "INFO:fetch_data:Retrieved 4 messages total...\n",
      "INFO:fetch_data:Retrieved 1000 messages total...\n",
      "INFO:fetch_data:Retrieved 2000 messages total...\n",
      "INFO:fetch_data:Retrieved 2043 messages total...\n",
      "INFO:fetch_data:Retrieved 62 messages total...\n",
      "INFO:fetch_data:Collecting casts for user 278605.....\n",
      "INFO:fetch_data:Retrieved 441 messages total...\n",
      "INFO:fetch_data:Retrieved 328 replies for user: 278605...\n",
      "INFO:fetch_data:Retrieved 442 messages total...\n"
     ]
    },
    {
     "name": "stdout",
     "output_type": "stream",
     "text": [
      "Collecting connections metadata for FID: 278605\n",
      "Added connections metadata to user data for FID: 278605\n"
     ]
    },
    {
     "name": "stderr",
     "output_type": "stream",
     "text": [
      "INFO:fetch_data:Successfully uploaded user_user_278605_data.json_data.json to cloud-cartography\n"
     ]
    },
    {
     "name": "stdout",
     "output_type": "stream",
     "text": [
      "Successfully uploaded data for FID: 278605 to S3.\n",
      "Completed processing for FID: 278605\n",
      "\n",
      "Processing FID: 16462 (36/3944)\n"
     ]
    },
    {
     "name": "stderr",
     "output_type": "stream",
     "text": [
      "INFO:fetch_data:Retrieved 4 messages total...\n",
      "INFO:fetch_data:Retrieved 1000 messages total...\n",
      "INFO:fetch_data:Retrieved 2000 messages total...\n",
      "INFO:fetch_data:Retrieved 3000 messages total...\n",
      "INFO:fetch_data:Retrieved 4000 messages total...\n",
      "INFO:fetch_data:Retrieved 5000 messages total...\n",
      "INFO:fetch_data:Retrieved 6000 messages total...\n",
      "INFO:fetch_data:Retrieved 6007 messages total...\n",
      "INFO:fetch_data:Retrieved 213 messages total...\n",
      "INFO:fetch_data:Collecting casts for user 16462.....\n",
      "INFO:fetch_data:Retrieved 1000 messages total...\n",
      "INFO:fetch_data:Retrieved 2000 messages total...\n",
      "INFO:fetch_data:Retrieved 3000 messages total...\n",
      "INFO:fetch_data:Retrieved 4000 messages total...\n",
      "INFO:fetch_data:Retrieved 4366 messages total...\n",
      "INFO:fetch_data:Retrieved 2824 replies for user: 16462...\n",
      "INFO:fetch_data:Retrieved 887 messages total...\n"
     ]
    },
    {
     "name": "stdout",
     "output_type": "stream",
     "text": [
      "Collecting connections metadata for FID: 16462\n",
      "Added connections metadata to user data for FID: 16462\n"
     ]
    },
    {
     "name": "stderr",
     "output_type": "stream",
     "text": [
      "INFO:fetch_data:Successfully uploaded user_user_16462_data.json_data.json to cloud-cartography\n"
     ]
    },
    {
     "name": "stdout",
     "output_type": "stream",
     "text": [
      "Successfully uploaded data for FID: 16462 to S3.\n",
      "Completed processing for FID: 16462\n",
      "\n",
      "Processing FID: 270415 (37/3944)\n"
     ]
    },
    {
     "name": "stderr",
     "output_type": "stream",
     "text": [
      "INFO:fetch_data:Retrieved 4 messages total...\n",
      "INFO:fetch_data:Retrieved 1000 messages total...\n",
      "INFO:fetch_data:Retrieved 2000 messages total...\n",
      "INFO:fetch_data:Retrieved 2149 messages total...\n",
      "INFO:fetch_data:Retrieved 144 messages total...\n",
      "INFO:fetch_data:Collecting casts for user 270415.....\n",
      "INFO:fetch_data:Retrieved 1000 messages total...\n",
      "INFO:fetch_data:Retrieved 1542 messages total...\n",
      "INFO:fetch_data:Retrieved 1122 replies for user: 270415...\n",
      "INFO:fetch_data:Retrieved 313 messages total...\n"
     ]
    },
    {
     "name": "stdout",
     "output_type": "stream",
     "text": [
      "Collecting connections metadata for FID: 270415\n",
      "Added connections metadata to user data for FID: 270415\n"
     ]
    },
    {
     "name": "stderr",
     "output_type": "stream",
     "text": [
      "INFO:fetch_data:Successfully uploaded user_user_270415_data.json_data.json to cloud-cartography\n"
     ]
    },
    {
     "name": "stdout",
     "output_type": "stream",
     "text": [
      "Successfully uploaded data for FID: 270415 to S3.\n",
      "Completed processing for FID: 270415\n",
      "\n",
      "Processing FID: 213070 (38/3944)\n"
     ]
    },
    {
     "name": "stderr",
     "output_type": "stream",
     "text": [
      "INFO:fetch_data:Retrieved 4 messages total...\n",
      "INFO:fetch_data:Retrieved 262 messages total...\n",
      "INFO:fetch_data:Retrieved 21 messages total...\n",
      "INFO:fetch_data:Collecting casts for user 213070.....\n",
      "INFO:fetch_data:Retrieved 152 messages total...\n",
      "INFO:fetch_data:Retrieved 83 replies for user: 213070...\n",
      "INFO:fetch_data:Retrieved 173 messages total...\n"
     ]
    },
    {
     "name": "stdout",
     "output_type": "stream",
     "text": [
      "Collecting connections metadata for FID: 213070\n",
      "Added connections metadata to user data for FID: 213070\n"
     ]
    },
    {
     "name": "stderr",
     "output_type": "stream",
     "text": [
      "INFO:fetch_data:Successfully uploaded user_user_213070_data.json_data.json to cloud-cartography\n"
     ]
    },
    {
     "name": "stdout",
     "output_type": "stream",
     "text": [
      "Successfully uploaded data for FID: 213070 to S3.\n",
      "Completed processing for FID: 213070\n",
      "\n",
      "Processing FID: 426065 (39/3944)\n"
     ]
    },
    {
     "name": "stderr",
     "output_type": "stream",
     "text": [
      "INFO:fetch_data:Retrieved 4 messages total...\n",
      "INFO:fetch_data:Retrieved 1000 messages total...\n",
      "INFO:fetch_data:Retrieved 2000 messages total...\n",
      "INFO:fetch_data:Retrieved 2428 messages total...\n",
      "INFO:fetch_data:Retrieved 71 messages total...\n",
      "INFO:fetch_data:Collecting casts for user 426065.....\n",
      "INFO:fetch_data:Retrieved 1000 messages total...\n",
      "INFO:fetch_data:Retrieved 2000 messages total...\n",
      "INFO:fetch_data:Retrieved 3000 messages total...\n",
      "INFO:fetch_data:Retrieved 4000 messages total...\n",
      "INFO:fetch_data:Retrieved 5000 messages total...\n",
      "INFO:fetch_data:Retrieved 5000 messages total...\n",
      "INFO:fetch_data:Retrieved 4334 replies for user: 426065...\n",
      "INFO:fetch_data:Retrieved 1000 messages total...\n",
      "INFO:fetch_data:Retrieved 1216 messages total...\n"
     ]
    },
    {
     "name": "stdout",
     "output_type": "stream",
     "text": [
      "Collecting connections metadata for FID: 426065\n",
      "Added connections metadata to user data for FID: 426065\n"
     ]
    },
    {
     "name": "stderr",
     "output_type": "stream",
     "text": [
      "INFO:fetch_data:Successfully uploaded user_user_426065_data.json_data.json to cloud-cartography\n"
     ]
    },
    {
     "name": "stdout",
     "output_type": "stream",
     "text": [
      "Successfully uploaded data for FID: 426065 to S3.\n",
      "Completed processing for FID: 426065\n",
      "\n",
      "Processing FID: 335954 (40/3944)\n"
     ]
    },
    {
     "name": "stderr",
     "output_type": "stream",
     "text": [
      "INFO:fetch_data:Retrieved 4 messages total...\n",
      "INFO:fetch_data:Retrieved 1000 messages total...\n",
      "INFO:fetch_data:Retrieved 2000 messages total...\n",
      "INFO:fetch_data:Retrieved 3000 messages total...\n",
      "INFO:fetch_data:Retrieved 4000 messages total...\n",
      "INFO:fetch_data:Retrieved 5000 messages total...\n",
      "INFO:fetch_data:Retrieved 6000 messages total...\n",
      "INFO:fetch_data:Retrieved 7000 messages total...\n",
      "INFO:fetch_data:Retrieved 7867 messages total...\n",
      "INFO:fetch_data:Retrieved 20 messages total...\n",
      "INFO:fetch_data:Collecting casts for user 335954.....\n",
      "INFO:fetch_data:Retrieved 1000 messages total...\n",
      "INFO:fetch_data:Retrieved 2000 messages total...\n",
      "INFO:fetch_data:Retrieved 3000 messages total...\n",
      "INFO:fetch_data:Retrieved 4000 messages total...\n",
      "INFO:fetch_data:Retrieved 4386 messages total...\n",
      "INFO:fetch_data:Retrieved 3937 replies for user: 335954...\n",
      "INFO:fetch_data:Retrieved 502 messages total...\n"
     ]
    },
    {
     "name": "stdout",
     "output_type": "stream",
     "text": [
      "Collecting connections metadata for FID: 335954\n",
      "Added connections metadata to user data for FID: 335954\n"
     ]
    },
    {
     "name": "stderr",
     "output_type": "stream",
     "text": [
      "INFO:fetch_data:Successfully uploaded user_user_335954_data.json_data.json to cloud-cartography\n"
     ]
    },
    {
     "name": "stdout",
     "output_type": "stream",
     "text": [
      "Successfully uploaded data for FID: 335954 to S3.\n",
      "Completed processing for FID: 335954\n",
      "\n",
      "Processing FID: 16467 (41/3944)\n"
     ]
    },
    {
     "name": "stderr",
     "output_type": "stream",
     "text": [
      "INFO:fetch_data:Retrieved 4 messages total...\n",
      "INFO:fetch_data:Retrieved 1000 messages total...\n",
      "INFO:fetch_data:Retrieved 2000 messages total...\n",
      "INFO:fetch_data:Retrieved 3000 messages total...\n",
      "INFO:fetch_data:Retrieved 4000 messages total...\n",
      "INFO:fetch_data:Retrieved 4809 messages total...\n",
      "INFO:fetch_data:Retrieved 177 messages total...\n",
      "INFO:fetch_data:Collecting casts for user 16467.....\n",
      "INFO:fetch_data:Retrieved 1000 messages total...\n",
      "INFO:fetch_data:Retrieved 1132 messages total...\n",
      "INFO:fetch_data:Retrieved 708 replies for user: 16467...\n",
      "INFO:fetch_data:Retrieved 751 messages total...\n"
     ]
    },
    {
     "name": "stdout",
     "output_type": "stream",
     "text": [
      "Collecting connections metadata for FID: 16467\n",
      "Added connections metadata to user data for FID: 16467\n"
     ]
    },
    {
     "name": "stderr",
     "output_type": "stream",
     "text": [
      "INFO:fetch_data:Successfully uploaded user_user_16467_data.json_data.json to cloud-cartography\n"
     ]
    },
    {
     "name": "stdout",
     "output_type": "stream",
     "text": [
      "Successfully uploaded data for FID: 16467 to S3.\n",
      "Completed processing for FID: 16467\n",
      "\n",
      "Processing FID: 335956 (42/3944)\n"
     ]
    },
    {
     "name": "stderr",
     "output_type": "stream",
     "text": [
      "INFO:fetch_data:Retrieved 4 messages total...\n",
      "INFO:fetch_data:Retrieved 0 messages total...\n",
      "INFO:fetch_data:Retrieved 1 messages total...\n",
      "INFO:fetch_data:Collecting casts for user 335956.....\n",
      "INFO:fetch_data:Retrieved 24 messages total...\n",
      "INFO:fetch_data:Retrieved 14 replies for user: 335956...\n",
      "INFO:fetch_data:Retrieved 60 messages total...\n"
     ]
    },
    {
     "name": "stdout",
     "output_type": "stream",
     "text": [
      "Collecting connections metadata for FID: 335956\n",
      "Added connections metadata to user data for FID: 335956\n"
     ]
    },
    {
     "name": "stderr",
     "output_type": "stream",
     "text": [
      "INFO:fetch_data:Successfully uploaded user_user_335956_data.json_data.json to cloud-cartography\n"
     ]
    },
    {
     "name": "stdout",
     "output_type": "stream",
     "text": [
      "Successfully uploaded data for FID: 335956 to S3.\n",
      "Completed processing for FID: 335956\n",
      "\n",
      "Processing FID: 16469 (43/3944)\n"
     ]
    },
    {
     "name": "stderr",
     "output_type": "stream",
     "text": [
      "INFO:fetch_data:Retrieved 4 messages total...\n",
      "INFO:fetch_data:Retrieved 1000 messages total...\n",
      "INFO:fetch_data:Retrieved 2000 messages total...\n",
      "INFO:fetch_data:Retrieved 3000 messages total...\n",
      "INFO:fetch_data:Retrieved 4000 messages total...\n",
      "INFO:fetch_data:Retrieved 5000 messages total...\n",
      "INFO:fetch_data:Retrieved 5324 messages total...\n",
      "INFO:fetch_data:Retrieved 372 messages total...\n",
      "INFO:fetch_data:Collecting casts for user 16469.....\n",
      "INFO:fetch_data:Retrieved 1000 messages total...\n",
      "INFO:fetch_data:Retrieved 1283 messages total...\n",
      "INFO:fetch_data:Retrieved 953 replies for user: 16469...\n",
      "INFO:fetch_data:Retrieved 962 messages total...\n"
     ]
    },
    {
     "name": "stdout",
     "output_type": "stream",
     "text": [
      "Collecting connections metadata for FID: 16469\n",
      "Added connections metadata to user data for FID: 16469\n"
     ]
    },
    {
     "name": "stderr",
     "output_type": "stream",
     "text": [
      "INFO:fetch_data:Successfully uploaded user_user_16469_data.json_data.json to cloud-cartography\n"
     ]
    },
    {
     "name": "stdout",
     "output_type": "stream",
     "text": [
      "Successfully uploaded data for FID: 16469 to S3.\n",
      "Completed processing for FID: 16469\n",
      "\n",
      "Processing FID: 401491 (44/3944)\n"
     ]
    },
    {
     "name": "stderr",
     "output_type": "stream",
     "text": [
      "INFO:fetch_data:Retrieved 4 messages total...\n",
      "INFO:fetch_data:Retrieved 1000 messages total...\n",
      "INFO:fetch_data:Retrieved 2000 messages total...\n",
      "INFO:fetch_data:Retrieved 3000 messages total...\n",
      "INFO:fetch_data:Retrieved 4000 messages total...\n",
      "INFO:fetch_data:Retrieved 5000 messages total...\n",
      "INFO:fetch_data:Retrieved 6000 messages total...\n",
      "INFO:fetch_data:Retrieved 7000 messages total...\n",
      "INFO:fetch_data:Retrieved 8000 messages total...\n",
      "INFO:fetch_data:Retrieved 9000 messages total...\n",
      "INFO:fetch_data:Retrieved 10000 messages total...\n",
      "INFO:fetch_data:Retrieved 11000 messages total...\n",
      "INFO:fetch_data:Retrieved 12000 messages total...\n",
      "INFO:fetch_data:Retrieved 13000 messages total...\n",
      "INFO:fetch_data:Retrieved 14000 messages total...\n",
      "INFO:fetch_data:Retrieved 15000 messages total...\n",
      "INFO:fetch_data:Retrieved 16000 messages total...\n",
      "INFO:fetch_data:Retrieved 17000 messages total...\n",
      "INFO:fetch_data:Retrieved 18000 messages total...\n",
      "INFO:fetch_data:Retrieved 19000 messages total...\n",
      "INFO:fetch_data:Retrieved 20000 messages total...\n",
      "INFO:fetch_data:Retrieved 21000 messages total...\n",
      "INFO:fetch_data:Retrieved 22000 messages total...\n",
      "INFO:fetch_data:Retrieved 23000 messages total...\n",
      "INFO:fetch_data:Retrieved 24000 messages total...\n",
      "INFO:fetch_data:Retrieved 25000 messages total...\n",
      "INFO:fetch_data:Retrieved 26000 messages total...\n",
      "INFO:fetch_data:Retrieved 27000 messages total...\n",
      "INFO:fetch_data:Retrieved 28000 messages total...\n",
      "INFO:fetch_data:Retrieved 28697 messages total...\n",
      "WARNING:fetch_data:Attempt 1 failed. Retrying in 1 seconds...\n",
      "INFO:fetch_data:Retrieved 1000 messages total...\n",
      "INFO:fetch_data:Retrieved 2000 messages total...\n",
      "INFO:fetch_data:Retrieved 3000 messages total...\n",
      "INFO:fetch_data:Retrieved 4000 messages total...\n",
      "INFO:fetch_data:Retrieved 5000 messages total...\n",
      "INFO:fetch_data:Retrieved 6000 messages total...\n",
      "INFO:fetch_data:Retrieved 7000 messages total...\n",
      "INFO:fetch_data:Retrieved 8000 messages total...\n",
      "INFO:fetch_data:Retrieved 9000 messages total...\n",
      "INFO:fetch_data:Retrieved 10000 messages total...\n",
      "INFO:fetch_data:Retrieved 11000 messages total...\n",
      "INFO:fetch_data:Retrieved 12000 messages total...\n",
      "INFO:fetch_data:Retrieved 12709 messages total...\n",
      "INFO:fetch_data:Collecting casts for user 401491.....\n",
      "INFO:fetch_data:Retrieved 1000 messages total...\n",
      "INFO:fetch_data:Retrieved 2000 messages total...\n",
      "INFO:fetch_data:Retrieved 3000 messages total...\n",
      "INFO:fetch_data:Retrieved 4000 messages total...\n",
      "INFO:fetch_data:Retrieved 5000 messages total...\n",
      "INFO:fetch_data:Retrieved 6000 messages total...\n",
      "INFO:fetch_data:Retrieved 7000 messages total...\n",
      "INFO:fetch_data:Retrieved 8000 messages total...\n",
      "INFO:fetch_data:Retrieved 9000 messages total...\n",
      "INFO:fetch_data:Retrieved 10000 messages total...\n",
      "INFO:fetch_data:Retrieved 11000 messages total...\n",
      "INFO:fetch_data:Retrieved 12000 messages total...\n",
      "INFO:fetch_data:Retrieved 13000 messages total...\n",
      "INFO:fetch_data:Retrieved 14000 messages total...\n",
      "INFO:fetch_data:Retrieved 15000 messages total...\n",
      "INFO:fetch_data:Retrieved 16000 messages total...\n",
      "INFO:fetch_data:Retrieved 17000 messages total...\n",
      "INFO:fetch_data:Retrieved 18000 messages total...\n",
      "INFO:fetch_data:Retrieved 19000 messages total...\n",
      "INFO:fetch_data:Retrieved 20000 messages total...\n",
      "INFO:fetch_data:Retrieved 21000 messages total...\n",
      "INFO:fetch_data:Retrieved 21640 messages total...\n",
      "INFO:fetch_data:Retrieved 19944 replies for user: 401491...\n",
      "INFO:fetch_data:Retrieved 761 messages total...\n"
     ]
    },
    {
     "name": "stdout",
     "output_type": "stream",
     "text": [
      "Collecting connections metadata for FID: 401491\n",
      "Added connections metadata to user data for FID: 401491\n"
     ]
    },
    {
     "name": "stderr",
     "output_type": "stream",
     "text": [
      "INFO:fetch_data:Successfully uploaded user_user_401491_data.json_data.json to cloud-cartography\n"
     ]
    },
    {
     "name": "stdout",
     "output_type": "stream",
     "text": [
      "Successfully uploaded data for FID: 401491 to S3.\n",
      "Completed processing for FID: 401491\n",
      "\n",
      "Processing FID: 303191 (45/3944)\n"
     ]
    },
    {
     "name": "stderr",
     "output_type": "stream",
     "text": [
      "INFO:fetch_data:Retrieved 4 messages total...\n",
      "INFO:fetch_data:Retrieved 1000 messages total...\n",
      "INFO:fetch_data:Retrieved 1744 messages total...\n",
      "INFO:fetch_data:Retrieved 235 messages total...\n",
      "INFO:fetch_data:Collecting casts for user 303191.....\n",
      "INFO:fetch_data:Retrieved 1000 messages total...\n",
      "INFO:fetch_data:Retrieved 1556 messages total...\n",
      "INFO:fetch_data:Retrieved 721 replies for user: 303191...\n",
      "INFO:fetch_data:Retrieved 1000 messages total...\n",
      "INFO:fetch_data:Retrieved 1048 messages total...\n"
     ]
    },
    {
     "name": "stdout",
     "output_type": "stream",
     "text": [
      "Collecting connections metadata for FID: 303191\n",
      "Added connections metadata to user data for FID: 303191\n"
     ]
    },
    {
     "name": "stderr",
     "output_type": "stream",
     "text": [
      "INFO:fetch_data:Successfully uploaded user_user_303191_data.json_data.json to cloud-cartography\n"
     ]
    },
    {
     "name": "stdout",
     "output_type": "stream",
     "text": [
      "Successfully uploaded data for FID: 303191 to S3.\n",
      "Completed processing for FID: 303191\n",
      "\n",
      "Processing FID: 376916 (46/3944)\n"
     ]
    },
    {
     "name": "stderr",
     "output_type": "stream",
     "text": [
      "INFO:fetch_data:Retrieved 4 messages total...\n",
      "INFO:fetch_data:Retrieved 1000 messages total...\n",
      "INFO:fetch_data:Retrieved 2000 messages total...\n",
      "INFO:fetch_data:Retrieved 3000 messages total...\n",
      "INFO:fetch_data:Retrieved 4000 messages total...\n",
      "INFO:fetch_data:Retrieved 5000 messages total...\n",
      "INFO:fetch_data:Retrieved 6000 messages total...\n",
      "INFO:fetch_data:Retrieved 7000 messages total...\n",
      "INFO:fetch_data:Retrieved 7610 messages total...\n",
      "INFO:fetch_data:Retrieved 1000 messages total...\n",
      "INFO:fetch_data:Retrieved 1077 messages total...\n",
      "INFO:fetch_data:Collecting casts for user 376916.....\n",
      "INFO:fetch_data:Retrieved 1000 messages total...\n",
      "INFO:fetch_data:Retrieved 1850 messages total...\n",
      "INFO:fetch_data:Retrieved 1463 replies for user: 376916...\n",
      "INFO:fetch_data:Retrieved 1000 messages total...\n",
      "INFO:fetch_data:Retrieved 1882 messages total...\n"
     ]
    },
    {
     "name": "stdout",
     "output_type": "stream",
     "text": [
      "Collecting connections metadata for FID: 376916\n",
      "Added connections metadata to user data for FID: 376916\n"
     ]
    },
    {
     "name": "stderr",
     "output_type": "stream",
     "text": [
      "INFO:fetch_data:Successfully uploaded user_user_376916_data.json_data.json to cloud-cartography\n"
     ]
    },
    {
     "name": "stdout",
     "output_type": "stream",
     "text": [
      "Successfully uploaded data for FID: 376916 to S3.\n",
      "Completed processing for FID: 376916\n",
      "\n",
      "Processing FID: 311387 (47/3944)\n"
     ]
    },
    {
     "name": "stderr",
     "output_type": "stream",
     "text": [
      "INFO:fetch_data:Retrieved 4 messages total...\n",
      "INFO:fetch_data:Retrieved 1000 messages total...\n",
      "INFO:fetch_data:Retrieved 2000 messages total...\n",
      "INFO:fetch_data:Retrieved 3000 messages total...\n",
      "INFO:fetch_data:Retrieved 4000 messages total...\n",
      "INFO:fetch_data:Retrieved 5000 messages total...\n",
      "INFO:fetch_data:Retrieved 6000 messages total...\n",
      "INFO:fetch_data:Retrieved 7000 messages total...\n",
      "INFO:fetch_data:Retrieved 8000 messages total...\n",
      "INFO:fetch_data:Retrieved 8494 messages total...\n",
      "INFO:fetch_data:Retrieved 1000 messages total...\n",
      "INFO:fetch_data:Retrieved 1481 messages total...\n",
      "INFO:fetch_data:Collecting casts for user 311387.....\n",
      "INFO:fetch_data:Retrieved 1000 messages total...\n",
      "INFO:fetch_data:Retrieved 2000 messages total...\n",
      "INFO:fetch_data:Retrieved 3000 messages total...\n",
      "INFO:fetch_data:Retrieved 4000 messages total...\n",
      "INFO:fetch_data:Retrieved 5000 messages total...\n",
      "INFO:fetch_data:Retrieved 6000 messages total...\n",
      "INFO:fetch_data:Retrieved 7000 messages total...\n",
      "INFO:fetch_data:Retrieved 8000 messages total...\n",
      "INFO:fetch_data:Retrieved 9000 messages total...\n",
      "INFO:fetch_data:Retrieved 10000 messages total...\n",
      "INFO:fetch_data:Retrieved 11000 messages total...\n",
      "INFO:fetch_data:Retrieved 12000 messages total...\n",
      "INFO:fetch_data:Retrieved 13000 messages total...\n",
      "INFO:fetch_data:Retrieved 14000 messages total...\n",
      "INFO:fetch_data:Retrieved 15000 messages total...\n",
      "INFO:fetch_data:Retrieved 16000 messages total...\n",
      "INFO:fetch_data:Retrieved 17000 messages total...\n",
      "INFO:fetch_data:Retrieved 18000 messages total...\n",
      "INFO:fetch_data:Retrieved 18383 messages total...\n",
      "INFO:fetch_data:Retrieved 16302 replies for user: 311387...\n",
      "INFO:fetch_data:Retrieved 1000 messages total...\n",
      "INFO:fetch_data:Retrieved 1222 messages total...\n"
     ]
    },
    {
     "name": "stdout",
     "output_type": "stream",
     "text": [
      "Collecting connections metadata for FID: 311387\n",
      "Added connections metadata to user data for FID: 311387\n"
     ]
    },
    {
     "name": "stderr",
     "output_type": "stream",
     "text": [
      "INFO:fetch_data:Successfully uploaded user_user_311387_data.json_data.json to cloud-cartography\n"
     ]
    },
    {
     "name": "stdout",
     "output_type": "stream",
     "text": [
      "Successfully uploaded data for FID: 311387 to S3.\n",
      "Completed processing for FID: 311387\n",
      "\n",
      "Processing FID: 393310 (48/3944)\n"
     ]
    },
    {
     "name": "stderr",
     "output_type": "stream",
     "text": [
      "INFO:fetch_data:Retrieved 4 messages total...\n",
      "INFO:fetch_data:Retrieved 1000 messages total...\n",
      "INFO:fetch_data:Retrieved 2000 messages total...\n",
      "INFO:fetch_data:Retrieved 2337 messages total...\n",
      "INFO:fetch_data:Retrieved 149 messages total...\n",
      "INFO:fetch_data:Collecting casts for user 393310.....\n",
      "INFO:fetch_data:Retrieved 1000 messages total...\n",
      "INFO:fetch_data:Retrieved 2000 messages total...\n",
      "INFO:fetch_data:Retrieved 3000 messages total...\n",
      "INFO:fetch_data:Retrieved 4000 messages total...\n",
      "INFO:fetch_data:Retrieved 5000 messages total...\n",
      "INFO:fetch_data:Retrieved 5000 messages total...\n",
      "INFO:fetch_data:Retrieved 3522 replies for user: 393310...\n",
      "INFO:fetch_data:Retrieved 455 messages total...\n"
     ]
    },
    {
     "name": "stdout",
     "output_type": "stream",
     "text": [
      "Collecting connections metadata for FID: 393310\n",
      "Added connections metadata to user data for FID: 393310\n"
     ]
    },
    {
     "name": "stderr",
     "output_type": "stream",
     "text": [
      "INFO:fetch_data:Successfully uploaded user_user_393310_data.json_data.json to cloud-cartography\n"
     ]
    },
    {
     "name": "stdout",
     "output_type": "stream",
     "text": [
      "Successfully uploaded data for FID: 393310 to S3.\n",
      "Completed processing for FID: 393310\n",
      "\n",
      "Processing FID: 475231 (49/3944)\n"
     ]
    },
    {
     "name": "stderr",
     "output_type": "stream",
     "text": [
      "INFO:fetch_data:Retrieved 4 messages total...\n",
      "INFO:fetch_data:Retrieved 1000 messages total...\n",
      "INFO:fetch_data:Retrieved 2000 messages total...\n",
      "INFO:fetch_data:Retrieved 3000 messages total...\n",
      "INFO:fetch_data:Retrieved 4000 messages total...\n",
      "INFO:fetch_data:Retrieved 5000 messages total...\n",
      "INFO:fetch_data:Retrieved 6000 messages total...\n",
      "INFO:fetch_data:Retrieved 6607 messages total...\n",
      "INFO:fetch_data:Retrieved 874 messages total...\n",
      "INFO:fetch_data:Collecting casts for user 475231.....\n",
      "INFO:fetch_data:Retrieved 1000 messages total...\n",
      "INFO:fetch_data:Retrieved 2000 messages total...\n",
      "INFO:fetch_data:Retrieved 3000 messages total...\n",
      "INFO:fetch_data:Retrieved 3801 messages total...\n",
      "INFO:fetch_data:Retrieved 3248 replies for user: 475231...\n",
      "INFO:fetch_data:Retrieved 945 messages total...\n"
     ]
    },
    {
     "name": "stdout",
     "output_type": "stream",
     "text": [
      "Collecting connections metadata for FID: 475231\n",
      "Added connections metadata to user data for FID: 475231\n"
     ]
    },
    {
     "name": "stderr",
     "output_type": "stream",
     "text": [
      "INFO:fetch_data:Successfully uploaded user_user_475231_data.json_data.json to cloud-cartography\n"
     ]
    },
    {
     "name": "stdout",
     "output_type": "stream",
     "text": [
      "Successfully uploaded data for FID: 475231 to S3.\n",
      "Completed processing for FID: 475231\n",
      "\n",
      "Processing FID: 385126 (50/3944)\n"
     ]
    },
    {
     "name": "stderr",
     "output_type": "stream",
     "text": [
      "INFO:fetch_data:Retrieved 4 messages total...\n",
      "INFO:fetch_data:Retrieved 1000 messages total...\n",
      "INFO:fetch_data:Retrieved 2000 messages total...\n",
      "INFO:fetch_data:Retrieved 3000 messages total...\n",
      "INFO:fetch_data:Retrieved 4000 messages total...\n",
      "INFO:fetch_data:Retrieved 5000 messages total...\n",
      "INFO:fetch_data:Retrieved 6000 messages total...\n",
      "INFO:fetch_data:Retrieved 7000 messages total...\n",
      "INFO:fetch_data:Retrieved 8000 messages total...\n",
      "INFO:fetch_data:Retrieved 9000 messages total...\n",
      "INFO:fetch_data:Retrieved 10000 messages total...\n",
      "INFO:fetch_data:Retrieved 11000 messages total...\n",
      "INFO:fetch_data:Retrieved 12000 messages total...\n",
      "INFO:fetch_data:Retrieved 13000 messages total...\n",
      "INFO:fetch_data:Retrieved 14000 messages total...\n",
      "INFO:fetch_data:Retrieved 15000 messages total...\n",
      "INFO:fetch_data:Retrieved 16000 messages total...\n",
      "INFO:fetch_data:Retrieved 17000 messages total...\n",
      "INFO:fetch_data:Retrieved 18000 messages total...\n",
      "INFO:fetch_data:Retrieved 19000 messages total...\n",
      "INFO:fetch_data:Retrieved 20000 messages total...\n",
      "INFO:fetch_data:Retrieved 21000 messages total...\n",
      "INFO:fetch_data:Retrieved 22000 messages total...\n",
      "INFO:fetch_data:Retrieved 22108 messages total...\n",
      "INFO:fetch_data:Retrieved 357 messages total...\n",
      "INFO:fetch_data:Collecting casts for user 385126.....\n",
      "INFO:fetch_data:Retrieved 1000 messages total...\n",
      "INFO:fetch_data:Retrieved 2000 messages total...\n",
      "INFO:fetch_data:Retrieved 3000 messages total...\n",
      "INFO:fetch_data:Retrieved 4000 messages total...\n",
      "INFO:fetch_data:Retrieved 5000 messages total...\n",
      "INFO:fetch_data:Retrieved 6000 messages total...\n",
      "INFO:fetch_data:Retrieved 7000 messages total...\n",
      "INFO:fetch_data:Retrieved 8000 messages total...\n",
      "INFO:fetch_data:Retrieved 9000 messages total...\n",
      "INFO:fetch_data:Retrieved 10000 messages total...\n",
      "INFO:fetch_data:Retrieved 11000 messages total...\n",
      "INFO:fetch_data:Retrieved 12000 messages total...\n",
      "INFO:fetch_data:Retrieved 13000 messages total...\n",
      "INFO:fetch_data:Retrieved 13295 messages total...\n",
      "INFO:fetch_data:Retrieved 11561 replies for user: 385126...\n",
      "INFO:fetch_data:Retrieved 548 messages total...\n"
     ]
    },
    {
     "name": "stdout",
     "output_type": "stream",
     "text": [
      "Collecting connections metadata for FID: 385126\n",
      "Added connections metadata to user data for FID: 385126\n"
     ]
    },
    {
     "name": "stderr",
     "output_type": "stream",
     "text": [
      "INFO:fetch_data:Successfully uploaded user_user_385126_data.json_data.json to cloud-cartography\n"
     ]
    },
    {
     "name": "stdout",
     "output_type": "stream",
     "text": [
      "Successfully uploaded data for FID: 385126 to S3.\n",
      "Completed processing for FID: 385126\n",
      "\n",
      "Processing FID: 16496 (51/3944)\n"
     ]
    },
    {
     "name": "stderr",
     "output_type": "stream",
     "text": [
      "INFO:fetch_data:Retrieved 4 messages total...\n",
      "INFO:fetch_data:Retrieved 185 messages total...\n",
      "INFO:fetch_data:Retrieved 0 messages total...\n",
      "INFO:fetch_data:Collecting casts for user 16496.....\n",
      "INFO:fetch_data:Retrieved 99 messages total...\n",
      "INFO:fetch_data:Retrieved 49 replies for user: 16496...\n",
      "INFO:fetch_data:Retrieved 35 messages total...\n"
     ]
    },
    {
     "name": "stdout",
     "output_type": "stream",
     "text": [
      "Collecting connections metadata for FID: 16496\n",
      "Added connections metadata to user data for FID: 16496\n"
     ]
    },
    {
     "name": "stderr",
     "output_type": "stream",
     "text": [
      "INFO:fetch_data:Successfully uploaded user_user_16496_data.json_data.json to cloud-cartography\n"
     ]
    },
    {
     "name": "stdout",
     "output_type": "stream",
     "text": [
      "Successfully uploaded data for FID: 16496 to S3.\n",
      "Completed processing for FID: 16496\n",
      "\n",
      "Processing FID: 376944 (52/3944)\n"
     ]
    },
    {
     "name": "stderr",
     "output_type": "stream",
     "text": [
      "INFO:fetch_data:Retrieved 4 messages total...\n",
      "INFO:fetch_data:Retrieved 1000 messages total...\n",
      "INFO:fetch_data:Retrieved 2000 messages total...\n",
      "INFO:fetch_data:Retrieved 3000 messages total...\n",
      "INFO:fetch_data:Retrieved 4000 messages total...\n",
      "INFO:fetch_data:Retrieved 5000 messages total...\n",
      "INFO:fetch_data:Retrieved 5142 messages total...\n",
      "INFO:fetch_data:Retrieved 1000 messages total...\n",
      "INFO:fetch_data:Retrieved 1155 messages total...\n",
      "INFO:fetch_data:Collecting casts for user 376944.....\n",
      "INFO:fetch_data:Retrieved 1000 messages total...\n",
      "INFO:fetch_data:Retrieved 2000 messages total...\n",
      "INFO:fetch_data:Retrieved 2330 messages total...\n",
      "INFO:fetch_data:Retrieved 1628 replies for user: 376944...\n",
      "INFO:fetch_data:Retrieved 1000 messages total...\n",
      "INFO:fetch_data:Retrieved 2000 messages total...\n",
      "INFO:fetch_data:Retrieved 3000 messages total...\n",
      "INFO:fetch_data:Retrieved 3769 messages total...\n"
     ]
    },
    {
     "name": "stdout",
     "output_type": "stream",
     "text": [
      "Collecting connections metadata for FID: 376944\n",
      "Added connections metadata to user data for FID: 376944\n"
     ]
    },
    {
     "name": "stderr",
     "output_type": "stream",
     "text": [
      "INFO:fetch_data:Successfully uploaded user_user_376944_data.json_data.json to cloud-cartography\n"
     ]
    },
    {
     "name": "stdout",
     "output_type": "stream",
     "text": [
      "Successfully uploaded data for FID: 376944 to S3.\n",
      "Completed processing for FID: 376944\n",
      "\n",
      "Processing FID: 237681 (53/3944)\n"
     ]
    },
    {
     "name": "stderr",
     "output_type": "stream",
     "text": [
      "INFO:fetch_data:Retrieved 4 messages total...\n",
      "INFO:fetch_data:Retrieved 681 messages total...\n",
      "INFO:fetch_data:Retrieved 568 messages total...\n",
      "INFO:fetch_data:Collecting casts for user 237681.....\n",
      "INFO:fetch_data:Retrieved 207 messages total...\n",
      "INFO:fetch_data:Retrieved 129 replies for user: 237681...\n",
      "INFO:fetch_data:Retrieved 740 messages total...\n"
     ]
    },
    {
     "name": "stdout",
     "output_type": "stream",
     "text": [
      "Collecting connections metadata for FID: 237681\n",
      "Added connections metadata to user data for FID: 237681\n"
     ]
    },
    {
     "name": "stderr",
     "output_type": "stream",
     "text": [
      "INFO:fetch_data:Successfully uploaded user_user_237681_data.json_data.json to cloud-cartography\n"
     ]
    },
    {
     "name": "stdout",
     "output_type": "stream",
     "text": [
      "Successfully uploaded data for FID: 237681 to S3.\n",
      "Completed processing for FID: 237681\n",
      "\n",
      "Processing FID: 16505 (54/3944)\n"
     ]
    },
    {
     "name": "stderr",
     "output_type": "stream",
     "text": [
      "INFO:fetch_data:Retrieved 4 messages total...\n",
      "INFO:fetch_data:Retrieved 1000 messages total...\n",
      "INFO:fetch_data:Retrieved 2000 messages total...\n",
      "INFO:fetch_data:Retrieved 2375 messages total...\n",
      "INFO:fetch_data:Retrieved 949 messages total...\n",
      "INFO:fetch_data:Collecting casts for user 16505.....\n",
      "INFO:fetch_data:Retrieved 1000 messages total...\n",
      "INFO:fetch_data:Retrieved 2000 messages total...\n",
      "INFO:fetch_data:Retrieved 2013 messages total...\n",
      "INFO:fetch_data:Retrieved 1302 replies for user: 16505...\n",
      "INFO:fetch_data:Retrieved 1000 messages total...\n",
      "INFO:fetch_data:Retrieved 1529 messages total...\n"
     ]
    },
    {
     "name": "stdout",
     "output_type": "stream",
     "text": [
      "Collecting connections metadata for FID: 16505\n",
      "Added connections metadata to user data for FID: 16505\n"
     ]
    },
    {
     "name": "stderr",
     "output_type": "stream",
     "text": [
      "INFO:fetch_data:Successfully uploaded user_user_16505_data.json_data.json to cloud-cartography\n"
     ]
    },
    {
     "name": "stdout",
     "output_type": "stream",
     "text": [
      "Successfully uploaded data for FID: 16505 to S3.\n",
      "Completed processing for FID: 16505\n",
      "\n",
      "Processing FID: 213115 (55/3944)\n"
     ]
    },
    {
     "name": "stderr",
     "output_type": "stream",
     "text": [
      "INFO:fetch_data:Retrieved 4 messages total...\n",
      "INFO:fetch_data:Retrieved 1000 messages total...\n",
      "INFO:fetch_data:Retrieved 1580 messages total...\n",
      "INFO:fetch_data:Retrieved 88 messages total...\n",
      "INFO:fetch_data:Collecting casts for user 213115.....\n",
      "INFO:fetch_data:Retrieved 615 messages total...\n",
      "INFO:fetch_data:Retrieved 337 replies for user: 213115...\n",
      "INFO:fetch_data:Retrieved 575 messages total...\n"
     ]
    },
    {
     "name": "stdout",
     "output_type": "stream",
     "text": [
      "Collecting connections metadata for FID: 213115\n",
      "Added connections metadata to user data for FID: 213115\n"
     ]
    },
    {
     "name": "stderr",
     "output_type": "stream",
     "text": [
      "INFO:fetch_data:Successfully uploaded user_user_213115_data.json_data.json to cloud-cartography\n"
     ]
    },
    {
     "name": "stdout",
     "output_type": "stream",
     "text": [
      "Successfully uploaded data for FID: 213115 to S3.\n",
      "Completed processing for FID: 213115\n",
      "\n",
      "Processing FID: 278653 (56/3944)\n"
     ]
    },
    {
     "name": "stderr",
     "output_type": "stream",
     "text": [
      "INFO:fetch_data:Retrieved 4 messages total...\n",
      "INFO:fetch_data:Retrieved 1000 messages total...\n",
      "INFO:fetch_data:Retrieved 2000 messages total...\n",
      "INFO:fetch_data:Retrieved 3000 messages total...\n",
      "INFO:fetch_data:Retrieved 3223 messages total...\n",
      "INFO:fetch_data:Retrieved 1000 messages total...\n",
      "INFO:fetch_data:Retrieved 1752 messages total...\n",
      "INFO:fetch_data:Collecting casts for user 278653.....\n",
      "INFO:fetch_data:Retrieved 1000 messages total...\n",
      "INFO:fetch_data:Retrieved 2000 messages total...\n",
      "INFO:fetch_data:Retrieved 3000 messages total...\n",
      "INFO:fetch_data:Retrieved 4000 messages total...\n",
      "INFO:fetch_data:Retrieved 5000 messages total...\n",
      "INFO:fetch_data:Retrieved 6000 messages total...\n",
      "INFO:fetch_data:Retrieved 7000 messages total...\n",
      "INFO:fetch_data:Retrieved 8000 messages total...\n",
      "INFO:fetch_data:Retrieved 9000 messages total...\n",
      "INFO:fetch_data:Retrieved 10000 messages total...\n",
      "INFO:fetch_data:Retrieved 10004 messages total...\n",
      "INFO:fetch_data:Retrieved 8794 replies for user: 278653...\n",
      "INFO:fetch_data:Retrieved 1000 messages total...\n",
      "INFO:fetch_data:Retrieved 2000 messages total...\n",
      "INFO:fetch_data:Retrieved 3000 messages total...\n",
      "INFO:fetch_data:Retrieved 3687 messages total...\n"
     ]
    },
    {
     "name": "stdout",
     "output_type": "stream",
     "text": [
      "Collecting connections metadata for FID: 278653\n",
      "Added connections metadata to user data for FID: 278653\n"
     ]
    },
    {
     "name": "stderr",
     "output_type": "stream",
     "text": [
      "INFO:fetch_data:Successfully uploaded user_user_278653_data.json_data.json to cloud-cartography\n"
     ]
    },
    {
     "name": "stdout",
     "output_type": "stream",
     "text": [
      "Successfully uploaded data for FID: 278653 to S3.\n",
      "Completed processing for FID: 278653\n",
      "\n",
      "Processing FID: 278655 (57/3944)\n"
     ]
    },
    {
     "name": "stderr",
     "output_type": "stream",
     "text": [
      "INFO:fetch_data:Retrieved 4 messages total...\n",
      "INFO:fetch_data:Retrieved 1000 messages total...\n",
      "INFO:fetch_data:Retrieved 2000 messages total...\n",
      "INFO:fetch_data:Retrieved 2749 messages total...\n",
      "INFO:fetch_data:Retrieved 43 messages total...\n",
      "INFO:fetch_data:Collecting casts for user 278655.....\n",
      "INFO:fetch_data:Retrieved 955 messages total...\n",
      "INFO:fetch_data:Retrieved 584 replies for user: 278655...\n",
      "INFO:fetch_data:Retrieved 401 messages total...\n"
     ]
    },
    {
     "name": "stdout",
     "output_type": "stream",
     "text": [
      "Collecting connections metadata for FID: 278655\n",
      "Added connections metadata to user data for FID: 278655\n"
     ]
    },
    {
     "name": "stderr",
     "output_type": "stream",
     "text": [
      "INFO:fetch_data:Successfully uploaded user_user_278655_data.json_data.json to cloud-cartography\n"
     ]
    },
    {
     "name": "stdout",
     "output_type": "stream",
     "text": [
      "Successfully uploaded data for FID: 278655 to S3.\n",
      "Completed processing for FID: 278655\n",
      "\n",
      "Processing FID: 16512 (58/3944)\n"
     ]
    },
    {
     "name": "stderr",
     "output_type": "stream",
     "text": [
      "INFO:fetch_data:Retrieved 4 messages total...\n",
      "INFO:fetch_data:Retrieved 1000 messages total...\n",
      "INFO:fetch_data:Retrieved 2000 messages total...\n",
      "INFO:fetch_data:Retrieved 3000 messages total...\n",
      "INFO:fetch_data:Retrieved 3079 messages total...\n",
      "INFO:fetch_data:Retrieved 56 messages total...\n",
      "INFO:fetch_data:Collecting casts for user 16512.....\n",
      "INFO:fetch_data:Retrieved 383 messages total...\n",
      "INFO:fetch_data:Retrieved 238 replies for user: 16512...\n",
      "INFO:fetch_data:Retrieved 508 messages total...\n"
     ]
    },
    {
     "name": "stdout",
     "output_type": "stream",
     "text": [
      "Collecting connections metadata for FID: 16512\n",
      "Added connections metadata to user data for FID: 16512\n"
     ]
    },
    {
     "name": "stderr",
     "output_type": "stream",
     "text": [
      "INFO:fetch_data:Successfully uploaded user_user_16512_data.json_data.json to cloud-cartography\n"
     ]
    },
    {
     "name": "stdout",
     "output_type": "stream",
     "text": [
      "Successfully uploaded data for FID: 16512 to S3.\n",
      "Completed processing for FID: 16512\n",
      "\n",
      "Processing FID: 237699 (59/3944)\n"
     ]
    },
    {
     "name": "stderr",
     "output_type": "stream",
     "text": [
      "INFO:fetch_data:Retrieved 4 messages total...\n",
      "INFO:fetch_data:Retrieved 11 messages total...\n",
      "INFO:fetch_data:Retrieved 2 messages total...\n",
      "INFO:fetch_data:Collecting casts for user 237699.....\n",
      "INFO:fetch_data:Retrieved 6 messages total...\n",
      "INFO:fetch_data:Retrieved 3 replies for user: 237699...\n",
      "INFO:fetch_data:Retrieved 21 messages total...\n"
     ]
    },
    {
     "name": "stdout",
     "output_type": "stream",
     "text": [
      "Collecting connections metadata for FID: 237699\n",
      "Added connections metadata to user data for FID: 237699\n"
     ]
    },
    {
     "name": "stderr",
     "output_type": "stream",
     "text": [
      "INFO:fetch_data:Successfully uploaded user_user_237699_data.json_data.json to cloud-cartography\n"
     ]
    },
    {
     "name": "stdout",
     "output_type": "stream",
     "text": [
      "Successfully uploaded data for FID: 237699 to S3.\n",
      "Completed processing for FID: 237699\n",
      "\n",
      "Processing FID: 213125 (60/3944)\n"
     ]
    },
    {
     "name": "stderr",
     "output_type": "stream",
     "text": [
      "INFO:fetch_data:Retrieved 4 messages total...\n",
      "INFO:fetch_data:Retrieved 243 messages total...\n",
      "INFO:fetch_data:Retrieved 9 messages total...\n",
      "INFO:fetch_data:Collecting casts for user 213125.....\n",
      "INFO:fetch_data:Retrieved 112 messages total...\n",
      "INFO:fetch_data:Retrieved 74 replies for user: 213125...\n",
      "INFO:fetch_data:Retrieved 149 messages total...\n"
     ]
    },
    {
     "name": "stdout",
     "output_type": "stream",
     "text": [
      "Collecting connections metadata for FID: 213125\n",
      "Added connections metadata to user data for FID: 213125\n"
     ]
    },
    {
     "name": "stderr",
     "output_type": "stream",
     "text": [
      "INFO:fetch_data:Successfully uploaded user_user_213125_data.json_data.json to cloud-cartography\n"
     ]
    },
    {
     "name": "stdout",
     "output_type": "stream",
     "text": [
      "Successfully uploaded data for FID: 213125 to S3.\n",
      "Completed processing for FID: 213125\n",
      "\n",
      "Processing FID: 483462 (61/3944)\n"
     ]
    },
    {
     "name": "stderr",
     "output_type": "stream",
     "text": [
      "INFO:fetch_data:Retrieved 4 messages total...\n",
      "INFO:fetch_data:Retrieved 1000 messages total...\n",
      "INFO:fetch_data:Retrieved 2000 messages total...\n",
      "INFO:fetch_data:Retrieved 2105 messages total...\n",
      "INFO:fetch_data:Retrieved 395 messages total...\n",
      "INFO:fetch_data:Collecting casts for user 483462.....\n",
      "INFO:fetch_data:Retrieved 1000 messages total...\n",
      "INFO:fetch_data:Retrieved 2000 messages total...\n",
      "INFO:fetch_data:Retrieved 3000 messages total...\n",
      "INFO:fetch_data:Retrieved 4000 messages total...\n",
      "INFO:fetch_data:Retrieved 5000 messages total...\n",
      "INFO:fetch_data:Retrieved 5003 messages total...\n",
      "INFO:fetch_data:Retrieved 4874 replies for user: 483462...\n",
      "INFO:fetch_data:Retrieved 538 messages total...\n"
     ]
    },
    {
     "name": "stdout",
     "output_type": "stream",
     "text": [
      "Collecting connections metadata for FID: 483462\n",
      "Added connections metadata to user data for FID: 483462\n"
     ]
    },
    {
     "name": "stderr",
     "output_type": "stream",
     "text": [
      "INFO:fetch_data:Successfully uploaded user_user_483462_data.json_data.json to cloud-cartography\n"
     ]
    },
    {
     "name": "stdout",
     "output_type": "stream",
     "text": [
      "Successfully uploaded data for FID: 483462 to S3.\n",
      "Completed processing for FID: 483462\n",
      "\n",
      "Processing FID: 16519 (62/3944)\n"
     ]
    },
    {
     "name": "stderr",
     "output_type": "stream",
     "text": [
      "INFO:fetch_data:Retrieved 4 messages total...\n",
      "INFO:fetch_data:Retrieved 1000 messages total...\n",
      "INFO:fetch_data:Retrieved 2000 messages total...\n",
      "INFO:fetch_data:Retrieved 3000 messages total...\n",
      "INFO:fetch_data:Retrieved 4000 messages total...\n",
      "INFO:fetch_data:Retrieved 4377 messages total...\n",
      "INFO:fetch_data:Retrieved 551 messages total...\n",
      "INFO:fetch_data:Collecting casts for user 16519.....\n",
      "INFO:fetch_data:Retrieved 1000 messages total...\n",
      "INFO:fetch_data:Retrieved 1376 messages total...\n",
      "INFO:fetch_data:Retrieved 822 replies for user: 16519...\n",
      "INFO:fetch_data:Retrieved 1000 messages total...\n",
      "INFO:fetch_data:Retrieved 1388 messages total...\n"
     ]
    },
    {
     "name": "stdout",
     "output_type": "stream",
     "text": [
      "Collecting connections metadata for FID: 16519\n",
      "Added connections metadata to user data for FID: 16519\n"
     ]
    },
    {
     "name": "stderr",
     "output_type": "stream",
     "text": [
      "INFO:fetch_data:Successfully uploaded user_user_16519_data.json_data.json to cloud-cartography\n"
     ]
    },
    {
     "name": "stdout",
     "output_type": "stream",
     "text": [
      "Successfully uploaded data for FID: 16519 to S3.\n",
      "Completed processing for FID: 16519\n",
      "\n",
      "Processing FID: 16522 (63/3944)\n"
     ]
    },
    {
     "name": "stderr",
     "output_type": "stream",
     "text": [
      "INFO:fetch_data:Retrieved 4 messages total...\n",
      "INFO:fetch_data:Retrieved 1000 messages total...\n",
      "INFO:fetch_data:Retrieved 1690 messages total...\n",
      "INFO:fetch_data:Retrieved 84 messages total...\n",
      "INFO:fetch_data:Collecting casts for user 16522.....\n",
      "INFO:fetch_data:Retrieved 1000 messages total...\n",
      "INFO:fetch_data:Retrieved 1027 messages total...\n",
      "INFO:fetch_data:Retrieved 747 replies for user: 16522...\n",
      "INFO:fetch_data:Retrieved 303 messages total...\n"
     ]
    },
    {
     "name": "stdout",
     "output_type": "stream",
     "text": [
      "Collecting connections metadata for FID: 16522\n",
      "Added connections metadata to user data for FID: 16522\n"
     ]
    },
    {
     "name": "stderr",
     "output_type": "stream",
     "text": [
      "INFO:fetch_data:Successfully uploaded user_user_16522_data.json_data.json to cloud-cartography\n"
     ]
    },
    {
     "name": "stdout",
     "output_type": "stream",
     "text": [
      "Successfully uploaded data for FID: 16522 to S3.\n",
      "Completed processing for FID: 16522\n",
      "\n",
      "Processing FID: 344203 (64/3944)\n"
     ]
    },
    {
     "name": "stderr",
     "output_type": "stream",
     "text": [
      "INFO:fetch_data:Retrieved 4 messages total...\n",
      "INFO:fetch_data:Retrieved 1000 messages total...\n",
      "INFO:fetch_data:Retrieved 2000 messages total...\n",
      "INFO:fetch_data:Retrieved 3000 messages total...\n",
      "INFO:fetch_data:Retrieved 4000 messages total...\n",
      "INFO:fetch_data:Retrieved 5000 messages total...\n",
      "INFO:fetch_data:Retrieved 6000 messages total...\n",
      "INFO:fetch_data:Retrieved 7000 messages total...\n",
      "INFO:fetch_data:Retrieved 8000 messages total...\n",
      "INFO:fetch_data:Retrieved 9000 messages total...\n",
      "INFO:fetch_data:Retrieved 10000 messages total...\n",
      "INFO:fetch_data:Retrieved 11000 messages total...\n",
      "INFO:fetch_data:Retrieved 12000 messages total...\n",
      "INFO:fetch_data:Retrieved 13000 messages total...\n",
      "INFO:fetch_data:Retrieved 14000 messages total...\n",
      "INFO:fetch_data:Retrieved 15000 messages total...\n",
      "INFO:fetch_data:Retrieved 15497 messages total...\n",
      "INFO:fetch_data:Retrieved 1000 messages total...\n",
      "INFO:fetch_data:Retrieved 1645 messages total...\n",
      "INFO:fetch_data:Collecting casts for user 344203.....\n",
      "INFO:fetch_data:Retrieved 1000 messages total...\n",
      "INFO:fetch_data:Retrieved 2000 messages total...\n",
      "INFO:fetch_data:Retrieved 3000 messages total...\n",
      "INFO:fetch_data:Retrieved 4000 messages total...\n",
      "INFO:fetch_data:Retrieved 5000 messages total...\n",
      "INFO:fetch_data:Retrieved 6000 messages total...\n",
      "INFO:fetch_data:Retrieved 7000 messages total...\n",
      "INFO:fetch_data:Retrieved 8000 messages total...\n",
      "INFO:fetch_data:Retrieved 9000 messages total...\n",
      "INFO:fetch_data:Retrieved 9610 messages total...\n",
      "INFO:fetch_data:Retrieved 7843 replies for user: 344203...\n",
      "INFO:fetch_data:Retrieved 1000 messages total...\n",
      "INFO:fetch_data:Retrieved 1784 messages total...\n"
     ]
    },
    {
     "name": "stdout",
     "output_type": "stream",
     "text": [
      "Collecting connections metadata for FID: 344203\n",
      "Added connections metadata to user data for FID: 344203\n"
     ]
    },
    {
     "name": "stderr",
     "output_type": "stream",
     "text": [
      "INFO:fetch_data:Successfully uploaded user_user_344203_data.json_data.json to cloud-cartography\n"
     ]
    },
    {
     "name": "stdout",
     "output_type": "stream",
     "text": [
      "Successfully uploaded data for FID: 344203 to S3.\n",
      "Completed processing for FID: 344203\n",
      "\n",
      "Processing FID: 336012 (65/3944)\n"
     ]
    },
    {
     "name": "stderr",
     "output_type": "stream",
     "text": [
      "INFO:fetch_data:Retrieved 4 messages total...\n",
      "INFO:fetch_data:Retrieved 1000 messages total...\n",
      "INFO:fetch_data:Retrieved 2000 messages total...\n",
      "INFO:fetch_data:Retrieved 2360 messages total...\n",
      "INFO:fetch_data:Retrieved 126 messages total...\n",
      "INFO:fetch_data:Collecting casts for user 336012.....\n",
      "INFO:fetch_data:Retrieved 1000 messages total...\n",
      "INFO:fetch_data:Retrieved 2000 messages total...\n",
      "INFO:fetch_data:Retrieved 3000 messages total...\n",
      "INFO:fetch_data:Retrieved 3934 messages total...\n",
      "INFO:fetch_data:Retrieved 3477 replies for user: 336012...\n",
      "INFO:fetch_data:Retrieved 365 messages total...\n"
     ]
    },
    {
     "name": "stdout",
     "output_type": "stream",
     "text": [
      "Collecting connections metadata for FID: 336012\n",
      "Added connections metadata to user data for FID: 336012\n"
     ]
    },
    {
     "name": "stderr",
     "output_type": "stream",
     "text": [
      "INFO:fetch_data:Successfully uploaded user_user_336012_data.json_data.json to cloud-cartography\n"
     ]
    },
    {
     "name": "stdout",
     "output_type": "stream",
     "text": [
      "Successfully uploaded data for FID: 336012 to S3.\n",
      "Completed processing for FID: 336012\n",
      "\n",
      "Processing FID: 16525 (66/3944)\n"
     ]
    },
    {
     "name": "stderr",
     "output_type": "stream",
     "text": [
      "INFO:fetch_data:Retrieved 4 messages total...\n",
      "INFO:fetch_data:Retrieved 800 messages total...\n",
      "INFO:fetch_data:Retrieved 400 messages total...\n",
      "INFO:fetch_data:Collecting casts for user 16525.....\n",
      "INFO:fetch_data:Retrieved 553 messages total...\n",
      "INFO:fetch_data:Retrieved 140 replies for user: 16525...\n",
      "INFO:fetch_data:Retrieved 1000 messages total...\n",
      "INFO:fetch_data:Retrieved 1525 messages total...\n"
     ]
    },
    {
     "name": "stdout",
     "output_type": "stream",
     "text": [
      "Collecting connections metadata for FID: 16525\n",
      "Added connections metadata to user data for FID: 16525\n"
     ]
    },
    {
     "name": "stderr",
     "output_type": "stream",
     "text": [
      "INFO:fetch_data:Successfully uploaded user_user_16525_data.json_data.json to cloud-cartography\n"
     ]
    },
    {
     "name": "stdout",
     "output_type": "stream",
     "text": [
      "Successfully uploaded data for FID: 16525 to S3.\n",
      "Completed processing for FID: 16525\n",
      "\n",
      "Processing FID: 401546 (67/3944)\n"
     ]
    },
    {
     "name": "stderr",
     "output_type": "stream",
     "text": [
      "INFO:fetch_data:Retrieved 4 messages total...\n",
      "INFO:fetch_data:Retrieved 1000 messages total...\n",
      "INFO:fetch_data:Retrieved 2000 messages total...\n",
      "INFO:fetch_data:Retrieved 3000 messages total...\n",
      "INFO:fetch_data:Retrieved 4000 messages total...\n",
      "INFO:fetch_data:Retrieved 5000 messages total...\n",
      "INFO:fetch_data:Retrieved 6000 messages total...\n",
      "INFO:fetch_data:Retrieved 7000 messages total...\n",
      "INFO:fetch_data:Retrieved 8000 messages total...\n",
      "INFO:fetch_data:Retrieved 9000 messages total...\n",
      "INFO:fetch_data:Retrieved 10000 messages total...\n",
      "INFO:fetch_data:Retrieved 11000 messages total...\n",
      "INFO:fetch_data:Retrieved 12000 messages total...\n",
      "INFO:fetch_data:Retrieved 13000 messages total...\n",
      "INFO:fetch_data:Retrieved 14000 messages total...\n",
      "INFO:fetch_data:Retrieved 14640 messages total...\n",
      "INFO:fetch_data:Retrieved 1000 messages total...\n",
      "INFO:fetch_data:Retrieved 1099 messages total...\n",
      "INFO:fetch_data:Collecting casts for user 401546.....\n",
      "INFO:fetch_data:Retrieved 1000 messages total...\n",
      "INFO:fetch_data:Retrieved 2000 messages total...\n",
      "INFO:fetch_data:Retrieved 3000 messages total...\n",
      "INFO:fetch_data:Retrieved 4000 messages total...\n",
      "INFO:fetch_data:Retrieved 5000 messages total...\n",
      "INFO:fetch_data:Retrieved 6000 messages total...\n",
      "INFO:fetch_data:Retrieved 6986 messages total...\n",
      "INFO:fetch_data:Retrieved 5270 replies for user: 401546...\n",
      "INFO:fetch_data:Retrieved 1000 messages total...\n",
      "INFO:fetch_data:Retrieved 1604 messages total...\n"
     ]
    },
    {
     "name": "stdout",
     "output_type": "stream",
     "text": [
      "Collecting connections metadata for FID: 401546\n",
      "Added connections metadata to user data for FID: 401546\n"
     ]
    },
    {
     "name": "stderr",
     "output_type": "stream",
     "text": [
      "INFO:fetch_data:Successfully uploaded user_user_401546_data.json_data.json to cloud-cartography\n"
     ]
    },
    {
     "name": "stdout",
     "output_type": "stream",
     "text": [
      "Successfully uploaded data for FID: 401546 to S3.\n",
      "Completed processing for FID: 401546\n",
      "\n",
      "Processing FID: 270477 (68/3944)\n"
     ]
    },
    {
     "name": "stderr",
     "output_type": "stream",
     "text": [
      "INFO:fetch_data:Retrieved 4 messages total...\n",
      "INFO:fetch_data:Retrieved 11 messages total...\n",
      "INFO:fetch_data:Retrieved 0 messages total...\n",
      "INFO:fetch_data:Collecting casts for user 270477.....\n",
      "INFO:fetch_data:Retrieved 39 messages total...\n",
      "INFO:fetch_data:Retrieved 13 replies for user: 270477...\n",
      "INFO:fetch_data:Retrieved 697 messages total...\n"
     ]
    },
    {
     "name": "stdout",
     "output_type": "stream",
     "text": [
      "Collecting connections metadata for FID: 270477\n",
      "Added connections metadata to user data for FID: 270477\n"
     ]
    },
    {
     "name": "stderr",
     "output_type": "stream",
     "text": [
      "INFO:fetch_data:Successfully uploaded user_user_270477_data.json_data.json to cloud-cartography\n"
     ]
    },
    {
     "name": "stdout",
     "output_type": "stream",
     "text": [
      "Successfully uploaded data for FID: 270477 to S3.\n",
      "Completed processing for FID: 270477\n",
      "\n",
      "Processing FID: 303249 (69/3944)\n"
     ]
    },
    {
     "name": "stderr",
     "output_type": "stream",
     "text": [
      "INFO:fetch_data:Retrieved 4 messages total...\n",
      "INFO:fetch_data:Retrieved 1000 messages total...\n",
      "INFO:fetch_data:Retrieved 2000 messages total...\n",
      "INFO:fetch_data:Retrieved 3000 messages total...\n",
      "INFO:fetch_data:Retrieved 4000 messages total...\n",
      "INFO:fetch_data:Retrieved 5000 messages total...\n",
      "INFO:fetch_data:Retrieved 6000 messages total...\n",
      "INFO:fetch_data:Retrieved 7000 messages total...\n",
      "INFO:fetch_data:Retrieved 8000 messages total...\n",
      "INFO:fetch_data:Retrieved 9000 messages total...\n",
      "INFO:fetch_data:Retrieved 10000 messages total...\n",
      "INFO:fetch_data:Retrieved 11000 messages total...\n",
      "INFO:fetch_data:Retrieved 11187 messages total...\n",
      "INFO:fetch_data:Retrieved 1000 messages total...\n",
      "INFO:fetch_data:Retrieved 1042 messages total...\n",
      "INFO:fetch_data:Collecting casts for user 303249.....\n",
      "INFO:fetch_data:Retrieved 1000 messages total...\n",
      "INFO:fetch_data:Retrieved 2000 messages total...\n",
      "INFO:fetch_data:Retrieved 3000 messages total...\n",
      "INFO:fetch_data:Retrieved 4000 messages total...\n",
      "INFO:fetch_data:Retrieved 4738 messages total...\n",
      "INFO:fetch_data:Retrieved 3192 replies for user: 303249...\n",
      "INFO:fetch_data:Retrieved 1000 messages total...\n",
      "INFO:fetch_data:Retrieved 1852 messages total...\n"
     ]
    },
    {
     "name": "stdout",
     "output_type": "stream",
     "text": [
      "Collecting connections metadata for FID: 303249\n",
      "Added connections metadata to user data for FID: 303249\n"
     ]
    },
    {
     "name": "stderr",
     "output_type": "stream",
     "text": [
      "INFO:fetch_data:Successfully uploaded user_user_303249_data.json_data.json to cloud-cartography\n"
     ]
    },
    {
     "name": "stdout",
     "output_type": "stream",
     "text": [
      "Successfully uploaded data for FID: 303249 to S3.\n",
      "Completed processing for FID: 303249\n",
      "\n",
      "Processing FID: 508050 (70/3944)\n"
     ]
    },
    {
     "name": "stderr",
     "output_type": "stream",
     "text": [
      "INFO:fetch_data:Retrieved 4 messages total...\n",
      "INFO:fetch_data:Retrieved 1000 messages total...\n",
      "INFO:fetch_data:Retrieved 2000 messages total...\n",
      "INFO:fetch_data:Retrieved 2454 messages total...\n",
      "INFO:fetch_data:Retrieved 188 messages total...\n",
      "INFO:fetch_data:Collecting casts for user 508050.....\n",
      "INFO:fetch_data:Retrieved 1000 messages total...\n",
      "INFO:fetch_data:Retrieved 2000 messages total...\n",
      "INFO:fetch_data:Retrieved 3000 messages total...\n",
      "INFO:fetch_data:Retrieved 4000 messages total...\n",
      "INFO:fetch_data:Retrieved 5000 messages total...\n",
      "INFO:fetch_data:Retrieved 6000 messages total...\n",
      "INFO:fetch_data:Retrieved 7000 messages total...\n",
      "INFO:fetch_data:Retrieved 8000 messages total...\n",
      "INFO:fetch_data:Retrieved 8337 messages total...\n",
      "INFO:fetch_data:Retrieved 6275 replies for user: 508050...\n",
      "INFO:fetch_data:Retrieved 1000 messages total...\n",
      "INFO:fetch_data:Retrieved 1453 messages total...\n"
     ]
    },
    {
     "name": "stdout",
     "output_type": "stream",
     "text": [
      "Collecting connections metadata for FID: 508050\n",
      "Added connections metadata to user data for FID: 508050\n"
     ]
    },
    {
     "name": "stderr",
     "output_type": "stream",
     "text": [
      "INFO:fetch_data:Successfully uploaded user_user_508050_data.json_data.json to cloud-cartography\n"
     ]
    },
    {
     "name": "stdout",
     "output_type": "stream",
     "text": [
      "Successfully uploaded data for FID: 508050 to S3.\n",
      "Completed processing for FID: 508050\n",
      "\n",
      "Processing FID: 499857 (71/3944)\n"
     ]
    },
    {
     "name": "stderr",
     "output_type": "stream",
     "text": [
      "INFO:fetch_data:Retrieved 4 messages total...\n",
      "INFO:fetch_data:Retrieved 1000 messages total...\n",
      "INFO:fetch_data:Retrieved 2000 messages total...\n",
      "INFO:fetch_data:Retrieved 3000 messages total...\n",
      "INFO:fetch_data:Retrieved 4000 messages total...\n",
      "INFO:fetch_data:Retrieved 5000 messages total...\n",
      "INFO:fetch_data:Retrieved 6000 messages total...\n",
      "INFO:fetch_data:Retrieved 7000 messages total...\n",
      "INFO:fetch_data:Retrieved 8000 messages total...\n",
      "INFO:fetch_data:Retrieved 9000 messages total...\n",
      "INFO:fetch_data:Retrieved 10000 messages total...\n",
      "INFO:fetch_data:Retrieved 11000 messages total...\n",
      "INFO:fetch_data:Retrieved 12000 messages total...\n",
      "INFO:fetch_data:Retrieved 13000 messages total...\n",
      "INFO:fetch_data:Retrieved 14000 messages total...\n",
      "INFO:fetch_data:Retrieved 15000 messages total...\n",
      "INFO:fetch_data:Retrieved 15905 messages total...\n",
      "INFO:fetch_data:Retrieved 835 messages total...\n",
      "INFO:fetch_data:Collecting casts for user 499857.....\n",
      "INFO:fetch_data:Retrieved 1000 messages total...\n",
      "INFO:fetch_data:Retrieved 2000 messages total...\n",
      "INFO:fetch_data:Retrieved 3000 messages total...\n",
      "INFO:fetch_data:Retrieved 4000 messages total...\n",
      "INFO:fetch_data:Retrieved 5000 messages total...\n",
      "INFO:fetch_data:Retrieved 6000 messages total...\n",
      "INFO:fetch_data:Retrieved 6044 messages total...\n",
      "INFO:fetch_data:Retrieved 5500 replies for user: 499857...\n",
      "INFO:fetch_data:Retrieved 836 messages total...\n"
     ]
    },
    {
     "name": "stdout",
     "output_type": "stream",
     "text": [
      "Collecting connections metadata for FID: 499857\n",
      "Added connections metadata to user data for FID: 499857\n"
     ]
    },
    {
     "name": "stderr",
     "output_type": "stream",
     "text": [
      "INFO:fetch_data:Successfully uploaded user_user_499857_data.json_data.json to cloud-cartography\n"
     ]
    },
    {
     "name": "stdout",
     "output_type": "stream",
     "text": [
      "Successfully uploaded data for FID: 499857 to S3.\n",
      "Completed processing for FID: 499857\n",
      "\n",
      "Processing FID: 262292 (72/3944)\n"
     ]
    },
    {
     "name": "stderr",
     "output_type": "stream",
     "text": [
      "INFO:fetch_data:Retrieved 4 messages total...\n",
      "INFO:fetch_data:Retrieved 1000 messages total...\n",
      "INFO:fetch_data:Retrieved 1762 messages total...\n",
      "INFO:fetch_data:Retrieved 9 messages total...\n",
      "INFO:fetch_data:Collecting casts for user 262292.....\n",
      "INFO:fetch_data:Retrieved 853 messages total...\n",
      "INFO:fetch_data:Retrieved 640 replies for user: 262292...\n",
      "INFO:fetch_data:Retrieved 295 messages total...\n"
     ]
    },
    {
     "name": "stdout",
     "output_type": "stream",
     "text": [
      "Collecting connections metadata for FID: 262292\n",
      "Added connections metadata to user data for FID: 262292\n"
     ]
    },
    {
     "name": "stderr",
     "output_type": "stream",
     "text": [
      "INFO:fetch_data:Successfully uploaded user_user_262292_data.json_data.json to cloud-cartography\n"
     ]
    },
    {
     "name": "stdout",
     "output_type": "stream",
     "text": [
      "Successfully uploaded data for FID: 262292 to S3.\n",
      "Completed processing for FID: 262292\n",
      "\n",
      "Processing FID: 336022 (73/3944)\n"
     ]
    },
    {
     "name": "stderr",
     "output_type": "stream",
     "text": [
      "INFO:fetch_data:Retrieved 4 messages total...\n",
      "INFO:fetch_data:Retrieved 1000 messages total...\n",
      "INFO:fetch_data:Retrieved 2000 messages total...\n",
      "INFO:fetch_data:Retrieved 3000 messages total...\n",
      "INFO:fetch_data:Retrieved 4000 messages total...\n",
      "INFO:fetch_data:Retrieved 5000 messages total...\n",
      "INFO:fetch_data:Retrieved 6000 messages total...\n",
      "INFO:fetch_data:Retrieved 7000 messages total...\n",
      "INFO:fetch_data:Retrieved 7407 messages total...\n",
      "INFO:fetch_data:Retrieved 1000 messages total...\n",
      "INFO:fetch_data:Retrieved 1129 messages total...\n",
      "INFO:fetch_data:Collecting casts for user 336022.....\n",
      "INFO:fetch_data:Retrieved 1000 messages total...\n",
      "INFO:fetch_data:Retrieved 2000 messages total...\n",
      "INFO:fetch_data:Retrieved 3000 messages total...\n",
      "INFO:fetch_data:Retrieved 4000 messages total...\n",
      "INFO:fetch_data:Retrieved 5000 messages total...\n",
      "INFO:fetch_data:Retrieved 6000 messages total...\n",
      "INFO:fetch_data:Retrieved 7000 messages total...\n",
      "INFO:fetch_data:Retrieved 8000 messages total...\n",
      "INFO:fetch_data:Retrieved 8880 messages total...\n",
      "INFO:fetch_data:Retrieved 7589 replies for user: 336022...\n",
      "INFO:fetch_data:Retrieved 1000 messages total...\n",
      "INFO:fetch_data:Retrieved 1012 messages total...\n"
     ]
    },
    {
     "name": "stdout",
     "output_type": "stream",
     "text": [
      "Collecting connections metadata for FID: 336022\n",
      "Added connections metadata to user data for FID: 336022\n"
     ]
    },
    {
     "name": "stderr",
     "output_type": "stream",
     "text": [
      "INFO:fetch_data:Successfully uploaded user_user_336022_data.json_data.json to cloud-cartography\n"
     ]
    },
    {
     "name": "stdout",
     "output_type": "stream",
     "text": [
      "Successfully uploaded data for FID: 336022 to S3.\n",
      "Completed processing for FID: 336022\n",
      "\n",
      "Processing FID: 213144 (74/3944)\n"
     ]
    },
    {
     "name": "stderr",
     "output_type": "stream",
     "text": [
      "INFO:fetch_data:Retrieved 4 messages total...\n",
      "INFO:fetch_data:Retrieved 1000 messages total...\n",
      "INFO:fetch_data:Retrieved 2000 messages total...\n",
      "INFO:fetch_data:Retrieved 2362 messages total...\n",
      "INFO:fetch_data:Retrieved 99 messages total...\n",
      "INFO:fetch_data:Collecting casts for user 213144.....\n",
      "INFO:fetch_data:Retrieved 1000 messages total...\n",
      "INFO:fetch_data:Retrieved 1359 messages total...\n",
      "INFO:fetch_data:Retrieved 903 replies for user: 213144...\n",
      "INFO:fetch_data:Retrieved 220 messages total...\n"
     ]
    },
    {
     "name": "stdout",
     "output_type": "stream",
     "text": [
      "Collecting connections metadata for FID: 213144\n",
      "Added connections metadata to user data for FID: 213144\n"
     ]
    },
    {
     "name": "stderr",
     "output_type": "stream",
     "text": [
      "INFO:fetch_data:Successfully uploaded user_user_213144_data.json_data.json to cloud-cartography\n"
     ]
    },
    {
     "name": "stdout",
     "output_type": "stream",
     "text": [
      "Successfully uploaded data for FID: 213144 to S3.\n",
      "Completed processing for FID: 213144\n",
      "\n",
      "Processing FID: 360601 (75/3944)\n"
     ]
    },
    {
     "name": "stderr",
     "output_type": "stream",
     "text": [
      "INFO:fetch_data:Retrieved 4 messages total...\n",
      "INFO:fetch_data:Retrieved 1000 messages total...\n",
      "INFO:fetch_data:Retrieved 2000 messages total...\n",
      "INFO:fetch_data:Retrieved 3000 messages total...\n",
      "INFO:fetch_data:Retrieved 4000 messages total...\n",
      "INFO:fetch_data:Retrieved 4512 messages total...\n",
      "INFO:fetch_data:Retrieved 484 messages total...\n",
      "INFO:fetch_data:Collecting casts for user 360601.....\n",
      "INFO:fetch_data:Retrieved 1000 messages total...\n",
      "INFO:fetch_data:Retrieved 2000 messages total...\n",
      "INFO:fetch_data:Retrieved 3000 messages total...\n",
      "INFO:fetch_data:Retrieved 4000 messages total...\n",
      "INFO:fetch_data:Retrieved 5000 messages total...\n",
      "INFO:fetch_data:Retrieved 6000 messages total...\n",
      "INFO:fetch_data:Retrieved 7000 messages total...\n",
      "INFO:fetch_data:Retrieved 7512 messages total...\n",
      "INFO:fetch_data:Retrieved 6290 replies for user: 360601...\n",
      "INFO:fetch_data:Retrieved 1000 messages total...\n",
      "INFO:fetch_data:Retrieved 1213 messages total...\n"
     ]
    },
    {
     "name": "stdout",
     "output_type": "stream",
     "text": [
      "Collecting connections metadata for FID: 360601\n",
      "Added connections metadata to user data for FID: 360601\n"
     ]
    },
    {
     "name": "stderr",
     "output_type": "stream",
     "text": [
      "INFO:fetch_data:Successfully uploaded user_user_360601_data.json_data.json to cloud-cartography\n"
     ]
    },
    {
     "name": "stdout",
     "output_type": "stream",
     "text": [
      "Successfully uploaded data for FID: 360601 to S3.\n",
      "Completed processing for FID: 360601\n",
      "\n",
      "Processing FID: 336026 (76/3944)\n"
     ]
    },
    {
     "name": "stderr",
     "output_type": "stream",
     "text": [
      "INFO:fetch_data:Retrieved 4 messages total...\n",
      "INFO:fetch_data:Retrieved 1000 messages total...\n",
      "INFO:fetch_data:Retrieved 1657 messages total...\n",
      "INFO:fetch_data:Retrieved 14 messages total...\n",
      "INFO:fetch_data:Collecting casts for user 336026.....\n",
      "INFO:fetch_data:Retrieved 963 messages total...\n",
      "INFO:fetch_data:Retrieved 664 replies for user: 336026...\n",
      "INFO:fetch_data:Retrieved 450 messages total...\n"
     ]
    },
    {
     "name": "stdout",
     "output_type": "stream",
     "text": [
      "Collecting connections metadata for FID: 336026\n",
      "Added connections metadata to user data for FID: 336026\n"
     ]
    },
    {
     "name": "stderr",
     "output_type": "stream",
     "text": [
      "INFO:fetch_data:Successfully uploaded user_user_336026_data.json_data.json to cloud-cartography\n"
     ]
    },
    {
     "name": "stdout",
     "output_type": "stream",
     "text": [
      "Successfully uploaded data for FID: 336026 to S3.\n",
      "Completed processing for FID: 336026\n",
      "\n",
      "Processing FID: 196763 (77/3944)\n"
     ]
    },
    {
     "name": "stderr",
     "output_type": "stream",
     "text": [
      "INFO:fetch_data:Retrieved 4 messages total...\n",
      "INFO:fetch_data:Retrieved 425 messages total...\n",
      "INFO:fetch_data:Retrieved 55 messages total...\n",
      "INFO:fetch_data:Collecting casts for user 196763.....\n",
      "INFO:fetch_data:Retrieved 474 messages total...\n",
      "INFO:fetch_data:Retrieved 268 replies for user: 196763...\n",
      "INFO:fetch_data:Retrieved 200 messages total...\n"
     ]
    },
    {
     "name": "stdout",
     "output_type": "stream",
     "text": [
      "Collecting connections metadata for FID: 196763\n",
      "Added connections metadata to user data for FID: 196763\n"
     ]
    },
    {
     "name": "stderr",
     "output_type": "stream",
     "text": [
      "INFO:fetch_data:Successfully uploaded user_user_196763_data.json_data.json to cloud-cartography\n"
     ]
    },
    {
     "name": "stdout",
     "output_type": "stream",
     "text": [
      "Successfully uploaded data for FID: 196763 to S3.\n",
      "Completed processing for FID: 196763\n",
      "\n",
      "Processing FID: 262301 (78/3944)\n"
     ]
    },
    {
     "name": "stderr",
     "output_type": "stream",
     "text": [
      "INFO:fetch_data:Retrieved 4 messages total...\n",
      "INFO:fetch_data:Retrieved 389 messages total...\n",
      "INFO:fetch_data:Retrieved 0 messages total...\n",
      "INFO:fetch_data:Collecting casts for user 262301.....\n",
      "INFO:fetch_data:Retrieved 1000 messages total...\n",
      "INFO:fetch_data:Retrieved 2000 messages total...\n",
      "INFO:fetch_data:Retrieved 3000 messages total...\n",
      "INFO:fetch_data:Retrieved 4000 messages total...\n",
      "INFO:fetch_data:Retrieved 5000 messages total...\n",
      "INFO:fetch_data:Retrieved 5000 messages total...\n",
      "INFO:fetch_data:Retrieved 0 replies for user: 262301...\n",
      "INFO:fetch_data:Retrieved 0 messages total...\n"
     ]
    },
    {
     "name": "stdout",
     "output_type": "stream",
     "text": [
      "Collecting connections metadata for FID: 262301\n",
      "Added connections metadata to user data for FID: 262301\n"
     ]
    },
    {
     "name": "stderr",
     "output_type": "stream",
     "text": [
      "INFO:fetch_data:Successfully uploaded user_user_262301_data.json_data.json to cloud-cartography\n"
     ]
    },
    {
     "name": "stdout",
     "output_type": "stream",
     "text": [
      "Successfully uploaded data for FID: 262301 to S3.\n",
      "Completed processing for FID: 262301\n",
      "\n",
      "Processing FID: 213152 (79/3944)\n"
     ]
    },
    {
     "name": "stderr",
     "output_type": "stream",
     "text": [
      "INFO:fetch_data:Retrieved 4 messages total...\n",
      "INFO:fetch_data:Retrieved 213 messages total...\n",
      "INFO:fetch_data:Retrieved 176 messages total...\n",
      "INFO:fetch_data:Collecting casts for user 213152.....\n",
      "INFO:fetch_data:Retrieved 106 messages total...\n",
      "INFO:fetch_data:Retrieved 55 replies for user: 213152...\n",
      "INFO:fetch_data:Retrieved 461 messages total...\n"
     ]
    },
    {
     "name": "stdout",
     "output_type": "stream",
     "text": [
      "Collecting connections metadata for FID: 213152\n",
      "Added connections metadata to user data for FID: 213152\n"
     ]
    },
    {
     "name": "stderr",
     "output_type": "stream",
     "text": [
      "INFO:fetch_data:Successfully uploaded user_user_213152_data.json_data.json to cloud-cartography\n"
     ]
    },
    {
     "name": "stdout",
     "output_type": "stream",
     "text": [
      "Successfully uploaded data for FID: 213152 to S3.\n",
      "Completed processing for FID: 213152\n",
      "\n",
      "Processing FID: 16545 (80/3944)\n"
     ]
    },
    {
     "name": "stderr",
     "output_type": "stream",
     "text": [
      "INFO:fetch_data:Retrieved 4 messages total...\n",
      "INFO:fetch_data:Retrieved 1000 messages total...\n",
      "INFO:fetch_data:Retrieved 2000 messages total...\n",
      "INFO:fetch_data:Retrieved 3000 messages total...\n",
      "INFO:fetch_data:Retrieved 4000 messages total...\n",
      "INFO:fetch_data:Retrieved 4717 messages total...\n",
      "INFO:fetch_data:Retrieved 1000 messages total...\n",
      "INFO:fetch_data:Retrieved 1093 messages total...\n",
      "INFO:fetch_data:Collecting casts for user 16545.....\n",
      "INFO:fetch_data:Retrieved 1000 messages total...\n",
      "INFO:fetch_data:Retrieved 2000 messages total...\n",
      "INFO:fetch_data:Retrieved 2362 messages total...\n",
      "INFO:fetch_data:Retrieved 1704 replies for user: 16545...\n",
      "INFO:fetch_data:Retrieved 1000 messages total...\n",
      "INFO:fetch_data:Retrieved 2000 messages total...\n",
      "INFO:fetch_data:Retrieved 3000 messages total...\n",
      "INFO:fetch_data:Retrieved 3038 messages total...\n"
     ]
    },
    {
     "name": "stdout",
     "output_type": "stream",
     "text": [
      "Collecting connections metadata for FID: 16545\n",
      "Added connections metadata to user data for FID: 16545\n"
     ]
    },
    {
     "name": "stderr",
     "output_type": "stream",
     "text": [
      "INFO:fetch_data:Successfully uploaded user_user_16545_data.json_data.json to cloud-cartography\n"
     ]
    },
    {
     "name": "stdout",
     "output_type": "stream",
     "text": [
      "Successfully uploaded data for FID: 16545 to S3.\n",
      "Completed processing for FID: 16545\n",
      "\n",
      "Processing FID: 16544 (81/3944)\n"
     ]
    },
    {
     "name": "stderr",
     "output_type": "stream",
     "text": [
      "INFO:fetch_data:Retrieved 4 messages total...\n",
      "INFO:fetch_data:Retrieved 1000 messages total...\n",
      "INFO:fetch_data:Retrieved 2000 messages total...\n",
      "INFO:fetch_data:Retrieved 2489 messages total...\n",
      "INFO:fetch_data:Retrieved 210 messages total...\n",
      "INFO:fetch_data:Collecting casts for user 16544.....\n",
      "INFO:fetch_data:Retrieved 1000 messages total...\n",
      "INFO:fetch_data:Retrieved 2000 messages total...\n",
      "INFO:fetch_data:Retrieved 2261 messages total...\n",
      "INFO:fetch_data:Retrieved 1559 replies for user: 16544...\n",
      "INFO:fetch_data:Retrieved 565 messages total...\n"
     ]
    },
    {
     "name": "stdout",
     "output_type": "stream",
     "text": [
      "Collecting connections metadata for FID: 16544\n",
      "Added connections metadata to user data for FID: 16544\n"
     ]
    },
    {
     "name": "stderr",
     "output_type": "stream",
     "text": [
      "INFO:fetch_data:Successfully uploaded user_user_16544_data.json_data.json to cloud-cartography\n"
     ]
    },
    {
     "name": "stdout",
     "output_type": "stream",
     "text": [
      "Successfully uploaded data for FID: 16544 to S3.\n",
      "Completed processing for FID: 16544\n",
      "\n",
      "Processing FID: 303267 (82/3944)\n"
     ]
    },
    {
     "name": "stderr",
     "output_type": "stream",
     "text": [
      "INFO:fetch_data:Retrieved 4 messages total...\n",
      "INFO:fetch_data:Retrieved 1000 messages total...\n",
      "INFO:fetch_data:Retrieved 2000 messages total...\n",
      "INFO:fetch_data:Retrieved 2476 messages total...\n",
      "INFO:fetch_data:Retrieved 0 messages total...\n",
      "INFO:fetch_data:Collecting casts for user 303267.....\n",
      "INFO:fetch_data:Retrieved 1000 messages total...\n",
      "INFO:fetch_data:Retrieved 2000 messages total...\n",
      "INFO:fetch_data:Retrieved 2808 messages total...\n",
      "INFO:fetch_data:Retrieved 1856 replies for user: 303267...\n",
      "INFO:fetch_data:Retrieved 716 messages total...\n"
     ]
    },
    {
     "name": "stdout",
     "output_type": "stream",
     "text": [
      "Collecting connections metadata for FID: 303267\n",
      "Added connections metadata to user data for FID: 303267\n"
     ]
    },
    {
     "name": "stderr",
     "output_type": "stream",
     "text": [
      "INFO:fetch_data:Successfully uploaded user_user_303267_data.json_data.json to cloud-cartography\n"
     ]
    },
    {
     "name": "stdout",
     "output_type": "stream",
     "text": [
      "Successfully uploaded data for FID: 303267 to S3.\n",
      "Completed processing for FID: 303267\n",
      "\n",
      "Processing FID: 270504 (83/3944)\n"
     ]
    },
    {
     "name": "stderr",
     "output_type": "stream",
     "text": [
      "INFO:fetch_data:Retrieved 4 messages total...\n",
      "INFO:fetch_data:Retrieved 1000 messages total...\n",
      "INFO:fetch_data:Retrieved 2000 messages total...\n",
      "INFO:fetch_data:Retrieved 3000 messages total...\n",
      "INFO:fetch_data:Retrieved 4000 messages total...\n",
      "INFO:fetch_data:Retrieved 5000 messages total...\n",
      "INFO:fetch_data:Retrieved 6000 messages total...\n",
      "INFO:fetch_data:Retrieved 7000 messages total...\n",
      "INFO:fetch_data:Retrieved 8000 messages total...\n",
      "INFO:fetch_data:Retrieved 9000 messages total...\n",
      "INFO:fetch_data:Retrieved 10000 messages total...\n",
      "INFO:fetch_data:Retrieved 11000 messages total...\n",
      "INFO:fetch_data:Retrieved 12000 messages total...\n",
      "INFO:fetch_data:Retrieved 12330 messages total...\n",
      "INFO:fetch_data:Retrieved 118 messages total...\n",
      "INFO:fetch_data:Collecting casts for user 270504.....\n",
      "INFO:fetch_data:Retrieved 1000 messages total...\n",
      "INFO:fetch_data:Retrieved 2000 messages total...\n",
      "INFO:fetch_data:Retrieved 3000 messages total...\n",
      "INFO:fetch_data:Retrieved 4000 messages total...\n",
      "INFO:fetch_data:Retrieved 5000 messages total...\n",
      "INFO:fetch_data:Retrieved 6000 messages total...\n",
      "INFO:fetch_data:Retrieved 7000 messages total...\n",
      "INFO:fetch_data:Retrieved 8000 messages total...\n",
      "INFO:fetch_data:Retrieved 9000 messages total...\n",
      "INFO:fetch_data:Retrieved 10000 messages total...\n",
      "INFO:fetch_data:Retrieved 11000 messages total...\n",
      "INFO:fetch_data:Retrieved 12000 messages total...\n",
      "INFO:fetch_data:Retrieved 12493 messages total...\n",
      "INFO:fetch_data:Retrieved 9439 replies for user: 270504...\n",
      "INFO:fetch_data:Retrieved 1000 messages total...\n",
      "INFO:fetch_data:Retrieved 1793 messages total...\n"
     ]
    },
    {
     "name": "stdout",
     "output_type": "stream",
     "text": [
      "Collecting connections metadata for FID: 270504\n",
      "Added connections metadata to user data for FID: 270504\n"
     ]
    },
    {
     "name": "stderr",
     "output_type": "stream",
     "text": [
      "INFO:fetch_data:Successfully uploaded user_user_270504_data.json_data.json to cloud-cartography\n"
     ]
    },
    {
     "name": "stdout",
     "output_type": "stream",
     "text": [
      "Successfully uploaded data for FID: 270504 to S3.\n",
      "Completed processing for FID: 270504\n",
      "\n",
      "Processing FID: 499880 (84/3944)\n"
     ]
    },
    {
     "name": "stderr",
     "output_type": "stream",
     "text": [
      "INFO:fetch_data:Retrieved 4 messages total...\n",
      "INFO:fetch_data:Retrieved 1000 messages total...\n",
      "INFO:fetch_data:Retrieved 2000 messages total...\n",
      "INFO:fetch_data:Retrieved 2321 messages total...\n",
      "INFO:fetch_data:Retrieved 98 messages total...\n",
      "INFO:fetch_data:Collecting casts for user 499880.....\n",
      "INFO:fetch_data:Retrieved 1000 messages total...\n",
      "INFO:fetch_data:Retrieved 1733 messages total...\n",
      "INFO:fetch_data:Retrieved 1176 replies for user: 499880...\n",
      "INFO:fetch_data:Retrieved 738 messages total...\n"
     ]
    },
    {
     "name": "stdout",
     "output_type": "stream",
     "text": [
      "Collecting connections metadata for FID: 499880\n",
      "Added connections metadata to user data for FID: 499880\n"
     ]
    },
    {
     "name": "stderr",
     "output_type": "stream",
     "text": [
      "INFO:fetch_data:Successfully uploaded user_user_499880_data.json_data.json to cloud-cartography\n"
     ]
    },
    {
     "name": "stdout",
     "output_type": "stream",
     "text": [
      "Successfully uploaded data for FID: 499880 to S3.\n",
      "Completed processing for FID: 499880\n",
      "\n",
      "Processing FID: 188589 (85/3944)\n"
     ]
    },
    {
     "name": "stderr",
     "output_type": "stream",
     "text": [
      "INFO:fetch_data:Retrieved 4 messages total...\n",
      "INFO:fetch_data:Retrieved 1000 messages total...\n",
      "INFO:fetch_data:Retrieved 2000 messages total...\n",
      "INFO:fetch_data:Retrieved 2462 messages total...\n",
      "INFO:fetch_data:Retrieved 117 messages total...\n",
      "INFO:fetch_data:Collecting casts for user 188589.....\n",
      "INFO:fetch_data:Retrieved 1000 messages total...\n",
      "INFO:fetch_data:Retrieved 2000 messages total...\n",
      "INFO:fetch_data:Retrieved 2992 messages total...\n",
      "INFO:fetch_data:Retrieved 2138 replies for user: 188589...\n",
      "INFO:fetch_data:Retrieved 1000 messages total...\n",
      "INFO:fetch_data:Retrieved 1091 messages total...\n"
     ]
    },
    {
     "name": "stdout",
     "output_type": "stream",
     "text": [
      "Collecting connections metadata for FID: 188589\n",
      "Added connections metadata to user data for FID: 188589\n"
     ]
    },
    {
     "name": "stderr",
     "output_type": "stream",
     "text": [
      "INFO:fetch_data:Successfully uploaded user_user_188589_data.json_data.json to cloud-cartography\n"
     ]
    },
    {
     "name": "stdout",
     "output_type": "stream",
     "text": [
      "Successfully uploaded data for FID: 188589 to S3.\n",
      "Completed processing for FID: 188589\n",
      "\n",
      "Processing FID: 360623 (86/3944)\n"
     ]
    },
    {
     "name": "stderr",
     "output_type": "stream",
     "text": [
      "INFO:fetch_data:Retrieved 4 messages total...\n",
      "INFO:fetch_data:Retrieved 1000 messages total...\n",
      "INFO:fetch_data:Retrieved 2000 messages total...\n",
      "INFO:fetch_data:Retrieved 3000 messages total...\n",
      "INFO:fetch_data:Retrieved 4000 messages total...\n",
      "INFO:fetch_data:Retrieved 5000 messages total...\n",
      "INFO:fetch_data:Retrieved 6000 messages total...\n",
      "INFO:fetch_data:Retrieved 7000 messages total...\n",
      "INFO:fetch_data:Retrieved 8000 messages total...\n",
      "INFO:fetch_data:Retrieved 9000 messages total...\n",
      "INFO:fetch_data:Retrieved 10000 messages total...\n",
      "INFO:fetch_data:Retrieved 11000 messages total...\n",
      "INFO:fetch_data:Retrieved 12000 messages total...\n",
      "INFO:fetch_data:Retrieved 13000 messages total...\n",
      "INFO:fetch_data:Retrieved 14000 messages total...\n",
      "INFO:fetch_data:Retrieved 15000 messages total...\n",
      "INFO:fetch_data:Retrieved 16000 messages total...\n",
      "INFO:fetch_data:Retrieved 17000 messages total...\n",
      "INFO:fetch_data:Retrieved 18000 messages total...\n",
      "INFO:fetch_data:Retrieved 19000 messages total...\n",
      "INFO:fetch_data:Retrieved 20000 messages total...\n",
      "INFO:fetch_data:Retrieved 21000 messages total...\n",
      "INFO:fetch_data:Retrieved 22000 messages total...\n",
      "INFO:fetch_data:Retrieved 23000 messages total...\n",
      "INFO:fetch_data:Retrieved 24000 messages total...\n",
      "INFO:fetch_data:Retrieved 25000 messages total...\n",
      "INFO:fetch_data:Retrieved 26000 messages total...\n",
      "INFO:fetch_data:Retrieved 27000 messages total...\n",
      "INFO:fetch_data:Retrieved 28000 messages total...\n",
      "INFO:fetch_data:Retrieved 29000 messages total...\n",
      "INFO:fetch_data:Retrieved 30000 messages total...\n",
      "INFO:fetch_data:Retrieved 31000 messages total...\n",
      "INFO:fetch_data:Retrieved 32000 messages total...\n",
      "INFO:fetch_data:Retrieved 33000 messages total...\n",
      "INFO:fetch_data:Retrieved 34000 messages total...\n",
      "INFO:fetch_data:Retrieved 35000 messages total...\n",
      "INFO:fetch_data:Retrieved 36000 messages total...\n",
      "INFO:fetch_data:Retrieved 37000 messages total...\n",
      "INFO:fetch_data:Retrieved 38000 messages total...\n",
      "INFO:fetch_data:Retrieved 39000 messages total...\n",
      "INFO:fetch_data:Retrieved 40000 messages total...\n",
      "INFO:fetch_data:Retrieved 41000 messages total...\n",
      "INFO:fetch_data:Retrieved 42000 messages total...\n",
      "INFO:fetch_data:Retrieved 43000 messages total...\n",
      "INFO:fetch_data:Retrieved 44000 messages total...\n",
      "INFO:fetch_data:Retrieved 45000 messages total...\n",
      "INFO:fetch_data:Retrieved 46000 messages total...\n",
      "INFO:fetch_data:Retrieved 47000 messages total...\n",
      "INFO:fetch_data:Retrieved 48000 messages total...\n",
      "INFO:fetch_data:Retrieved 49000 messages total...\n",
      "INFO:fetch_data:Retrieved 50000 messages total...\n",
      "INFO:fetch_data:Retrieved 51000 messages total...\n",
      "INFO:fetch_data:Retrieved 52000 messages total...\n",
      "INFO:fetch_data:Retrieved 53000 messages total...\n",
      "INFO:fetch_data:Retrieved 54000 messages total...\n",
      "INFO:fetch_data:Retrieved 55000 messages total...\n",
      "INFO:fetch_data:Retrieved 56000 messages total...\n",
      "INFO:fetch_data:Retrieved 57000 messages total...\n",
      "INFO:fetch_data:Retrieved 57788 messages total...\n",
      "INFO:fetch_data:Retrieved 1000 messages total...\n",
      "INFO:fetch_data:Retrieved 2000 messages total...\n",
      "INFO:fetch_data:Retrieved 3000 messages total...\n",
      "INFO:fetch_data:Retrieved 4000 messages total...\n",
      "INFO:fetch_data:Retrieved 5000 messages total...\n",
      "INFO:fetch_data:Retrieved 6000 messages total...\n",
      "INFO:fetch_data:Retrieved 7000 messages total...\n",
      "INFO:fetch_data:Retrieved 8000 messages total...\n",
      "INFO:fetch_data:Retrieved 9000 messages total...\n",
      "INFO:fetch_data:Retrieved 10000 messages total...\n",
      "INFO:fetch_data:Retrieved 10378 messages total...\n",
      "INFO:fetch_data:Collecting casts for user 360623.....\n",
      "INFO:fetch_data:Retrieved 1000 messages total...\n",
      "INFO:fetch_data:Retrieved 2000 messages total...\n",
      "INFO:fetch_data:Retrieved 3000 messages total...\n",
      "INFO:fetch_data:Retrieved 4000 messages total...\n",
      "INFO:fetch_data:Retrieved 5000 messages total...\n",
      "INFO:fetch_data:Retrieved 6000 messages total...\n",
      "INFO:fetch_data:Retrieved 7000 messages total...\n",
      "INFO:fetch_data:Retrieved 8000 messages total...\n",
      "INFO:fetch_data:Retrieved 9000 messages total...\n",
      "INFO:fetch_data:Retrieved 10000 messages total...\n",
      "INFO:fetch_data:Retrieved 11000 messages total...\n",
      "INFO:fetch_data:Retrieved 12000 messages total...\n",
      "INFO:fetch_data:Retrieved 13000 messages total...\n",
      "INFO:fetch_data:Retrieved 14000 messages total...\n",
      "INFO:fetch_data:Retrieved 15000 messages total...\n",
      "INFO:fetch_data:Retrieved 16000 messages total...\n",
      "INFO:fetch_data:Retrieved 17000 messages total...\n",
      "INFO:fetch_data:Retrieved 18000 messages total...\n",
      "INFO:fetch_data:Retrieved 19000 messages total...\n",
      "INFO:fetch_data:Retrieved 20000 messages total...\n",
      "INFO:fetch_data:Retrieved 21000 messages total...\n",
      "INFO:fetch_data:Retrieved 22000 messages total...\n",
      "INFO:fetch_data:Retrieved 23000 messages total...\n",
      "INFO:fetch_data:Retrieved 24000 messages total...\n",
      "INFO:fetch_data:Retrieved 25000 messages total...\n",
      "INFO:fetch_data:Retrieved 26000 messages total...\n",
      "INFO:fetch_data:Retrieved 27000 messages total...\n",
      "INFO:fetch_data:Retrieved 28000 messages total...\n",
      "INFO:fetch_data:Retrieved 29000 messages total...\n",
      "INFO:fetch_data:Retrieved 30000 messages total...\n",
      "INFO:fetch_data:Retrieved 31000 messages total...\n",
      "INFO:fetch_data:Retrieved 32000 messages total...\n",
      "INFO:fetch_data:Retrieved 33000 messages total...\n",
      "INFO:fetch_data:Retrieved 34000 messages total...\n",
      "INFO:fetch_data:Retrieved 35000 messages total...\n",
      "INFO:fetch_data:Retrieved 36000 messages total...\n",
      "INFO:fetch_data:Retrieved 37000 messages total...\n",
      "INFO:fetch_data:Retrieved 38000 messages total...\n",
      "INFO:fetch_data:Retrieved 39000 messages total...\n",
      "INFO:fetch_data:Retrieved 39015 messages total...\n",
      "INFO:fetch_data:Retrieved 36685 replies for user: 360623...\n",
      "INFO:fetch_data:Retrieved 908 messages total...\n"
     ]
    },
    {
     "name": "stdout",
     "output_type": "stream",
     "text": [
      "Collecting connections metadata for FID: 360623\n",
      "Added connections metadata to user data for FID: 360623\n"
     ]
    },
    {
     "name": "stderr",
     "output_type": "stream",
     "text": [
      "INFO:fetch_data:Successfully uploaded user_user_360623_data.json_data.json to cloud-cartography\n"
     ]
    },
    {
     "name": "stdout",
     "output_type": "stream",
     "text": [
      "Successfully uploaded data for FID: 360623 to S3.\n",
      "Completed processing for FID: 360623\n",
      "\n",
      "Processing FID: 254128 (87/3944)\n"
     ]
    },
    {
     "name": "stderr",
     "output_type": "stream",
     "text": [
      "INFO:fetch_data:Retrieved 4 messages total...\n",
      "INFO:fetch_data:Retrieved 945 messages total...\n",
      "INFO:fetch_data:Retrieved 16 messages total...\n",
      "INFO:fetch_data:Collecting casts for user 254128.....\n",
      "INFO:fetch_data:Retrieved 771 messages total...\n",
      "INFO:fetch_data:Retrieved 551 replies for user: 254128...\n",
      "INFO:fetch_data:Retrieved 458 messages total...\n"
     ]
    },
    {
     "name": "stdout",
     "output_type": "stream",
     "text": [
      "Collecting connections metadata for FID: 254128\n",
      "Added connections metadata to user data for FID: 254128\n"
     ]
    },
    {
     "name": "stderr",
     "output_type": "stream",
     "text": [
      "INFO:fetch_data:Successfully uploaded user_user_254128_data.json_data.json to cloud-cartography\n"
     ]
    },
    {
     "name": "stdout",
     "output_type": "stream",
     "text": [
      "Successfully uploaded data for FID: 254128 to S3.\n",
      "Completed processing for FID: 254128\n",
      "\n",
      "Processing FID: 827572 (88/3944)\n"
     ]
    },
    {
     "name": "stderr",
     "output_type": "stream",
     "text": [
      "INFO:fetch_data:Retrieved 4 messages total...\n",
      "INFO:fetch_data:Retrieved 1000 messages total...\n",
      "INFO:fetch_data:Retrieved 1787 messages total...\n",
      "INFO:fetch_data:Retrieved 704 messages total...\n",
      "INFO:fetch_data:Collecting casts for user 827572.....\n",
      "INFO:fetch_data:Retrieved 1000 messages total...\n",
      "INFO:fetch_data:Retrieved 2000 messages total...\n",
      "INFO:fetch_data:Retrieved 3000 messages total...\n",
      "INFO:fetch_data:Retrieved 4000 messages total...\n",
      "INFO:fetch_data:Retrieved 5000 messages total...\n",
      "INFO:fetch_data:Retrieved 5001 messages total...\n",
      "INFO:fetch_data:Retrieved 4727 replies for user: 827572...\n",
      "INFO:fetch_data:Retrieved 448 messages total...\n"
     ]
    },
    {
     "name": "stdout",
     "output_type": "stream",
     "text": [
      "Collecting connections metadata for FID: 827572\n",
      "Added connections metadata to user data for FID: 827572\n"
     ]
    },
    {
     "name": "stderr",
     "output_type": "stream",
     "text": [
      "INFO:fetch_data:Successfully uploaded user_user_827572_data.json_data.json to cloud-cartography\n"
     ]
    },
    {
     "name": "stdout",
     "output_type": "stream",
     "text": [
      "Successfully uploaded data for FID: 827572 to S3.\n",
      "Completed processing for FID: 827572\n",
      "\n",
      "Processing FID: 270517 (89/3944)\n"
     ]
    },
    {
     "name": "stderr",
     "output_type": "stream",
     "text": [
      "INFO:fetch_data:Retrieved 4 messages total...\n",
      "INFO:fetch_data:Retrieved 1000 messages total...\n",
      "INFO:fetch_data:Retrieved 2000 messages total...\n",
      "INFO:fetch_data:Retrieved 2455 messages total...\n",
      "INFO:fetch_data:Retrieved 18 messages total...\n",
      "INFO:fetch_data:Collecting casts for user 270517.....\n",
      "INFO:fetch_data:Retrieved 541 messages total...\n",
      "INFO:fetch_data:Retrieved 291 replies for user: 270517...\n",
      "INFO:fetch_data:Retrieved 1000 messages total...\n",
      "INFO:fetch_data:Retrieved 1139 messages total...\n"
     ]
    },
    {
     "name": "stdout",
     "output_type": "stream",
     "text": [
      "Collecting connections metadata for FID: 270517\n",
      "Added connections metadata to user data for FID: 270517\n"
     ]
    },
    {
     "name": "stderr",
     "output_type": "stream",
     "text": [
      "INFO:fetch_data:Successfully uploaded user_user_270517_data.json_data.json to cloud-cartography\n"
     ]
    },
    {
     "name": "stdout",
     "output_type": "stream",
     "text": [
      "Successfully uploaded data for FID: 270517 to S3.\n",
      "Completed processing for FID: 270517\n",
      "\n",
      "Processing FID: 409781 (90/3944)\n"
     ]
    },
    {
     "name": "stderr",
     "output_type": "stream",
     "text": [
      "INFO:fetch_data:Retrieved 4 messages total...\n",
      "INFO:fetch_data:Retrieved 1000 messages total...\n",
      "INFO:fetch_data:Retrieved 2000 messages total...\n",
      "INFO:fetch_data:Retrieved 2777 messages total...\n",
      "INFO:fetch_data:Retrieved 39 messages total...\n",
      "INFO:fetch_data:Collecting casts for user 409781.....\n",
      "INFO:fetch_data:Retrieved 1000 messages total...\n",
      "INFO:fetch_data:Retrieved 1915 messages total...\n",
      "INFO:fetch_data:Retrieved 1136 replies for user: 409781...\n",
      "INFO:fetch_data:Retrieved 1000 messages total...\n",
      "INFO:fetch_data:Retrieved 2000 messages total...\n",
      "INFO:fetch_data:Retrieved 3000 messages total...\n",
      "INFO:fetch_data:Retrieved 4000 messages total...\n",
      "INFO:fetch_data:Retrieved 5000 messages total...\n",
      "INFO:fetch_data:Retrieved 5544 messages total...\n"
     ]
    },
    {
     "name": "stdout",
     "output_type": "stream",
     "text": [
      "Collecting connections metadata for FID: 409781\n",
      "Added connections metadata to user data for FID: 409781\n"
     ]
    },
    {
     "name": "stderr",
     "output_type": "stream",
     "text": [
      "INFO:fetch_data:Successfully uploaded user_user_409781_data.json_data.json to cloud-cartography\n"
     ]
    },
    {
     "name": "stdout",
     "output_type": "stream",
     "text": [
      "Successfully uploaded data for FID: 409781 to S3.\n",
      "Completed processing for FID: 409781\n",
      "\n",
      "Processing FID: 16567 (91/3944)\n"
     ]
    },
    {
     "name": "stderr",
     "output_type": "stream",
     "text": [
      "INFO:fetch_data:Retrieved 4 messages total...\n",
      "INFO:fetch_data:Retrieved 1000 messages total...\n",
      "INFO:fetch_data:Retrieved 2000 messages total...\n",
      "INFO:fetch_data:Retrieved 3000 messages total...\n",
      "INFO:fetch_data:Retrieved 4000 messages total...\n",
      "INFO:fetch_data:Retrieved 5000 messages total...\n",
      "INFO:fetch_data:Retrieved 6000 messages total...\n",
      "INFO:fetch_data:Retrieved 6181 messages total...\n",
      "INFO:fetch_data:Retrieved 288 messages total...\n",
      "INFO:fetch_data:Collecting casts for user 16567.....\n",
      "INFO:fetch_data:Retrieved 1000 messages total...\n",
      "INFO:fetch_data:Retrieved 2000 messages total...\n",
      "INFO:fetch_data:Retrieved 3000 messages total...\n",
      "INFO:fetch_data:Retrieved 4000 messages total...\n",
      "INFO:fetch_data:Retrieved 4127 messages total...\n",
      "INFO:fetch_data:Retrieved 2620 replies for user: 16567...\n",
      "INFO:fetch_data:Retrieved 1000 messages total...\n",
      "INFO:fetch_data:Retrieved 1617 messages total...\n"
     ]
    },
    {
     "name": "stdout",
     "output_type": "stream",
     "text": [
      "Collecting connections metadata for FID: 16567\n",
      "Added connections metadata to user data for FID: 16567\n"
     ]
    },
    {
     "name": "stderr",
     "output_type": "stream",
     "text": [
      "INFO:fetch_data:Successfully uploaded user_user_16567_data.json_data.json to cloud-cartography\n"
     ]
    },
    {
     "name": "stdout",
     "output_type": "stream",
     "text": [
      "Successfully uploaded data for FID: 16567 to S3.\n",
      "Completed processing for FID: 16567\n",
      "\n",
      "Processing FID: 426167 (92/3944)\n"
     ]
    },
    {
     "name": "stderr",
     "output_type": "stream",
     "text": [
      "INFO:fetch_data:Retrieved 4 messages total...\n",
      "INFO:fetch_data:Retrieved 1000 messages total...\n",
      "INFO:fetch_data:Retrieved 2000 messages total...\n",
      "INFO:fetch_data:Retrieved 3000 messages total...\n",
      "INFO:fetch_data:Retrieved 4000 messages total...\n",
      "INFO:fetch_data:Retrieved 5000 messages total...\n",
      "INFO:fetch_data:Retrieved 6000 messages total...\n",
      "INFO:fetch_data:Retrieved 7000 messages total...\n",
      "INFO:fetch_data:Retrieved 8000 messages total...\n",
      "INFO:fetch_data:Retrieved 9000 messages total...\n",
      "INFO:fetch_data:Retrieved 10000 messages total...\n",
      "INFO:fetch_data:Retrieved 10084 messages total...\n",
      "INFO:fetch_data:Retrieved 1000 messages total...\n",
      "INFO:fetch_data:Retrieved 2000 messages total...\n",
      "INFO:fetch_data:Retrieved 3000 messages total...\n",
      "INFO:fetch_data:Retrieved 4000 messages total...\n",
      "INFO:fetch_data:Retrieved 4876 messages total...\n",
      "INFO:fetch_data:Collecting casts for user 426167.....\n",
      "INFO:fetch_data:Retrieved 1000 messages total...\n",
      "INFO:fetch_data:Retrieved 2000 messages total...\n",
      "INFO:fetch_data:Retrieved 3000 messages total...\n",
      "INFO:fetch_data:Retrieved 4000 messages total...\n",
      "INFO:fetch_data:Retrieved 5000 messages total...\n",
      "INFO:fetch_data:Retrieved 6000 messages total...\n",
      "INFO:fetch_data:Retrieved 7000 messages total...\n",
      "INFO:fetch_data:Retrieved 8000 messages total...\n",
      "INFO:fetch_data:Retrieved 9000 messages total...\n",
      "INFO:fetch_data:Retrieved 10000 messages total...\n",
      "INFO:fetch_data:Retrieved 11000 messages total...\n",
      "INFO:fetch_data:Retrieved 12000 messages total...\n",
      "INFO:fetch_data:Retrieved 13000 messages total...\n",
      "INFO:fetch_data:Retrieved 14000 messages total...\n",
      "INFO:fetch_data:Retrieved 15000 messages total...\n",
      "INFO:fetch_data:Retrieved 16000 messages total...\n",
      "INFO:fetch_data:Retrieved 17000 messages total...\n",
      "INFO:fetch_data:Retrieved 18000 messages total...\n",
      "INFO:fetch_data:Retrieved 19000 messages total...\n",
      "INFO:fetch_data:Retrieved 20000 messages total...\n",
      "INFO:fetch_data:Retrieved 21000 messages total...\n",
      "INFO:fetch_data:Retrieved 22000 messages total...\n",
      "INFO:fetch_data:Retrieved 23000 messages total...\n",
      "INFO:fetch_data:Retrieved 24000 messages total...\n",
      "INFO:fetch_data:Retrieved 25000 messages total...\n",
      "INFO:fetch_data:Retrieved 26000 messages total...\n",
      "INFO:fetch_data:Retrieved 27000 messages total...\n",
      "INFO:fetch_data:Retrieved 28000 messages total...\n",
      "INFO:fetch_data:Retrieved 29000 messages total...\n",
      "INFO:fetch_data:Retrieved 29170 messages total...\n",
      "INFO:fetch_data:Retrieved 26009 replies for user: 426167...\n",
      "INFO:fetch_data:Retrieved 1000 messages total...\n",
      "INFO:fetch_data:Retrieved 1499 messages total...\n"
     ]
    },
    {
     "name": "stdout",
     "output_type": "stream",
     "text": [
      "Collecting connections metadata for FID: 426167\n",
      "Added connections metadata to user data for FID: 426167\n"
     ]
    },
    {
     "name": "stderr",
     "output_type": "stream",
     "text": [
      "INFO:fetch_data:Successfully uploaded user_user_426167_data.json_data.json to cloud-cartography\n"
     ]
    },
    {
     "name": "stdout",
     "output_type": "stream",
     "text": [
      "Successfully uploaded data for FID: 426167 to S3.\n",
      "Completed processing for FID: 426167\n",
      "\n",
      "Processing FID: 16565 (93/3944)\n"
     ]
    },
    {
     "name": "stderr",
     "output_type": "stream",
     "text": [
      "INFO:fetch_data:Retrieved 4 messages total...\n",
      "INFO:fetch_data:Retrieved 1000 messages total...\n",
      "INFO:fetch_data:Retrieved 2000 messages total...\n",
      "INFO:fetch_data:Retrieved 3000 messages total...\n",
      "INFO:fetch_data:Retrieved 4000 messages total...\n",
      "INFO:fetch_data:Retrieved 5000 messages total...\n",
      "INFO:fetch_data:Retrieved 6000 messages total...\n",
      "INFO:fetch_data:Retrieved 7000 messages total...\n",
      "INFO:fetch_data:Retrieved 8000 messages total...\n",
      "INFO:fetch_data:Retrieved 9000 messages total...\n",
      "INFO:fetch_data:Retrieved 10000 messages total...\n",
      "INFO:fetch_data:Retrieved 11000 messages total...\n",
      "INFO:fetch_data:Retrieved 12000 messages total...\n",
      "INFO:fetch_data:Retrieved 13000 messages total...\n",
      "INFO:fetch_data:Retrieved 14000 messages total...\n",
      "INFO:fetch_data:Retrieved 14075 messages total...\n",
      "INFO:fetch_data:Retrieved 886 messages total...\n",
      "INFO:fetch_data:Collecting casts for user 16565.....\n",
      "INFO:fetch_data:Retrieved 1000 messages total...\n",
      "INFO:fetch_data:Retrieved 2000 messages total...\n",
      "INFO:fetch_data:Retrieved 3000 messages total...\n",
      "INFO:fetch_data:Retrieved 4000 messages total...\n",
      "INFO:fetch_data:Retrieved 5000 messages total...\n",
      "INFO:fetch_data:Retrieved 5329 messages total...\n",
      "INFO:fetch_data:Retrieved 4512 replies for user: 16565...\n",
      "INFO:fetch_data:Retrieved 1000 messages total...\n",
      "INFO:fetch_data:Retrieved 1298 messages total...\n"
     ]
    },
    {
     "name": "stdout",
     "output_type": "stream",
     "text": [
      "Collecting connections metadata for FID: 16565\n",
      "Added connections metadata to user data for FID: 16565\n"
     ]
    },
    {
     "name": "stderr",
     "output_type": "stream",
     "text": [
      "INFO:fetch_data:Successfully uploaded user_user_16565_data.json_data.json to cloud-cartography\n"
     ]
    },
    {
     "name": "stdout",
     "output_type": "stream",
     "text": [
      "Successfully uploaded data for FID: 16565 to S3.\n",
      "Completed processing for FID: 16565\n",
      "\n",
      "Processing FID: 434358 (94/3944)\n"
     ]
    },
    {
     "name": "stderr",
     "output_type": "stream",
     "text": [
      "INFO:fetch_data:Retrieved 4 messages total...\n",
      "INFO:fetch_data:Retrieved 1000 messages total...\n",
      "INFO:fetch_data:Retrieved 2000 messages total...\n",
      "INFO:fetch_data:Retrieved 3000 messages total...\n",
      "INFO:fetch_data:Retrieved 3636 messages total...\n",
      "INFO:fetch_data:Retrieved 1000 messages total...\n",
      "INFO:fetch_data:Retrieved 1371 messages total...\n",
      "INFO:fetch_data:Collecting casts for user 434358.....\n",
      "INFO:fetch_data:Retrieved 1000 messages total...\n",
      "INFO:fetch_data:Retrieved 2000 messages total...\n",
      "INFO:fetch_data:Retrieved 3000 messages total...\n",
      "INFO:fetch_data:Retrieved 4000 messages total...\n",
      "INFO:fetch_data:Retrieved 5000 messages total...\n",
      "INFO:fetch_data:Retrieved 6000 messages total...\n",
      "INFO:fetch_data:Retrieved 7000 messages total...\n",
      "INFO:fetch_data:Retrieved 8000 messages total...\n",
      "INFO:fetch_data:Retrieved 9000 messages total...\n",
      "INFO:fetch_data:Retrieved 10000 messages total...\n",
      "INFO:fetch_data:Retrieved 10001 messages total...\n",
      "INFO:fetch_data:Retrieved 9063 replies for user: 434358...\n"
     ]
    }
   ],
   "source": [
    "get_important_users(second_tranche_cached_fids)"
   ]
  }
 ],
 "metadata": {
  "kernelspec": {
   "display_name": "Python 3 (ipykernel)",
   "language": "python",
   "name": "python3"
  },
  "language_info": {
   "codemirror_mode": {
    "name": "ipython",
    "version": 3
   },
   "file_extension": ".py",
   "mimetype": "text/x-python",
   "name": "python",
   "nbconvert_exporter": "python",
   "pygments_lexer": "ipython3",
   "version": "3.10.0"
  }
 },
 "nbformat": 4,
 "nbformat_minor": 5
}
