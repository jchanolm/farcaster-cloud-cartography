{
 "cells": [
  {
   "cell_type": "code",
   "execution_count": 1,
   "id": "dfb8931b-14eb-4086-a522-771a36da00d3",
   "metadata": {},
   "outputs": [],
   "source": [
    "import os\n",
    "import sys\n",
    "import requests\n",
    "import json\n",
    "import boto3\n",
    "\n",
    "from farcaster import Warpcast\n",
    "from botocore.exceptions import NoCredentialsError, ClientError\n",
    "from dotenv import load_dotenv\n",
    "\n",
    "load_dotenv()\n",
    "\n",
    "AWS_ACCESS_KEY_ID = os.getenv('AWS_ACCESS_KEY')\n",
    "AWS_SECRET_ACCESS_KEY = os.getenv('AWS_SECRET_ACCESS_KEY')\n",
    "BUCKET_NAME = 'cloud-cartography'\n",
    "FARCASTER_MNEMONIC = os.getenv('FARCASTER_MNEMONIC')"
   ]
  },
  {
   "cell_type": "code",
   "execution_count": 6,
   "id": "bdcaeb47-f4c8-4d0a-8ee8-2abd4e06039d",
   "metadata": {},
   "outputs": [],
   "source": [
    "data_ingestion_path = os.path.abspath(os.path.join('..', 'data_ingestion'))\n",
    "if data_ingestion_path not in sys.path:\n",
    "    sys.path.append(data_ingestion_path)\n",
    "\n",
    "from fetch_data import DataFetcher\n",
    "fetcher = DataFetcher(data_dir='data/raw/')"
   ]
  },
  {
   "cell_type": "code",
   "execution_count": 7,
   "id": "4ea8683a-47cd-4449-b28d-d88d94fca2d1",
   "metadata": {},
   "outputs": [],
   "source": [
    "og_fids = [10000]"
   ]
  },
  {
   "cell_type": "code",
   "execution_count": 8,
   "id": "2aba4e09-45a6-4823-8509-00b7859264f4",
   "metadata": {},
   "outputs": [],
   "source": [
    "def get_important_users(fids):\n",
    "    fetcher.get_all_users_data_s3(fids)"
   ]
  },
  {
   "cell_type": "code",
   "execution_count": 9,
   "id": "c81eacd7-e9e9-4497-859f-030dac360a47",
   "metadata": {},
   "outputs": [
    {
     "name": "stdout",
     "output_type": "stream",
     "text": [
      "Processing FID: 10000 (1/1)\n"
     ]
    },
    {
     "name": "stderr",
     "output_type": "stream",
     "text": [
      "INFO:fetch_data:Retrieved 3 messages total...\n",
      "INFO:fetch_data:Retrieved 21 messages total...\n",
      "INFO:fetch_data:Retrieved 4 messages total...\n",
      "INFO:fetch_data:Collecting casts for user 10000.....\n",
      "INFO:fetch_data:Retrieved 29 messages total...\n",
      "INFO:fetch_data:Retrieved 13 replies for user: 10000...\n",
      "INFO:fetch_data:Retrieved 75 messages total...\n"
     ]
    },
    {
     "name": "stdout",
     "output_type": "stream",
     "text": [
      "Collecting connections metadata for FID: 10000\n",
      "Added connections metadata to user data for FID: 10000\n"
     ]
    },
    {
     "name": "stderr",
     "output_type": "stream",
     "text": [
      "INFO:fetch_data:Successfully uploaded user_user_10000_data.json_data.json to cloud-cartography\n"
     ]
    },
    {
     "name": "stdout",
     "output_type": "stream",
     "text": [
      "Successfully uploaded data for FID: 10000 to S3.\n",
      "Completed processing for FID: 10000\n",
      "\n",
      "Finished processing 1 out of 1 users.\n"
     ]
    }
   ],
   "source": [
    "get_important_users(og_fids)"
   ]
  },
  {
   "cell_type": "markdown",
   "id": "1177c40e-337a-45a3-ac17-33704b70c755",
   "metadata": {},
   "source": [
    "## AWS Helpers"
   ]
  },
  {
   "cell_type": "markdown",
   "id": "5a1cd4ce-a662-4c3a-a89c-639118e1844e",
   "metadata": {},
   "source": [
    "## Get data"
   ]
  },
  {
   "cell_type": "markdown",
   "id": "72b70eb3-b2d0-4c5d-85f0-69677ea2c2c1",
   "metadata": {},
   "source": [
    "### Data fetcher instance"
   ]
  },
  {
   "cell_type": "code",
   "execution_count": null,
   "id": "4ba29ce0-b91a-4f2c-b0fe-3d11fa112b37",
   "metadata": {},
   "outputs": [],
   "source": [
    "fetcher = DataFetcher(data_dir='data/raw/')\n"
   ]
  },
  {
   "cell_type": "code",
   "execution_count": null,
   "id": "fd0cd8a6-0347-4004-85b4-d7bcdeb097be",
   "metadata": {},
   "outputs": [],
   "source": [
    "og_fids = [str(i) for i in range(5,10000)]"
   ]
  },
  {
   "cell_type": "markdown",
   "id": "d82897d4-e3c2-4dcd-84c7-e16f6804cfdf",
   "metadata": {},
   "source": [
    "### Get all users"
   ]
  },
  {
   "cell_type": "markdown",
   "id": "9427abb8-6f5e-44d2-8f56-f53765d4fe19",
   "metadata": {},
   "source": [
    "### Get user data on followers with fids > 50,000"
   ]
  },
  {
   "cell_type": "code",
   "execution_count": null,
   "id": "048827e6-f775-48d5-877f-a303e893e202",
   "metadata": {},
   "outputs": [],
   "source": [
    "SOMEHOW JOIN IT INTO THE ORIGINAL JSONS????\n",
    "OR FIGURE OUT ANOTHER WAY TO DO IT"
   ]
  },
  {
   "cell_type": "markdown",
   "id": "f954eab4-5d60-4c6e-834e-5b19eac21c96",
   "metadata": {},
   "source": [
    "## Integrate into app!"
   ]
  },
  {
   "cell_type": "code",
   "execution_count": null,
   "id": "d1c78444-3785-4466-b5eb-7f01e7cadf8b",
   "metadata": {},
   "outputs": [],
   "source": [
    "In build graph"
   ]
  }
 ],
 "metadata": {
  "kernelspec": {
   "display_name": "Python 3 (ipykernel)",
   "language": "python",
   "name": "python3"
  },
  "language_info": {
   "codemirror_mode": {
    "name": "ipython",
    "version": 3
   },
   "file_extension": ".py",
   "mimetype": "text/x-python",
   "name": "python",
   "nbconvert_exporter": "python",
   "pygments_lexer": "ipython3",
   "version": "3.10.0"
  }
 },
 "nbformat": 4,
 "nbformat_minor": 5
}
