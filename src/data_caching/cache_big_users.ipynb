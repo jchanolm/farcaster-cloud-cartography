{
 "cells": [
  {
   "cell_type": "code",
   "execution_count": 21,
   "id": "f4767a80-26f3-4597-b67e-4a319331afb5",
   "metadata": {},
   "outputs": [
    {
     "data": {
      "text/plain": [
       "True"
      ]
     },
     "execution_count": 21,
     "metadata": {},
     "output_type": "execute_result"
    }
   ],
   "source": [
    "import os \n",
    "import sys\n",
    "import requests\n",
    "import json\n",
    "from dotenv import load_dotenv \n",
    "\n",
    "load_dotenv()"
   ]
  },
  {
   "cell_type": "code",
   "execution_count": null,
   "id": "1798d680",
   "metadata": {},
   "outputs": [],
   "source": [
    "from src.data_ingestion.fetch_data import fetch_all_users_data"
   ]
  },
  {
   "cell_type": "markdown",
   "id": "1177c40e-337a-45a3-ac17-33704b70c755",
   "metadata": {},
   "source": [
    "## AWS Helpers"
   ]
  },
  {
   "cell_type": "code",
   "execution_count": 8,
   "id": "d2ced9f2-00d5-4bc8-a97c-d6468ea48505",
   "metadata": {
    "jupyter": {
     "source_hidden": true
    }
   },
   "outputs": [],
   "source": [
    "AWS_ACCESS_KEY_ID = os.getenv('AWS_ACCESS_KEY')\n",
    "AWS_SECRET_ACCESS_KEY = os.getenv('AWS_SECRET_ACCESS_KEY')\n",
    "BUCKET_NAME = 'cloud-cartography'"
   ]
  },
  {
   "cell_type": "code",
   "execution_count": 18,
   "id": "67f757e1-4855-4a77-805c-d1be13caf6e2",
   "metadata": {
    "jupyter": {
     "source_hidden": true
    }
   },
   "outputs": [],
   "source": [
    "import boto3\n",
    "from botocore.exceptions import NoCredentialsError, ClientError\n",
    "\n",
    "def upload_json_to_s3(data, s3_key, bucket_name=BUCKET_NAME,\n",
    "                      aws_access_key_id=AWS_ACCESS_KEY_ID,\n",
    "                      aws_secret_access_key=AWS_SECRET_ACCESS_KEY,\n",
    "                      region_name='us-east-1'):\n",
    "    try:\n",
    "        s3_client = boto3.client(\n",
    "            's3',\n",
    "            region_name=region_name,\n",
    "            aws_access_key_id=aws_access_key_id,\n",
    "            aws_secret_access_key=aws_secret_access_key\n",
    "        )\n",
    "        \n",
    "        # Convert data to JSON string\n",
    "        json_data = json.dumps(data)\n",
    "        \n",
    "        # Upload JSON data\n",
    "        s3_client.put_object(\n",
    "            Bucket=bucket_name,\n",
    "            Key=s3_key,\n",
    "            Body=json_data,\n",
    "            ContentType='application/json',\n",
    "            ACL='public-read'  # Makes the file publicly readable\n",
    "        )\n",
    "        \n",
    "        print(f\"Successfully uploaded {s3_key} to {bucket_name}\")\n",
    "        return True\n",
    "    except (NoCredentialsError, ClientError) as e:\n",
    "        print(f\"Failed to upload {s3_key} to {bucket_name}. Error: {e}\")\n",
    "        return False\n",
    "\n"
   ]
  },
  {
   "cell_type": "code",
   "execution_count": 20,
   "id": "1281bde2-6f80-4143-9dc5-e99727406e0d",
   "metadata": {},
   "outputs": [
    {
     "name": "stdout",
     "output_type": "stream",
     "text": [
      "Successfully uploaded user_190000_data.json to cloud-cartography\n"
     ]
    },
    {
     "data": {
      "text/plain": [
       "True"
      ]
     },
     "execution_count": 20,
     "metadata": {},
     "output_type": "execute_result"
    }
   ],
   "source": [
    "upload_json_to_s3(data=far,s3_key=far_filename)"
   ]
  },
  {
   "cell_type": "markdown",
   "id": "72b70eb3-b2d0-4c5d-85f0-69677ea2c2c1",
   "metadata": {},
   "source": [
    "## Data fetching helpers"
   ]
  },
  {
   "cell_type": "code",
   "execution_count": 26,
   "id": "4ba29ce0-b91a-4f2c-b0fe-3d11fa112b37",
   "metadata": {},
   "outputs": [
    {
     "ename": "AttributeError",
     "evalue": "module 'os' has no attribute 'cwd'",
     "output_type": "error",
     "traceback": [
      "\u001b[0;31m---------------------------------------------------------------------------\u001b[0m",
      "\u001b[0;31mAttributeError\u001b[0m                            Traceback (most recent call last)",
      "Cell \u001b[0;32mIn[26], line 1\u001b[0m\n\u001b[0;32m----> 1\u001b[0m \u001b[43mos\u001b[49m\u001b[38;5;241;43m.\u001b[39;49m\u001b[43mcwd\u001b[49m()\n",
      "\u001b[0;31mAttributeError\u001b[0m: module 'os' has no attribute 'cwd'"
     ]
    }
   ],
   "source": [
    "os.p()"
   ]
  }
 ],
 "metadata": {
  "kernelspec": {
   "display_name": "Python 3 (ipykernel)",
   "language": "python",
   "name": "python3"
  },
  "language_info": {
   "codemirror_mode": {
    "name": "ipython",
    "version": 3
   },
   "file_extension": ".py",
   "mimetype": "text/x-python",
   "name": "python",
   "nbconvert_exporter": "python",
   "pygments_lexer": "ipython3",
   "version": "3.10.0"
  }
 },
 "nbformat": 4,
 "nbformat_minor": 5
}
