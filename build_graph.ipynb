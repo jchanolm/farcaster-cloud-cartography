{
 "cells": [
  {
   "cell_type": "code",
   "execution_count": null,
   "id": "fee66b51-af71-40f3-b56b-38bc814049ef",
   "metadata": {},
   "outputs": [],
   "source": [
    "import networkx as nx\n",
    "\n",
    "def create_subgraph_for_user_dicts(user_dicts=None):\n",
    "    G = nx.MultiDiGraph() \n",
    "    for user in user_dicts:\n",
    "        user_fid = user['fid']\n",
    "        G.add_node(user['fid'])\n",
    "        for follower in user['fid_followers']:\n",
    "            G.add_node(follower['fid'])\n",
    "            G.add_edge(follower['fid'], user_fid)\n",
    "        for following in user['fid_following']:\n",
    "            G.add_node(following['fid'])\n",
    "            G.add_edge(user_fid, following['fid'])\n",
    "    return G\n",
    "        \n"
   ]
  }
 ],
 "metadata": {
  "kernelspec": {
   "display_name": "Python 3 (ipykernel)",
   "language": "python",
   "name": "python3"
  },
  "language_info": {
   "codemirror_mode": {
    "name": "ipython",
    "version": 3
   },
   "file_extension": ".py",
   "mimetype": "text/x-python",
   "name": "python",
   "nbconvert_exporter": "python",
   "pygments_lexer": "ipython3",
   "version": "3.10.0"
  }
 },
 "nbformat": 4,
 "nbformat_minor": 5
}
